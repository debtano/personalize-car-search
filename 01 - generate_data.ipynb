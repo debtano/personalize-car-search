{
 "cells": [
  {
   "cell_type": "markdown",
   "metadata": {},
   "source": [
    "# Generate user, item, and interaction datasets for car search domain\n",
    "This notebook is one of several provided to demonstrate the use of Amazon Personalize to \n",
    "provide recommendations for users searching for cars. This notebook generates the user, item, \n",
    "and interactions data, saves them as local csv files, and uploads them to S3 for use\n",
    "in creating Personalize datasets to drive Personalize recommendation models.\n",
    "\n",
    "A denormalized form of the interaction data is also saved for use in testing the models\n",
    "and evaluating the resulting recommendations."
   ]
  },
  {
   "cell_type": "code",
   "execution_count": 110,
   "metadata": {},
   "outputs": [],
   "source": [
    "import numpy as np\n",
    "import pandas as pd\n",
    "import json\n",
    "from datetime import datetime\n",
    "import matplotlib.pyplot as plt\n",
    "from sklearn.utils import shuffle"
   ]
  },
  {
   "cell_type": "code",
   "execution_count": 111,
   "metadata": {},
   "outputs": [],
   "source": [
    "import boto3\n",
    "\n",
    "cars_filename         = 'car_items.csv'\n",
    "users_filename        = 'users.csv'\n",
    "interactions_filename = 'interactions.csv'\n",
    "int_exp_filename      = 'interactions_expanded.csv'\n",
    "\n",
    "bucket   = 'roymark-aws-ml'\n",
    "prefix   = 'personalize/v10'"
   ]
  },
  {
   "cell_type": "markdown",
   "metadata": {},
   "source": [
    "## Define size for each generated dataset"
   ]
  },
  {
   "cell_type": "code",
   "execution_count": 112,
   "metadata": {},
   "outputs": [],
   "source": [
    "NUM_INTERACTIONS = 750000\n",
    "NUM_CARS         = 50000\n",
    "NUM_USERS        = 30000"
   ]
  },
  {
   "cell_type": "markdown",
   "metadata": {},
   "source": [
    "## Define various other parameters"
   ]
  },
  {
   "cell_type": "markdown",
   "metadata": {},
   "source": [
    "Generated interactions are built as a set of \"sessions\". Each session is associated with\n",
    "a single user and multiple car interactions. The timestamp for each interaction is \n",
    "separated by a configurable number of seconds."
   ]
  },
  {
   "cell_type": "code",
   "execution_count": 113,
   "metadata": {},
   "outputs": [],
   "source": [
    "SESSION_LEN      = 10\n",
    "SESSION_DELAY_SECONDS = 2 * 60 # 2 minutes"
   ]
  },
  {
   "cell_type": "markdown",
   "metadata": {},
   "source": [
    "Define other parameters to control metadata for each car item."
   ]
  },
  {
   "cell_type": "code",
   "execution_count": 114,
   "metadata": {},
   "outputs": [],
   "source": [
    "MIN_YEAR    = 2009\n",
    "MAX_YEAR    = 2019\n",
    "MID_YEAR    = MIN_YEAR + ((MAX_YEAR - MIN_YEAR) // 2)\n",
    "\n",
    "MIN_MILEAGE = 1000\n",
    "MAX_MILEAGE = 200000\n",
    "MILES_PER_YEAR = 15000\n",
    "\n",
    "COLORS      = ['Red', 'Black', 'White', 'Blue']"
   ]
  },
  {
   "cell_type": "code",
   "execution_count": 115,
   "metadata": {},
   "outputs": [
    {
     "data": {
      "text/plain": [
       "2014"
      ]
     },
     "execution_count": 115,
     "metadata": {},
     "output_type": "execute_result"
    }
   ],
   "source": [
    "MID_YEAR"
   ]
  },
  {
   "cell_type": "markdown",
   "metadata": {},
   "source": [
    "## Configure the set of car makes and models, plus zip codes"
   ]
  },
  {
   "cell_type": "markdown",
   "metadata": {},
   "source": [
    "The car item data is driven by a configurable set of models. You can define which\n",
    "makes and models are used by editing the `models.csv` file provided."
   ]
  },
  {
   "cell_type": "code",
   "execution_count": 116,
   "metadata": {},
   "outputs": [
    {
     "name": "stdout",
     "output_type": "stream",
     "text": [
      "(10, 4)\n"
     ]
    },
    {
     "data": {
      "text/html": [
       "<div>\n",
       "<style scoped>\n",
       "    .dataframe tbody tr th:only-of-type {\n",
       "        vertical-align: middle;\n",
       "    }\n",
       "\n",
       "    .dataframe tbody tr th {\n",
       "        vertical-align: top;\n",
       "    }\n",
       "\n",
       "    .dataframe thead th {\n",
       "        text-align: right;\n",
       "    }\n",
       "</style>\n",
       "<table border=\"1\" class=\"dataframe\">\n",
       "  <thead>\n",
       "    <tr style=\"text-align: right;\">\n",
       "      <th></th>\n",
       "      <th>MAKE</th>\n",
       "      <th>MODEL</th>\n",
       "      <th>NUM_DOORS</th>\n",
       "      <th>BODY_TYPE</th>\n",
       "    </tr>\n",
       "  </thead>\n",
       "  <tbody>\n",
       "    <tr>\n",
       "      <th>1</th>\n",
       "      <td>Toyota</td>\n",
       "      <td>Sienna</td>\n",
       "      <td>4</td>\n",
       "      <td>minivan</td>\n",
       "    </tr>\n",
       "    <tr>\n",
       "      <th>8</th>\n",
       "      <td>Nissan</td>\n",
       "      <td>Rogue</td>\n",
       "      <td>4</td>\n",
       "      <td>suv</td>\n",
       "    </tr>\n",
       "    <tr>\n",
       "      <th>7</th>\n",
       "      <td>Nissan</td>\n",
       "      <td>Altima</td>\n",
       "      <td>4</td>\n",
       "      <td>sedan</td>\n",
       "    </tr>\n",
       "    <tr>\n",
       "      <th>0</th>\n",
       "      <td>Toyota</td>\n",
       "      <td>Camry</td>\n",
       "      <td>4</td>\n",
       "      <td>sedan</td>\n",
       "    </tr>\n",
       "    <tr>\n",
       "      <th>4</th>\n",
       "      <td>Ford</td>\n",
       "      <td>Fusion</td>\n",
       "      <td>4</td>\n",
       "      <td>sedan</td>\n",
       "    </tr>\n",
       "    <tr>\n",
       "      <th>6</th>\n",
       "      <td>Ford</td>\n",
       "      <td>Explorer</td>\n",
       "      <td>4</td>\n",
       "      <td>suv</td>\n",
       "    </tr>\n",
       "    <tr>\n",
       "      <th>3</th>\n",
       "      <td>Toyota</td>\n",
       "      <td>Prius</td>\n",
       "      <td>4</td>\n",
       "      <td>sedan</td>\n",
       "    </tr>\n",
       "    <tr>\n",
       "      <th>9</th>\n",
       "      <td>Nissan</td>\n",
       "      <td>Leaf</td>\n",
       "      <td>4</td>\n",
       "      <td>sedan</td>\n",
       "    </tr>\n",
       "    <tr>\n",
       "      <th>5</th>\n",
       "      <td>Ford</td>\n",
       "      <td>Mustang</td>\n",
       "      <td>4</td>\n",
       "      <td>sedan</td>\n",
       "    </tr>\n",
       "    <tr>\n",
       "      <th>2</th>\n",
       "      <td>Toyota</td>\n",
       "      <td>Rav4</td>\n",
       "      <td>4</td>\n",
       "      <td>suv</td>\n",
       "    </tr>\n",
       "  </tbody>\n",
       "</table>\n",
       "</div>"
      ],
      "text/plain": [
       "     MAKE     MODEL  NUM_DOORS BODY_TYPE\n",
       "1  Toyota    Sienna          4   minivan\n",
       "8  Nissan     Rogue          4       suv\n",
       "7  Nissan    Altima          4     sedan\n",
       "0  Toyota     Camry          4     sedan\n",
       "4    Ford    Fusion          4     sedan\n",
       "6    Ford  Explorer          4       suv\n",
       "3  Toyota     Prius          4     sedan\n",
       "9  Nissan      Leaf          4     sedan\n",
       "5    Ford   Mustang          4     sedan\n",
       "2  Toyota      Rav4          4       suv"
      ]
     },
     "execution_count": 116,
     "metadata": {},
     "output_type": "execute_result"
    }
   ],
   "source": [
    "models_df = pd.read_csv('models.csv')\n",
    "models_df = shuffle(models_df)\n",
    "print(models_df.shape)\n",
    "\n",
    "NUM_MODELS = models_df.shape[0]\n",
    "NUM_CLUSTERS = NUM_MODELS * 2  # for each model, have an old car cluster and new car cluster\n",
    "models_df.head(NUM_MODELS)"
   ]
  },
  {
   "cell_type": "markdown",
   "metadata": {},
   "source": [
    "The demo does not fully leverage location data for users and cars, but partial support\n",
    "is provided in anticipation of adding that to the demo in the future."
   ]
  },
  {
   "cell_type": "code",
   "execution_count": 117,
   "metadata": {},
   "outputs": [
    {
     "name": "stdout",
     "output_type": "stream",
     "text": [
      "(100, 3)\n"
     ]
    },
    {
     "data": {
      "text/html": [
       "<div>\n",
       "<style scoped>\n",
       "    .dataframe tbody tr th:only-of-type {\n",
       "        vertical-align: middle;\n",
       "    }\n",
       "\n",
       "    .dataframe tbody tr th {\n",
       "        vertical-align: top;\n",
       "    }\n",
       "\n",
       "    .dataframe thead th {\n",
       "        text-align: right;\n",
       "    }\n",
       "</style>\n",
       "<table border=\"1\" class=\"dataframe\">\n",
       "  <thead>\n",
       "    <tr style=\"text-align: right;\">\n",
       "      <th></th>\n",
       "      <th>ZIP_CODE</th>\n",
       "      <th>CITY</th>\n",
       "      <th>INCOME</th>\n",
       "    </tr>\n",
       "  </thead>\n",
       "  <tbody>\n",
       "    <tr>\n",
       "      <th>0</th>\n",
       "      <td>79936</td>\n",
       "      <td>El Paso TX</td>\n",
       "      <td>42857</td>\n",
       "    </tr>\n",
       "    <tr>\n",
       "      <th>1</th>\n",
       "      <td>90011</td>\n",
       "      <td>Los Angeles CA</td>\n",
       "      <td>23851</td>\n",
       "    </tr>\n",
       "    <tr>\n",
       "      <th>2</th>\n",
       "      <td>60629</td>\n",
       "      <td>Chicago IL</td>\n",
       "      <td>40279</td>\n",
       "    </tr>\n",
       "    <tr>\n",
       "      <th>3</th>\n",
       "      <td>90650</td>\n",
       "      <td>Norwalk CA</td>\n",
       "      <td>46012</td>\n",
       "    </tr>\n",
       "    <tr>\n",
       "      <th>4</th>\n",
       "      <td>90201</td>\n",
       "      <td>Bell Gardens CA</td>\n",
       "      <td>30029</td>\n",
       "    </tr>\n",
       "  </tbody>\n",
       "</table>\n",
       "</div>"
      ],
      "text/plain": [
       "   ZIP_CODE             CITY  INCOME\n",
       "0     79936       El Paso TX   42857\n",
       "1     90011   Los Angeles CA   23851\n",
       "2     60629       Chicago IL   40279\n",
       "3     90650       Norwalk CA   46012\n",
       "4     90201  Bell Gardens CA   30029"
      ]
     },
     "execution_count": 117,
     "metadata": {},
     "output_type": "execute_result"
    }
   ],
   "source": [
    "zip_codes_df = pd.read_csv('zip_codes.csv')\n",
    "print(zip_codes_df.shape)\n",
    "zip_codes_df.head()"
   ]
  },
  {
   "cell_type": "markdown",
   "metadata": {},
   "source": [
    "## Generate data for the cars (items) dataset"
   ]
  },
  {
   "cell_type": "markdown",
   "metadata": {},
   "source": [
    "### Generate make and model\n",
    "Here we provide a normal distribution of Make/Model for our generated set of cars.\n",
    "The mean is the midpoint of the number of total models, and the standard deviation is \n",
    "a quarter of the number of models. We make sure that no generated model falls outside the\n",
    "bounds of the actual number of models."
   ]
  },
  {
   "cell_type": "code",
   "execution_count": 118,
   "metadata": {},
   "outputs": [],
   "source": [
    "def gen_normal_make_and_model():\n",
    "    _idx = int(np.random.normal(NUM_MODELS // 2, NUM_MODELS // 4))\n",
    "    _idx = min(NUM_MODELS - 1, _idx)\n",
    "    _idx = max(0, _idx)\n",
    "    return _idx"
   ]
  },
  {
   "cell_type": "markdown",
   "metadata": {},
   "source": [
    "### Generate price\n",
    "Here we determine a random price pased on age and miles."
   ]
  },
  {
   "cell_type": "code",
   "execution_count": 119,
   "metadata": {},
   "outputs": [],
   "source": [
    "def gen_price(age, miles):\n",
    "    _price = 40000 - (3000 * age) + np.random.randint(0, 10000)\n",
    "    _price = max(10000, _price)\n",
    "    return _price"
   ]
  },
  {
   "cell_type": "markdown",
   "metadata": {},
   "source": [
    "### Core function for generating cars (items)\n",
    "Here we generate the set of items / cars to be recommended. We normally distribute the \n",
    "year of manufacture, and generate a random set of miles driven by the age of the car."
   ]
  },
  {
   "cell_type": "code",
   "execution_count": 120,
   "metadata": {},
   "outputs": [],
   "source": [
    "def gen_cars(num_cars):\n",
    "    _car_inventory = []\n",
    "    \n",
    "    for i in range(num_cars):\n",
    "        _year      = int(np.random.normal(2014, 2))\n",
    "        _year      = min(MAX_YEAR, _year)\n",
    "        \n",
    "        _age       = MAX_YEAR - _year\n",
    "        _mileage   = (MILES_PER_YEAR * _age) + np.random.randint(0, 10000)\n",
    "        _price     = gen_price(_age, _mileage) \n",
    "\n",
    "        _model_idx = gen_normal_make_and_model()\n",
    "        \n",
    "#        _color_idx = np.random.randint(0, len(COLORS))\n",
    "#        _loc_idx   = np.random.randint(0, _zip_len)\n",
    "        \n",
    "        _this_car = [str(i), models_df.iloc[_model_idx][0].strip(), \n",
    "                     models_df.iloc[_model_idx][1].strip(),\n",
    "                     str(_year), _mileage, _price]\n",
    "        #, COLORS[_color_idx], zip_codes_df.iloc[_loc_idx][0]]\n",
    "\n",
    "        _car_inventory.append(_this_car)\n",
    "\n",
    "    # not including color and location, due to personalize limit on num fields\n",
    "    _df = pd.DataFrame(_car_inventory, columns=['ITEM_ID', 'MAKE', 'MODEL', \n",
    "                                                'YEAR', 'MILEAGE', 'PRICE'])\n",
    "    return _df"
   ]
  },
  {
   "cell_type": "code",
   "execution_count": 121,
   "metadata": {},
   "outputs": [
    {
     "name": "stdout",
     "output_type": "stream",
     "text": [
      "(50000, 6)\n"
     ]
    },
    {
     "data": {
      "text/html": [
       "<div>\n",
       "<style scoped>\n",
       "    .dataframe tbody tr th:only-of-type {\n",
       "        vertical-align: middle;\n",
       "    }\n",
       "\n",
       "    .dataframe tbody tr th {\n",
       "        vertical-align: top;\n",
       "    }\n",
       "\n",
       "    .dataframe thead th {\n",
       "        text-align: right;\n",
       "    }\n",
       "</style>\n",
       "<table border=\"1\" class=\"dataframe\">\n",
       "  <thead>\n",
       "    <tr style=\"text-align: right;\">\n",
       "      <th></th>\n",
       "      <th>ITEM_ID</th>\n",
       "      <th>MAKE</th>\n",
       "      <th>MODEL</th>\n",
       "      <th>YEAR</th>\n",
       "      <th>MILEAGE</th>\n",
       "      <th>PRICE</th>\n",
       "    </tr>\n",
       "  </thead>\n",
       "  <tbody>\n",
       "    <tr>\n",
       "      <th>0</th>\n",
       "      <td>0</td>\n",
       "      <td>Nissan</td>\n",
       "      <td>Altima</td>\n",
       "      <td>2015</td>\n",
       "      <td>69411</td>\n",
       "      <td>30351</td>\n",
       "    </tr>\n",
       "    <tr>\n",
       "      <th>1</th>\n",
       "      <td>1</td>\n",
       "      <td>Toyota</td>\n",
       "      <td>Camry</td>\n",
       "      <td>2017</td>\n",
       "      <td>38697</td>\n",
       "      <td>42196</td>\n",
       "    </tr>\n",
       "    <tr>\n",
       "      <th>2</th>\n",
       "      <td>2</td>\n",
       "      <td>Toyota</td>\n",
       "      <td>Camry</td>\n",
       "      <td>2015</td>\n",
       "      <td>68810</td>\n",
       "      <td>29669</td>\n",
       "    </tr>\n",
       "    <tr>\n",
       "      <th>3</th>\n",
       "      <td>3</td>\n",
       "      <td>Nissan</td>\n",
       "      <td>Altima</td>\n",
       "      <td>2015</td>\n",
       "      <td>67221</td>\n",
       "      <td>33381</td>\n",
       "    </tr>\n",
       "    <tr>\n",
       "      <th>4</th>\n",
       "      <td>4</td>\n",
       "      <td>Ford</td>\n",
       "      <td>Fusion</td>\n",
       "      <td>2009</td>\n",
       "      <td>151261</td>\n",
       "      <td>11035</td>\n",
       "    </tr>\n",
       "  </tbody>\n",
       "</table>\n",
       "</div>"
      ],
      "text/plain": [
       "  ITEM_ID    MAKE   MODEL  YEAR  MILEAGE  PRICE\n",
       "0       0  Nissan  Altima  2015    69411  30351\n",
       "1       1  Toyota   Camry  2017    38697  42196\n",
       "2       2  Toyota   Camry  2015    68810  29669\n",
       "3       3  Nissan  Altima  2015    67221  33381\n",
       "4       4    Ford  Fusion  2009   151261  11035"
      ]
     },
     "execution_count": 121,
     "metadata": {},
     "output_type": "execute_result"
    }
   ],
   "source": [
    "cars_df = gen_cars(NUM_CARS)\n",
    "print(cars_df.shape)\n",
    "cars_df.head()"
   ]
  },
  {
   "cell_type": "code",
   "execution_count": 122,
   "metadata": {},
   "outputs": [],
   "source": [
    "cars_df.to_csv(cars_filename, index=False)\n",
    "boto3.Session().resource('s3').Bucket(bucket).Object('{}/{}'.format(prefix, cars_filename)).upload_file(cars_filename)"
   ]
  },
  {
   "cell_type": "markdown",
   "metadata": {},
   "source": [
    "### Look at distribution of each car (item) feature"
   ]
  },
  {
   "cell_type": "code",
   "execution_count": 123,
   "metadata": {},
   "outputs": [
    {
     "data": {
      "text/plain": [
       "Ford      21225\n",
       "Toyota    17248\n",
       "Nissan    11527\n",
       "Name: MAKE, dtype: int64"
      ]
     },
     "execution_count": 123,
     "metadata": {},
     "output_type": "execute_result"
    }
   ],
   "source": [
    "cars_df['MAKE'].value_counts()"
   ]
  },
  {
   "cell_type": "code",
   "execution_count": 124,
   "metadata": {},
   "outputs": [
    {
     "data": {
      "text/plain": [
       "Fusion      9563\n",
       "Explorer    9432\n",
       "Prius       7499\n",
       "Camry       7458\n",
       "Leaf        4669\n",
       "Altima      4667\n",
       "Mustang     2230\n",
       "Rogue       2191\n",
       "Rav4        1159\n",
       "Sienna      1132\n",
       "Name: MODEL, dtype: int64"
      ]
     },
     "execution_count": 124,
     "metadata": {},
     "output_type": "execute_result"
    }
   ],
   "source": [
    "cars_df['MODEL'].value_counts()"
   ]
  },
  {
   "cell_type": "code",
   "execution_count": 125,
   "metadata": {},
   "outputs": [
    {
     "data": {
      "text/plain": [
       "<matplotlib.axes._subplots.AxesSubplot at 0x7fcaef18e668>"
      ]
     },
     "execution_count": 125,
     "metadata": {},
     "output_type": "execute_result"
    },
    {
     "data": {
      "image/png": "[encoded data removed]",
      "text/plain": [
       "<Figure size 432x288 with 1 Axes>"
      ]
     },
     "metadata": {},
     "output_type": "display_data"
    }
   ],
   "source": [
    "cars_df['MILEAGE'].hist()"
   ]
  },
  {
   "cell_type": "code",
   "execution_count": 126,
   "metadata": {},
   "outputs": [
    {
     "data": {
      "text/plain": [
       "<matplotlib.axes._subplots.AxesSubplot at 0x7fcaeee28a90>"
      ]
     },
     "execution_count": 126,
     "metadata": {},
     "output_type": "execute_result"
    },
    {
     "data": {
      "image/png": "[encoded data removed]",
      "text/plain": [
       "<Figure size 432x288 with 1 Axes>"
      ]
     },
     "metadata": {},
     "output_type": "display_data"
    }
   ],
   "source": [
    "cars_df['PRICE'].hist()"
   ]
  },
  {
   "cell_type": "markdown",
   "metadata": {},
   "source": [
    "## Generate data for users dataset\n",
    "Here we normally distribute age of users, and uniformly distribute gender and location."
   ]
  },
  {
   "cell_type": "code",
   "execution_count": 127,
   "metadata": {},
   "outputs": [],
   "source": [
    "def gen_users(num_users):\n",
    "    _users = []\n",
    "    \n",
    "    _zip_len = zip_codes_df.shape[0]\n",
    "    \n",
    "    for i in range(num_users):\n",
    "        _age        = int(np.random.normal(40, 4))\n",
    "        _gender_idx = np.random.randint(0, 2)\n",
    "        _loc_idx    = np.random.randint(0, _zip_len)\n",
    "        if _gender_idx == 0:\n",
    "            _gender = 'MALE'\n",
    "        else:\n",
    "            _gender = 'FEMALE'\n",
    "            \n",
    "        _this_user = [str(i), _age, _gender, \n",
    "                      str(zip_codes_df.iloc[_loc_idx][0]), \n",
    "                      zip_codes_df.iloc[_loc_idx][2]]\n",
    "        \n",
    "        _users.append(_this_user)\n",
    "        \n",
    "    _df = pd.DataFrame(_users, columns=['USER_ID', 'AGE', 'GENDER', 'LOCATION', 'SALARY'])\n",
    "    return _df"
   ]
  },
  {
   "cell_type": "code",
   "execution_count": 128,
   "metadata": {},
   "outputs": [
    {
     "name": "stdout",
     "output_type": "stream",
     "text": [
      "(30000, 5)\n"
     ]
    },
    {
     "data": {
      "text/html": [
       "<div>\n",
       "<style scoped>\n",
       "    .dataframe tbody tr th:only-of-type {\n",
       "        vertical-align: middle;\n",
       "    }\n",
       "\n",
       "    .dataframe tbody tr th {\n",
       "        vertical-align: top;\n",
       "    }\n",
       "\n",
       "    .dataframe thead th {\n",
       "        text-align: right;\n",
       "    }\n",
       "</style>\n",
       "<table border=\"1\" class=\"dataframe\">\n",
       "  <thead>\n",
       "    <tr style=\"text-align: right;\">\n",
       "      <th></th>\n",
       "      <th>USER_ID</th>\n",
       "      <th>AGE</th>\n",
       "      <th>GENDER</th>\n",
       "      <th>LOCATION</th>\n",
       "      <th>SALARY</th>\n",
       "    </tr>\n",
       "  </thead>\n",
       "  <tbody>\n",
       "    <tr>\n",
       "      <th>0</th>\n",
       "      <td>0</td>\n",
       "      <td>33</td>\n",
       "      <td>MALE</td>\n",
       "      <td>11230</td>\n",
       "      <td>32327</td>\n",
       "    </tr>\n",
       "    <tr>\n",
       "      <th>1</th>\n",
       "      <td>1</td>\n",
       "      <td>41</td>\n",
       "      <td>FEMALE</td>\n",
       "      <td>90201</td>\n",
       "      <td>30029</td>\n",
       "    </tr>\n",
       "    <tr>\n",
       "      <th>2</th>\n",
       "      <td>2</td>\n",
       "      <td>32</td>\n",
       "      <td>MALE</td>\n",
       "      <td>92336</td>\n",
       "      <td>55340</td>\n",
       "    </tr>\n",
       "    <tr>\n",
       "      <th>3</th>\n",
       "      <td>3</td>\n",
       "      <td>43</td>\n",
       "      <td>FEMALE</td>\n",
       "      <td>77584</td>\n",
       "      <td>70113</td>\n",
       "    </tr>\n",
       "    <tr>\n",
       "      <th>4</th>\n",
       "      <td>4</td>\n",
       "      <td>39</td>\n",
       "      <td>MALE</td>\n",
       "      <td>10458</td>\n",
       "      <td>22072</td>\n",
       "    </tr>\n",
       "  </tbody>\n",
       "</table>\n",
       "</div>"
      ],
      "text/plain": [
       "  USER_ID  AGE  GENDER LOCATION  SALARY\n",
       "0       0   33    MALE    11230   32327\n",
       "1       1   41  FEMALE    90201   30029\n",
       "2       2   32    MALE    92336   55340\n",
       "3       3   43  FEMALE    77584   70113\n",
       "4       4   39    MALE    10458   22072"
      ]
     },
     "execution_count": 128,
     "metadata": {},
     "output_type": "execute_result"
    }
   ],
   "source": [
    "users_df = gen_users(NUM_USERS)\n",
    "print(users_df.shape)\n",
    "users_df.head()"
   ]
  },
  {
   "cell_type": "markdown",
   "metadata": {},
   "source": [
    "### Look at the distribution of each user feature"
   ]
  },
  {
   "cell_type": "code",
   "execution_count": 129,
   "metadata": {},
   "outputs": [
    {
     "data": {
      "text/plain": [
       "<matplotlib.axes._subplots.AxesSubplot at 0x7fcaec47fc18>"
      ]
     },
     "execution_count": 129,
     "metadata": {},
     "output_type": "execute_result"
    },
    {
     "data": {
      "image/png": "[encoded data removed]",
      "text/plain": [
       "<Figure size 432x288 with 1 Axes>"
      ]
     },
     "metadata": {},
     "output_type": "display_data"
    }
   ],
   "source": [
    "users_df['AGE'].hist()"
   ]
  },
  {
   "cell_type": "code",
   "execution_count": 130,
   "metadata": {},
   "outputs": [
    {
     "data": {
      "text/plain": [
       "926      345\n",
       "94565    338\n",
       "77584    336\n",
       "90805    333\n",
       "79936    331\n",
       "10452    331\n",
       "75211    325\n",
       "10025    324\n",
       "95823    324\n",
       "11235    324\n",
       "Name: LOCATION, dtype: int64"
      ]
     },
     "execution_count": 130,
     "metadata": {},
     "output_type": "execute_result"
    }
   ],
   "source": [
    "users_df['LOCATION'].value_counts()[0:10]"
   ]
  },
  {
   "cell_type": "code",
   "execution_count": 131,
   "metadata": {},
   "outputs": [
    {
     "data": {
      "text/plain": [
       "<matplotlib.axes._subplots.AxesSubplot at 0x7fcaf37a95f8>"
      ]
     },
     "execution_count": 131,
     "metadata": {},
     "output_type": "execute_result"
    },
    {
     "data": {
      "image/png": "[encoded data removed]",
      "text/plain": [
       "<Figure size 432x288 with 1 Axes>"
      ]
     },
     "metadata": {},
     "output_type": "display_data"
    }
   ],
   "source": [
    "users_df['SALARY'].hist()"
   ]
  },
  {
   "cell_type": "code",
   "execution_count": 132,
   "metadata": {},
   "outputs": [],
   "source": [
    "users_df.to_csv(users_filename, index=False)\n",
    "boto3.Session().resource('s3').Bucket(bucket).Object('{}/{}'.format(prefix, users_filename)).upload_file(users_filename)"
   ]
  },
  {
   "cell_type": "code",
   "execution_count": 133,
   "metadata": {},
   "outputs": [
    {
     "name": "stdout",
     "output_type": "stream",
     "text": [
      "Car count: 50000, User count: 30000\n"
     ]
    }
   ],
   "source": [
    "print('Car count: {}, User count: {}'.format(NUM_CARS, NUM_USERS))"
   ]
  },
  {
   "cell_type": "markdown",
   "metadata": {},
   "source": [
    "## Generate interactions dataset"
   ]
  },
  {
   "cell_type": "markdown",
   "metadata": {},
   "source": [
    "### Helper function for normal distribution of interaction items"
   ]
  },
  {
   "cell_type": "code",
   "execution_count": 134,
   "metadata": {},
   "outputs": [],
   "source": [
    "def gen_normal_item_indices(num_indices, num_items, std_div=10):\n",
    "    _loc = num_indices // 2\n",
    "    _std = num_indices // std_div\n",
    "\n",
    "    _tmp = np.random.normal(loc=_loc, scale=_std, size=num_items)\n",
    "    _tmp = _tmp.astype(int)\n",
    "\n",
    "    num_bins = 50\n",
    "    _a, _b, _c = plt.hist(_tmp, num_bins)\n",
    "    \n",
    "    return _tmp"
   ]
  },
  {
   "cell_type": "markdown",
   "metadata": {},
   "source": [
    "### Add columns to users that will drive a predictable set of interactions\n",
    "Interactions will be generated on a per-user basis. Here we define what set of cars\n",
    "a user will be viewing. We do this by defining a set of \"car clusters\". A car cluster\n",
    "is the set of cars that all have the same make and model, plus an age preference.\n",
    "For example, some users will prefer Old Toyota Camry's. Others will like New Ford Explore's.\n",
    "\n",
    "The `FAV_CLUSTER` feature is an integer representing the user's favorit car cluster. The `FAV` \n",
    "feature is a text version that makes it easier to understand the car cluster when looking\n",
    "at the data during testing and model assessment. These features are NOT saved as part of\n",
    "the Amazon Personalize datasets, but ARE saved as part of the expanded interactions data\n",
    "that is saved for helping in the model usage notebook."
   ]
  },
  {
   "cell_type": "code",
   "execution_count": 135,
   "metadata": {},
   "outputs": [
    {
     "data": {
      "text/plain": [
       "9     4028\n",
       "10    3920\n",
       "8     3461\n",
       "11    3439\n",
       "7     2886\n",
       "12    2786\n",
       "13    2026\n",
       "6     2023\n",
       "5     1322\n",
       "14    1300\n",
       "15     783\n",
       "4      719\n",
       "3      389\n",
       "16     377\n",
       "2      175\n",
       "17     156\n",
       "1       71\n",
       "18      60\n",
       "19      41\n",
       "0       38\n",
       "Name: FAV_CLUSTER, dtype: int64"
      ]
     },
     "execution_count": 135,
     "metadata": {},
     "output_type": "execute_result"
    },
    {
     "data": {
      "image/png": "[encoded data removed]",
      "text/plain": [
       "<Figure size 432x288 with 1 Axes>"
      ]
     },
     "metadata": {},
     "output_type": "display_data"
    }
   ],
   "source": [
    "def set_fav(user_id):\n",
    "    _fav = int(np.random.normal(NUM_CLUSTERS // 2, NUM_CLUSTERS // 6))\n",
    "    _fav = min(NUM_CLUSTERS - 1, _fav)\n",
    "    _fav = max(0, _fav)\n",
    "    return _fav\n",
    "\n",
    "users_df['FAV_CLUSTER'] = users_df['USER_ID'].apply(set_fav)\n",
    "users_df['FAV_CLUSTER'].hist()\n",
    "users_df['FAV_CLUSTER'].value_counts()"
   ]
  },
  {
   "cell_type": "code",
   "execution_count": 136,
   "metadata": {},
   "outputs": [
    {
     "data": {
      "text/plain": [
       "4    7489\n",
       "5    7359\n",
       "3    4909\n",
       "6    4812\n",
       "7    2083\n",
       "2    2041\n",
       "1     564\n",
       "8     533\n",
       "0     109\n",
       "9     101\n",
       "Name: FAV_MODEL, dtype: int64"
      ]
     },
     "execution_count": 136,
     "metadata": {},
     "output_type": "execute_result"
    },
    {
     "data": {
      "image/png": "[encoded data removed]",
      "text/plain": [
       "<Figure size 432x288 with 1 Axes>"
      ]
     },
     "metadata": {},
     "output_type": "display_data"
    }
   ],
   "source": [
    "users_df['FAV_MODEL'] = users_df['FAV_CLUSTER'] // 2\n",
    "users_df['FAV_MODEL'].hist()\n",
    "users_df['FAV_MODEL'].value_counts()"
   ]
  },
  {
   "cell_type": "code",
   "execution_count": 137,
   "metadata": {},
   "outputs": [
    {
     "data": {
      "text/plain": [
       "OLDISH-Ford-Fusion      4028\n",
       "NEWISH-Ford-Explorer    3920\n",
       "NEWISH-Ford-Fusion      3461\n",
       "OLDISH-Ford-Explorer    3439\n",
       "OLDISH-Toyota-Camry     2886\n",
       "NEWISH-Toyota-Prius     2786\n",
       "OLDISH-Toyota-Prius     2026\n",
       "NEWISH-Toyota-Camry     2023\n",
       "OLDISH-Nissan-Altima    1322\n",
       "NEWISH-Nissan-Leaf      1300\n",
       "OLDISH-Nissan-Leaf       783\n",
       "NEWISH-Nissan-Altima     719\n",
       "OLDISH-Nissan-Rogue      389\n",
       "NEWISH-Ford-Mustang      377\n",
       "NEWISH-Nissan-Rogue      175\n",
       "OLDISH-Ford-Mustang      156\n",
       "OLDISH-Toyota-Sienna      71\n",
       "NEWISH-Toyota-Rav4        60\n",
       "OLDISH-Toyota-Rav4        41\n",
       "NEWISH-Toyota-Sienna      38\n",
       "Name: FAV, dtype: int64"
      ]
     },
     "execution_count": 137,
     "metadata": {},
     "output_type": "execute_result"
    }
   ],
   "source": [
    "def set_fav_text(cluster):\n",
    "    fav_model = cluster // 2\n",
    "    if cluster % 2 == 0:\n",
    "        age = 'NEWISH'\n",
    "    else:\n",
    "        age = 'OLDISH'\n",
    "    return  '{}-{}-{}'.format(age,\n",
    "                              models_df.iloc[fav_model]['MAKE'], \n",
    "                              models_df.iloc[fav_model]['MODEL'])\n",
    "users_df['FAV'] = users_df['FAV_CLUSTER'].apply(set_fav_text)\n",
    "users_df['FAV'].value_counts()"
   ]
  },
  {
   "cell_type": "markdown",
   "metadata": {},
   "source": [
    "### Helper functions"
   ]
  },
  {
   "cell_type": "code",
   "execution_count": 138,
   "metadata": {},
   "outputs": [],
   "source": [
    "def print_item(item_id):\n",
    "    tmp = cars_df[cars_df.ITEM_ID == item_id].iloc[0]\n",
    "    print('Id: {}, Make: {}, Model: {}, Miles: {}, Year: {}, Price: {}, Age: {}'.format(item_id,\n",
    "         tmp['MAKE'], tmp['MODEL'], tmp['MILEAGE'], tmp['YEAR'], tmp['PRICE'], tmp['AGE']))"
   ]
  },
  {
   "cell_type": "code",
   "execution_count": 139,
   "metadata": {},
   "outputs": [],
   "source": [
    "def print_car_cluster(c):\n",
    "    print(len(c))\n",
    "    print(c)"
   ]
  },
  {
   "cell_type": "markdown",
   "metadata": {},
   "source": [
    "### Generate a normal distribution of random cars for a given car cluster"
   ]
  },
  {
   "cell_type": "code",
   "execution_count": 151,
   "metadata": {},
   "outputs": [],
   "source": [
    "def gen_normal_from_cluster(_fav_cars, _which_cluster, _sample_size):\n",
    "    _car_cluster = _fav_cars[_which_cluster]\n",
    "    _cluster_len = len(_car_cluster)\n",
    "\n",
    "    _idx_list = np.random.normal(loc=_cluster_len // 2, \n",
    "                                 scale=_cluster_len // 10, \n",
    "                                 size=_sample_size)\n",
    "    _idx_list = _idx_list.astype(int)\n",
    "    \n",
    "    # We want to maximize how many specific car items are involved in the generated\n",
    "    # interactions. However, the more we push the envelope, the more likely it is that\n",
    "    # a generated index is outside of bounds. Here we catch and resolve those situations.\n",
    "    if max(_idx_list) > (_cluster_len - 1):\n",
    "#        print('*** idx too big: {}, len: {}'.format(max(_idx_list), _cluster_len))\n",
    "        _idx_of_max = np.argmax(_idx_list)\n",
    "        _idx_list[_idx_of_max] = _cluster_len // 2\n",
    "        new_max = max(_idx_list)\n",
    "#        print('===== new max is {}'.format(new_max))\n",
    "        if (new_max > (_cluster_len - 1)):\n",
    "            _idx_of_max = np.argmax(_idx_list)\n",
    "            _idx_list[_idx_of_max] = _cluster_len // 2\n",
    "            new_max = max(_idx_list)\n",
    "#            print('=====//// new new max is {}'.format(new_max))\n",
    "\n",
    "    return _car_cluster.iloc[_idx_list]['ITEM_ID'].values"
   ]
  },
  {
   "cell_type": "code",
   "execution_count": 168,
   "metadata": {},
   "outputs": [],
   "source": [
    "def pick_random_normal_car(car_cluster):\n",
    "    _cluster_len = car_cluster.shape[0]\n",
    "    _idx = np.random.normal(loc=_cluster_len // 2,\n",
    "                            scale=_cluster_len // 10,\n",
    "                            size=1)\n",
    "    _item_id = car_cluster.iloc[_idx]['ITEM_ID'].values[0]\n",
    "    return _item_id"
   ]
  },
  {
   "cell_type": "markdown",
   "metadata": {},
   "source": [
    "### Core function for generating interactions"
   ]
  },
  {
   "cell_type": "code",
   "execution_count": 171,
   "metadata": {},
   "outputs": [],
   "source": [
    "def gen_interactions(num_interactions):\n",
    "    _interactions = []\n",
    "    \n",
    "    _num_users = users_df.shape[0]\n",
    "    _num_items = cars_df.shape[0]\n",
    "    \n",
    "    # generate interactions as sets of interactions separated by a few mins\n",
    "    # by same user on different items\n",
    "    _session_len = SESSION_LEN\n",
    "    _num_sessions = num_interactions // _session_len\n",
    "    print('Generating {} sessions of length {}, total: {}...'.format(_num_sessions, \n",
    "                                                                     _session_len,\n",
    "                                                                     num_interactions))\n",
    "\n",
    "    # One-time generation of the list of cars that match each possible cluster of\n",
    "    # favorite cars. A random selection of these will be used in each session.\n",
    "    _fav_cars = []\n",
    "    for c in range(NUM_CLUSTERS):\n",
    "        m = c // 2\n",
    "        _make  = models_df.iloc[m]['MAKE']\n",
    "        _model = models_df.iloc[m]['MODEL']\n",
    "        if c % 2 == 0:\n",
    "            # newish\n",
    "            _car_cluster = cars_df[(cars_df.YEAR >= str(MID_YEAR)) &\n",
    "                                       (cars_df.MAKE  == _make) &\n",
    "                                       (cars_df.MODEL == _model)]\n",
    "        else:\n",
    "            # oldish\n",
    "            _car_cluster = cars_df[(cars_df.YEAR < str(MID_YEAR)) &\n",
    "                                       (cars_df.MAKE  == _make) &\n",
    "                                       (cars_df.MODEL == _model)]\n",
    "\n",
    "        _fav_cars.append(_car_cluster)\n",
    "\n",
    "    # Generate a set of user_id's to be used, one per session\n",
    "    _which_user_idx = gen_normal_item_indices(_num_users, _num_sessions, std_div=6)\n",
    "\n",
    "    # Session start times will be randomly picked to happen between now and 48 hours ago\n",
    "    _latest_time   = round(datetime.now().timestamp())\n",
    "    _earliest_time = _latest_time - (60*48)\n",
    "    \n",
    "    for s in range(_num_sessions):\n",
    "        if (s % 10000 == 0):\n",
    "            print('...at session {}'.format(s))\n",
    "            \n",
    "        _user = _which_user_idx[s]\n",
    "        \n",
    "        # ensure user id is within bounds\n",
    "        if (_user < 0):\n",
    "            _user = 0\n",
    "        elif (_user > (NUM_USERS - 1)):\n",
    "            _user = NUM_USERS - 1\n",
    "            \n",
    "        # Use same car cluster for every interaction in the current session\n",
    "        _which_cluster  = users_df.iloc[_user]['FAV_CLUSTER']\n",
    "\n",
    "        # Pick a random session start time\n",
    "        _when = np.random.randint(_earliest_time, _latest_time)\n",
    "        \n",
    "        # Generate a set of specific cars to use in this session. Choose them\n",
    "        # only from the designated car cluster preferred by this user.\n",
    "        _sample_size = num_interactions // NUM_CLUSTERS\n",
    "        _session_cars = gen_normal_from_cluster(_fav_cars, _which_cluster, _sample_size)\n",
    "\n",
    "        for i in range(_session_len):\n",
    "            interaction_num = (s * _session_len) + i\n",
    "            idx = interaction_num % NUM_CLUSTERS\n",
    "\n",
    "            _item = _session_cars[idx]\n",
    "\n",
    "            _when = _when + (i * SESSION_DELAY_SECONDS) \n",
    "\n",
    "            _this_interaction = [str(_user), str(_item), _when]\n",
    "\n",
    "            _interactions.append(_this_interaction)\n",
    "        \n",
    "    _df = pd.DataFrame(_interactions, columns=['USER_ID', 'ITEM_ID', 'TIMESTAMP'])\n",
    "    return _df"
   ]
  },
  {
   "cell_type": "code",
   "execution_count": 172,
   "metadata": {},
   "outputs": [
    {
     "name": "stdout",
     "output_type": "stream",
     "text": [
      "Generating 75000 sessions of length 10, total: 750000...\n",
      "...at session 0\n",
      "...at session 10000\n"
     ]
    },
    {
     "ename": "KeyboardInterrupt",
     "evalue": "",
     "output_type": "error",
     "traceback": [
      "\u001b[0;31m---------------------------------------------------------------------------\u001b[0m",
      "\u001b[0;31mAttributeError\u001b[0m                            Traceback (most recent call last)",
      "\u001b[0;32m~/anaconda3/envs/python3/lib/python3.6/site-packages/pandas/core/generic.py\u001b[0m in \u001b[0;36m__setattr__\u001b[0;34m(self, name, value)\u001b[0m\n\u001b[1;32m   5078\u001b[0m         \u001b[0;32mtry\u001b[0m\u001b[0;34m:\u001b[0m\u001b[0;34m\u001b[0m\u001b[0m\n\u001b[0;32m-> 5079\u001b[0;31m             \u001b[0mobject\u001b[0m\u001b[0;34m.\u001b[0m\u001b[0m__getattribute__\u001b[0m\u001b[0;34m(\u001b[0m\u001b[0mself\u001b[0m\u001b[0;34m,\u001b[0m \u001b[0mname\u001b[0m\u001b[0;34m)\u001b[0m\u001b[0;34m\u001b[0m\u001b[0m\n\u001b[0m\u001b[1;32m   5080\u001b[0m             \u001b[0;32mreturn\u001b[0m \u001b[0mobject\u001b[0m\u001b[0;34m.\u001b[0m\u001b[0m__setattr__\u001b[0m\u001b[0;34m(\u001b[0m\u001b[0mself\u001b[0m\u001b[0;34m,\u001b[0m \u001b[0mname\u001b[0m\u001b[0;34m,\u001b[0m \u001b[0mvalue\u001b[0m\u001b[0;34m)\u001b[0m\u001b[0;34m\u001b[0m\u001b[0m\n",
      "\u001b[0;31mAttributeError\u001b[0m: 'Series' object has no attribute '_cacher'",
      "\nDuring handling of the above exception, another exception occurred:\n",
      "\u001b[0;31mKeyboardInterrupt\u001b[0m                         Traceback (most recent call last)",
      "\u001b[0;32m<ipython-input-172-cd3815f1e72e>\u001b[0m in \u001b[0;36m<module>\u001b[0;34m()\u001b[0m\n\u001b[0;32m----> 1\u001b[0;31m \u001b[0minteractions_df\u001b[0m \u001b[0;34m=\u001b[0m \u001b[0mgen_interactions\u001b[0m\u001b[0;34m(\u001b[0m\u001b[0mNUM_INTERACTIONS\u001b[0m\u001b[0;34m)\u001b[0m\u001b[0;34m\u001b[0m\u001b[0m\n\u001b[0m\u001b[1;32m      2\u001b[0m \u001b[0minteractions_df\u001b[0m\u001b[0;34m.\u001b[0m\u001b[0mhead\u001b[0m\u001b[0;34m(\u001b[0m\u001b[0;34m)\u001b[0m\u001b[0;34m\u001b[0m\u001b[0m\n",
      "\u001b[0;32m<ipython-input-171-a6cde271307b>\u001b[0m in \u001b[0;36mgen_interactions\u001b[0;34m(num_interactions)\u001b[0m\n\u001b[1;32m     68\u001b[0m \u001b[0;34m\u001b[0m\u001b[0m\n\u001b[1;32m     69\u001b[0m \u001b[0;31m#            _item = _session_cars[idx]\u001b[0m\u001b[0;34m\u001b[0m\u001b[0;34m\u001b[0m\u001b[0m\n\u001b[0;32m---> 70\u001b[0;31m             \u001b[0m_item\u001b[0m \u001b[0;34m=\u001b[0m \u001b[0mpick_random_normal_car\u001b[0m\u001b[0;34m(\u001b[0m\u001b[0m_fav_cars\u001b[0m\u001b[0;34m[\u001b[0m\u001b[0m_which_cluster\u001b[0m\u001b[0;34m]\u001b[0m\u001b[0;34m)\u001b[0m\u001b[0;34m\u001b[0m\u001b[0m\n\u001b[0m\u001b[1;32m     71\u001b[0m \u001b[0;34m\u001b[0m\u001b[0m\n\u001b[1;32m     72\u001b[0m             \u001b[0m_when\u001b[0m \u001b[0;34m=\u001b[0m \u001b[0m_when\u001b[0m \u001b[0;34m+\u001b[0m \u001b[0;34m(\u001b[0m\u001b[0mi\u001b[0m \u001b[0;34m*\u001b[0m \u001b[0mSESSION_DELAY_SECONDS\u001b[0m\u001b[0;34m)\u001b[0m\u001b[0;34m\u001b[0m\u001b[0m\n",
      "\u001b[0;32m<ipython-input-168-ecf886f68636>\u001b[0m in \u001b[0;36mpick_random_normal_car\u001b[0;34m(car_cluster)\u001b[0m\n\u001b[1;32m      4\u001b[0m                             \u001b[0mscale\u001b[0m\u001b[0;34m=\u001b[0m\u001b[0m_cluster_len\u001b[0m \u001b[0;34m//\u001b[0m \u001b[0;36m10\u001b[0m\u001b[0;34m,\u001b[0m\u001b[0;34m\u001b[0m\u001b[0m\n\u001b[1;32m      5\u001b[0m                             size=1)\n\u001b[0;32m----> 6\u001b[0;31m     \u001b[0m_item_id\u001b[0m \u001b[0;34m=\u001b[0m \u001b[0mcar_cluster\u001b[0m\u001b[0;34m.\u001b[0m\u001b[0miloc\u001b[0m\u001b[0;34m[\u001b[0m\u001b[0m_idx\u001b[0m\u001b[0;34m]\u001b[0m\u001b[0;34m[\u001b[0m\u001b[0;34m'ITEM_ID'\u001b[0m\u001b[0;34m]\u001b[0m\u001b[0;34m.\u001b[0m\u001b[0mvalues\u001b[0m\u001b[0;34m[\u001b[0m\u001b[0;36m0\u001b[0m\u001b[0;34m]\u001b[0m\u001b[0;34m\u001b[0m\u001b[0m\n\u001b[0m\u001b[1;32m      7\u001b[0m     \u001b[0;32mreturn\u001b[0m \u001b[0m_item_id\u001b[0m\u001b[0;34m\u001b[0m\u001b[0m\n",
      "\u001b[0;32m~/anaconda3/envs/python3/lib/python3.6/site-packages/pandas/core/frame.py\u001b[0m in \u001b[0;36m__getitem__\u001b[0;34m(self, key)\u001b[0m\n\u001b[1;32m   2899\u001b[0m                 \u001b[0;32mif\u001b[0m \u001b[0mself\u001b[0m\u001b[0;34m.\u001b[0m\u001b[0mcolumns\u001b[0m\u001b[0;34m.\u001b[0m\u001b[0mnlevels\u001b[0m \u001b[0;34m>\u001b[0m \u001b[0;36m1\u001b[0m\u001b[0;34m:\u001b[0m\u001b[0;34m\u001b[0m\u001b[0m\n\u001b[1;32m   2900\u001b[0m                     \u001b[0;32mreturn\u001b[0m \u001b[0mself\u001b[0m\u001b[0;34m.\u001b[0m\u001b[0m_getitem_multilevel\u001b[0m\u001b[0;34m(\u001b[0m\u001b[0mkey\u001b[0m\u001b[0;34m)\u001b[0m\u001b[0;34m\u001b[0m\u001b[0m\n\u001b[0;32m-> 2901\u001b[0;31m                 \u001b[0;32mreturn\u001b[0m \u001b[0mself\u001b[0m\u001b[0;34m.\u001b[0m\u001b[0m_get_item_cache\u001b[0m\u001b[0;34m(\u001b[0m\u001b[0mkey\u001b[0m\u001b[0;34m)\u001b[0m\u001b[0;34m\u001b[0m\u001b[0m\n\u001b[0m\u001b[1;32m   2902\u001b[0m         \u001b[0;32mexcept\u001b[0m \u001b[0;34m(\u001b[0m\u001b[0mTypeError\u001b[0m\u001b[0;34m,\u001b[0m \u001b[0mValueError\u001b[0m\u001b[0;34m)\u001b[0m\u001b[0;34m:\u001b[0m\u001b[0;34m\u001b[0m\u001b[0m\n\u001b[1;32m   2903\u001b[0m             \u001b[0;31m# The TypeError correctly catches non hashable \"key\" (e.g. list)\u001b[0m\u001b[0;34m\u001b[0m\u001b[0;34m\u001b[0m\u001b[0m\n",
      "\u001b[0;32m~/anaconda3/envs/python3/lib/python3.6/site-packages/pandas/core/generic.py\u001b[0m in \u001b[0;36m_get_item_cache\u001b[0;34m(self, item)\u001b[0m\n\u001b[1;32m   3062\u001b[0m             \u001b[0mres\u001b[0m \u001b[0;34m=\u001b[0m \u001b[0mself\u001b[0m\u001b[0;34m.\u001b[0m\u001b[0m_box_item_values\u001b[0m\u001b[0;34m(\u001b[0m\u001b[0mitem\u001b[0m\u001b[0;34m,\u001b[0m \u001b[0mvalues\u001b[0m\u001b[0;34m)\u001b[0m\u001b[0;34m\u001b[0m\u001b[0m\n\u001b[1;32m   3063\u001b[0m             \u001b[0mcache\u001b[0m\u001b[0;34m[\u001b[0m\u001b[0mitem\u001b[0m\u001b[0;34m]\u001b[0m \u001b[0;34m=\u001b[0m \u001b[0mres\u001b[0m\u001b[0;34m\u001b[0m\u001b[0m\n\u001b[0;32m-> 3064\u001b[0;31m             \u001b[0mres\u001b[0m\u001b[0;34m.\u001b[0m\u001b[0m_set_as_cached\u001b[0m\u001b[0;34m(\u001b[0m\u001b[0mitem\u001b[0m\u001b[0;34m,\u001b[0m \u001b[0mself\u001b[0m\u001b[0;34m)\u001b[0m\u001b[0;34m\u001b[0m\u001b[0m\n\u001b[0m\u001b[1;32m   3065\u001b[0m \u001b[0;34m\u001b[0m\u001b[0m\n\u001b[1;32m   3066\u001b[0m             \u001b[0;31m# for a chain\u001b[0m\u001b[0;34m\u001b[0m\u001b[0;34m\u001b[0m\u001b[0m\n",
      "\u001b[0;32m~/anaconda3/envs/python3/lib/python3.6/site-packages/pandas/core/generic.py\u001b[0m in \u001b[0;36m_set_as_cached\u001b[0;34m(self, item, cacher)\u001b[0m\n\u001b[1;32m   3072\u001b[0m         \u001b[0mcacher\u001b[0m\u001b[0;34m.\u001b[0m\u001b[0;34m\u001b[0m\u001b[0m\n\u001b[1;32m   3073\u001b[0m         \"\"\"\n\u001b[0;32m-> 3074\u001b[0;31m         \u001b[0mself\u001b[0m\u001b[0;34m.\u001b[0m\u001b[0m_cacher\u001b[0m \u001b[0;34m=\u001b[0m \u001b[0;34m(\u001b[0m\u001b[0mitem\u001b[0m\u001b[0;34m,\u001b[0m \u001b[0mweakref\u001b[0m\u001b[0;34m.\u001b[0m\u001b[0mref\u001b[0m\u001b[0;34m(\u001b[0m\u001b[0mcacher\u001b[0m\u001b[0;34m)\u001b[0m\u001b[0;34m)\u001b[0m\u001b[0;34m\u001b[0m\u001b[0m\n\u001b[0m\u001b[1;32m   3075\u001b[0m \u001b[0;34m\u001b[0m\u001b[0m\n\u001b[1;32m   3076\u001b[0m     \u001b[0;32mdef\u001b[0m \u001b[0m_reset_cacher\u001b[0m\u001b[0;34m(\u001b[0m\u001b[0mself\u001b[0m\u001b[0;34m)\u001b[0m\u001b[0;34m:\u001b[0m\u001b[0;34m\u001b[0m\u001b[0m\n",
      "\u001b[0;32m~/anaconda3/envs/python3/lib/python3.6/site-packages/pandas/core/generic.py\u001b[0m in \u001b[0;36m__setattr__\u001b[0;34m(self, name, value)\u001b[0m\n\u001b[1;32m   5077\u001b[0m \u001b[0;34m\u001b[0m\u001b[0m\n\u001b[1;32m   5078\u001b[0m         \u001b[0;32mtry\u001b[0m\u001b[0;34m:\u001b[0m\u001b[0;34m\u001b[0m\u001b[0m\n\u001b[0;32m-> 5079\u001b[0;31m             \u001b[0mobject\u001b[0m\u001b[0;34m.\u001b[0m\u001b[0m__getattribute__\u001b[0m\u001b[0;34m(\u001b[0m\u001b[0mself\u001b[0m\u001b[0;34m,\u001b[0m \u001b[0mname\u001b[0m\u001b[0;34m)\u001b[0m\u001b[0;34m\u001b[0m\u001b[0m\n\u001b[0m\u001b[1;32m   5080\u001b[0m             \u001b[0;32mreturn\u001b[0m \u001b[0mobject\u001b[0m\u001b[0;34m.\u001b[0m\u001b[0m__setattr__\u001b[0m\u001b[0;34m(\u001b[0m\u001b[0mself\u001b[0m\u001b[0;34m,\u001b[0m \u001b[0mname\u001b[0m\u001b[0;34m,\u001b[0m \u001b[0mvalue\u001b[0m\u001b[0;34m)\u001b[0m\u001b[0;34m\u001b[0m\u001b[0m\n\u001b[1;32m   5081\u001b[0m         \u001b[0;32mexcept\u001b[0m \u001b[0mAttributeError\u001b[0m\u001b[0;34m:\u001b[0m\u001b[0;34m\u001b[0m\u001b[0m\n",
      "\u001b[0;31mKeyboardInterrupt\u001b[0m: "
     ]
    },
    {
     "data": {
      "image/png": "[encoded data removed]",
      "text/plain": [
       "<Figure size 432x288 with 1 Axes>"
      ]
     },
     "metadata": {},
     "output_type": "display_data"
    }
   ],
   "source": [
    "interactions_df = gen_interactions(NUM_INTERACTIONS)\n",
    "interactions_df.head()"
   ]
  },
  {
   "cell_type": "markdown",
   "metadata": {},
   "source": [
    "### Show utilization and distribution of interactions per user and per item"
   ]
  },
  {
   "cell_type": "code",
   "execution_count": 143,
   "metadata": {},
   "outputs": [
    {
     "name": "stdout",
     "output_type": "stream",
     "text": [
      "0.69 of users have interactions (20794/30000)\n"
     ]
    },
    {
     "data": {
      "text/plain": [
       "29999    1110\n",
       "0        1040\n",
       "15576     150\n",
       "14197     150\n",
       "14565     150\n",
       "14367     140\n",
       "15118     140\n",
       "19720     140\n",
       "12692     140\n",
       "14076     140\n",
       "12817     140\n",
       "14283     140\n",
       "12421     140\n",
       "17345     140\n",
       "17293     130\n",
       "15135     130\n",
       "11334     130\n",
       "13460     130\n",
       "17286     130\n",
       "16106     130\n",
       "13201     130\n",
       "14564     130\n",
       "17100     130\n",
       "13357     130\n",
       "17334     130\n",
       "12566     130\n",
       "12744     130\n",
       "12477     130\n",
       "14201     130\n",
       "16150     130\n",
       "         ... \n",
       "3751       10\n",
       "24782      10\n",
       "1625       10\n",
       "14340      10\n",
       "25282      10\n",
       "20902      10\n",
       "21359      10\n",
       "24749      10\n",
       "28709      10\n",
       "7148       10\n",
       "26552      10\n",
       "22383      10\n",
       "2812       10\n",
       "24772      10\n",
       "1595       10\n",
       "17467      10\n",
       "26557      10\n",
       "22679      10\n",
       "17538      10\n",
       "7541       10\n",
       "25450      10\n",
       "21675      10\n",
       "25173      10\n",
       "6380       10\n",
       "23682      10\n",
       "23026      10\n",
       "28145      10\n",
       "9568       10\n",
       "3413       10\n",
       "29910      10\n",
       "Name: USER_ID, Length: 20794, dtype: int64"
      ]
     },
     "execution_count": 143,
     "metadata": {},
     "output_type": "execute_result"
    }
   ],
   "source": [
    "_user_vc = interactions_df['USER_ID'].value_counts()\n",
    "print('{:.2} of users have interactions ({}/{})'.format(_user_vc.shape[0]/NUM_USERS,\n",
    "                                                        _user_vc.shape[0],\n",
    "                                                        NUM_USERS))\n",
    "_user_vc\n",
    "#interactions_df['USER_ID'].hist()"
   ]
  },
  {
   "cell_type": "code",
   "execution_count": 144,
   "metadata": {},
   "outputs": [
    {
     "name": "stdout",
     "output_type": "stream",
     "text": [
      "0.59 of ITEMS have interactions (29688/50000)\n"
     ]
    },
    {
     "data": {
      "text/plain": [
       "24573    114\n",
       "26830    113\n",
       "26135    109\n",
       "25248    108\n",
       "26316    108\n",
       "25478    106\n",
       "25863    106\n",
       "27095    105\n",
       "24231    105\n",
       "24639    104\n",
       "25869    104\n",
       "24831    104\n",
       "25908    103\n",
       "25550    102\n",
       "24270    102\n",
       "25945    102\n",
       "25424    101\n",
       "25045    101\n",
       "24172    101\n",
       "23508    100\n",
       "24143    100\n",
       "24994    100\n",
       "24571     99\n",
       "23483     99\n",
       "26127     99\n",
       "24175     99\n",
       "26753     99\n",
       "26548     99\n",
       "26985     98\n",
       "24354     98\n",
       "        ... \n",
       "4007       1\n",
       "9012       1\n",
       "8593       1\n",
       "40654      1\n",
       "38200      1\n",
       "36462      1\n",
       "39819      1\n",
       "38813      1\n",
       "5789       1\n",
       "12507      1\n",
       "36994      1\n",
       "11605      1\n",
       "8985       1\n",
       "36432      1\n",
       "5577       1\n",
       "39227      1\n",
       "9088       1\n",
       "12865      1\n",
       "40225      1\n",
       "40505      1\n",
       "39116      1\n",
       "8944       1\n",
       "11540      1\n",
       "14287      1\n",
       "38279      1\n",
       "10666      1\n",
       "12910      1\n",
       "38943      1\n",
       "40979      1\n",
       "41978      1\n",
       "Name: ITEM_ID, Length: 29688, dtype: int64"
      ]
     },
     "execution_count": 144,
     "metadata": {},
     "output_type": "execute_result"
    }
   ],
   "source": [
    "print('{:.2} of ITEMS have interactions ({}/{})'.format(interactions_df['ITEM_ID'].value_counts().shape[0]/NUM_CARS,\n",
    "                                                      interactions_df['ITEM_ID'].value_counts().shape[0],\n",
    "                                                       NUM_CARS))\n",
    "interactions_df['ITEM_ID'].value_counts()\n",
    "#interactions_df['ITEM_ID'].hist()"
   ]
  },
  {
   "cell_type": "markdown",
   "metadata": {},
   "source": [
    "### Create an expanded interactions dataframe for analysis\n",
    "The interactions dataframe to pass to Personalize is limited to 5 metadata items\n",
    "and is conforming to a schema we will define in another notebook. This expanded \n",
    "dataframe helps with framing tests and evaluating results, as in creates one big\n",
    "denormalized dataframe with interactions and corresponding user and car features."
   ]
  },
  {
   "cell_type": "code",
   "execution_count": 145,
   "metadata": {},
   "outputs": [
    {
     "data": {
      "text/html": [
       "<div>\n",
       "<style scoped>\n",
       "    .dataframe tbody tr th:only-of-type {\n",
       "        vertical-align: middle;\n",
       "    }\n",
       "\n",
       "    .dataframe tbody tr th {\n",
       "        vertical-align: top;\n",
       "    }\n",
       "\n",
       "    .dataframe thead th {\n",
       "        text-align: right;\n",
       "    }\n",
       "</style>\n",
       "<table border=\"1\" class=\"dataframe\">\n",
       "  <thead>\n",
       "    <tr style=\"text-align: right;\">\n",
       "      <th></th>\n",
       "      <th>USER_ID</th>\n",
       "      <th>ITEM_ID</th>\n",
       "      <th>TIMESTAMP</th>\n",
       "      <th>MAKE</th>\n",
       "      <th>MODEL</th>\n",
       "      <th>YEAR</th>\n",
       "      <th>MILEAGE</th>\n",
       "      <th>PRICE</th>\n",
       "      <th>AGE</th>\n",
       "      <th>GENDER</th>\n",
       "      <th>LOCATION</th>\n",
       "      <th>SALARY</th>\n",
       "      <th>FAV_CLUSTER</th>\n",
       "      <th>FAV_MODEL</th>\n",
       "      <th>FAV</th>\n",
       "    </tr>\n",
       "  </thead>\n",
       "  <tbody>\n",
       "    <tr>\n",
       "      <th>0</th>\n",
       "      <td>14776</td>\n",
       "      <td>23175</td>\n",
       "      <td>1562854213</td>\n",
       "      <td>Ford</td>\n",
       "      <td>Explorer</td>\n",
       "      <td>2011</td>\n",
       "      <td>126409</td>\n",
       "      <td>17973</td>\n",
       "      <td>32</td>\n",
       "      <td>MALE</td>\n",
       "      <td>75070</td>\n",
       "      <td>84847</td>\n",
       "      <td>11</td>\n",
       "      <td>5</td>\n",
       "      <td>OLDISH-Ford-Explorer</td>\n",
       "    </tr>\n",
       "    <tr>\n",
       "      <th>1</th>\n",
       "      <td>14776</td>\n",
       "      <td>22013</td>\n",
       "      <td>1562854333</td>\n",
       "      <td>Ford</td>\n",
       "      <td>Explorer</td>\n",
       "      <td>2013</td>\n",
       "      <td>91403</td>\n",
       "      <td>24385</td>\n",
       "      <td>32</td>\n",
       "      <td>MALE</td>\n",
       "      <td>75070</td>\n",
       "      <td>84847</td>\n",
       "      <td>11</td>\n",
       "      <td>5</td>\n",
       "      <td>OLDISH-Ford-Explorer</td>\n",
       "    </tr>\n",
       "    <tr>\n",
       "      <th>2</th>\n",
       "      <td>14776</td>\n",
       "      <td>29493</td>\n",
       "      <td>1562854573</td>\n",
       "      <td>Ford</td>\n",
       "      <td>Explorer</td>\n",
       "      <td>2013</td>\n",
       "      <td>93427</td>\n",
       "      <td>25676</td>\n",
       "      <td>32</td>\n",
       "      <td>MALE</td>\n",
       "      <td>75070</td>\n",
       "      <td>84847</td>\n",
       "      <td>11</td>\n",
       "      <td>5</td>\n",
       "      <td>OLDISH-Ford-Explorer</td>\n",
       "    </tr>\n",
       "    <tr>\n",
       "      <th>3</th>\n",
       "      <td>14776</td>\n",
       "      <td>21311</td>\n",
       "      <td>1562854933</td>\n",
       "      <td>Ford</td>\n",
       "      <td>Explorer</td>\n",
       "      <td>2010</td>\n",
       "      <td>144867</td>\n",
       "      <td>18469</td>\n",
       "      <td>32</td>\n",
       "      <td>MALE</td>\n",
       "      <td>75070</td>\n",
       "      <td>84847</td>\n",
       "      <td>11</td>\n",
       "      <td>5</td>\n",
       "      <td>OLDISH-Ford-Explorer</td>\n",
       "    </tr>\n",
       "    <tr>\n",
       "      <th>4</th>\n",
       "      <td>14776</td>\n",
       "      <td>31942</td>\n",
       "      <td>1562855413</td>\n",
       "      <td>Ford</td>\n",
       "      <td>Explorer</td>\n",
       "      <td>2013</td>\n",
       "      <td>98956</td>\n",
       "      <td>27412</td>\n",
       "      <td>32</td>\n",
       "      <td>MALE</td>\n",
       "      <td>75070</td>\n",
       "      <td>84847</td>\n",
       "      <td>11</td>\n",
       "      <td>5</td>\n",
       "      <td>OLDISH-Ford-Explorer</td>\n",
       "    </tr>\n",
       "  </tbody>\n",
       "</table>\n",
       "</div>"
      ],
      "text/plain": [
       "  USER_ID ITEM_ID   TIMESTAMP  MAKE     MODEL  YEAR  MILEAGE  PRICE  AGE  \\\n",
       "0   14776   23175  1562854213  Ford  Explorer  2011   126409  17973   32   \n",
       "1   14776   22013  1562854333  Ford  Explorer  2013    91403  24385   32   \n",
       "2   14776   29493  1562854573  Ford  Explorer  2013    93427  25676   32   \n",
       "3   14776   21311  1562854933  Ford  Explorer  2010   144867  18469   32   \n",
       "4   14776   31942  1562855413  Ford  Explorer  2013    98956  27412   32   \n",
       "\n",
       "  GENDER LOCATION  SALARY  FAV_CLUSTER  FAV_MODEL                   FAV  \n",
       "0   MALE    75070   84847           11          5  OLDISH-Ford-Explorer  \n",
       "1   MALE    75070   84847           11          5  OLDISH-Ford-Explorer  \n",
       "2   MALE    75070   84847           11          5  OLDISH-Ford-Explorer  \n",
       "3   MALE    75070   84847           11          5  OLDISH-Ford-Explorer  \n",
       "4   MALE    75070   84847           11          5  OLDISH-Ford-Explorer  "
      ]
     },
     "execution_count": 145,
     "metadata": {},
     "output_type": "execute_result"
    }
   ],
   "source": [
    "interactions_expanded_df = pd.merge(interactions_df, cars_df, on='ITEM_ID')\n",
    "interactions_expanded_df = pd.merge(interactions_expanded_df, users_df, on='USER_ID')\n",
    "interactions_expanded_df.head()"
   ]
  },
  {
   "cell_type": "markdown",
   "metadata": {},
   "source": [
    "### Save interactions to S3 and expanded interactions to local csv"
   ]
  },
  {
   "cell_type": "code",
   "execution_count": 146,
   "metadata": {},
   "outputs": [],
   "source": [
    "interactions_df.to_csv(interactions_filename, index=False)\n",
    "boto3.Session().resource('s3').Bucket(bucket).Object('{}/{}'.format(prefix, interactions_filename)).upload_file(interactions_filename)"
   ]
  },
  {
   "cell_type": "code",
   "execution_count": 147,
   "metadata": {},
   "outputs": [],
   "source": [
    "interactions_expanded_df.to_csv(int_exp_filename, index=False)"
   ]
  }
 ],
 "metadata": {
  "kernelspec": {
   "display_name": "conda_python3",
   "language": "python",
   "name": "conda_python3"
  },
  "language_info": {
   "codemirror_mode": {
    "name": "ipython",
    "version": 3
   },
   "file_extension": ".py",
   "mimetype": "text/x-python",
   "name": "python",
   "nbconvert_exporter": "python",
   "pygments_lexer": "ipython3",
   "version": "3.6.5"
  }
 },
 "nbformat": 4,
 "nbformat_minor": 2
}
