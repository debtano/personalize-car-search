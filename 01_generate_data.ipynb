{
 "cells": [
  {
   "cell_type": "markdown",
   "metadata": {},
   "source": [
    "# Generate user, item, and interaction datasets for car search domain\n",
    "This notebook is one of several provided to demonstrate the use of Amazon Personalize to \n",
    "provide recommendations for users searching for cars. This notebook generates the user, item, \n",
    "and interactions data, saves them as local csv files, and uploads them to S3 for use\n",
    "in creating Personalize datasets to drive Personalize recommendation models.\n",
    "\n",
    "A denormalized form of the interaction data is also saved for use in testing the models\n",
    "and evaluating the resulting recommendations."
   ]
  },
  {
   "cell_type": "code",
   "execution_count": 3,
   "metadata": {},
   "outputs": [],
   "source": [
    "import numpy as np\n",
    "import pandas as pd\n",
    "import json\n",
    "import datetime\n",
    "import matplotlib.pyplot as plt\n",
    "from sklearn.utils import shuffle"
   ]
  },
  {
   "cell_type": "code",
   "execution_count": 4,
   "metadata": {},
   "outputs": [
    {
     "name": "stdout",
     "output_type": "stream",
     "text": [
      "sagemaker-us-east-1-355151823911\n"
     ]
    }
   ],
   "source": [
    "import boto3\n",
    "import sagemaker\n",
    "\n",
    "bucket   = sagemaker.Session().default_bucket() # or replace with your preferred s3 bucket\n",
    "print(bucket)\n",
    "prefix   = 'personalize/car'"
   ]
  },
  {
   "cell_type": "code",
   "execution_count": 5,
   "metadata": {},
   "outputs": [],
   "source": [
    "cars_filename         = 'car_items.csv'\n",
    "users_filename        = 'users.csv'\n",
    "interactions_filename = 'interactions.csv'\n",
    "int_exp_filename      = 'interactions_expanded.csv'"
   ]
  },
  {
   "cell_type": "markdown",
   "metadata": {},
   "source": [
    "## Define size for each generated dataset"
   ]
  },
  {
   "cell_type": "code",
   "execution_count": 6,
   "metadata": {},
   "outputs": [],
   "source": [
    "NUM_INTERACTIONS = 750000\n",
    "NUM_CARS         = 50000\n",
    "NUM_USERS        = 30000"
   ]
  },
  {
   "cell_type": "markdown",
   "metadata": {},
   "source": [
    "## Define various other parameters"
   ]
  },
  {
   "cell_type": "markdown",
   "metadata": {},
   "source": [
    "Generated interactions are built as a set of \"sessions\". Each session is associated with\n",
    "a single user and multiple car interactions. The timestamp for each interaction is \n",
    "separated by a configurable number of seconds."
   ]
  },
  {
   "cell_type": "code",
   "execution_count": 7,
   "metadata": {},
   "outputs": [],
   "source": [
    "SESSION_LEN           = 10\n",
    "SESSION_DELAY_SECONDS = 2 * 60 # 2 minutes\n",
    "\n",
    "NUM_SESSIONS = NUM_INTERACTIONS // SESSION_LEN\n",
    "\n",
    "SECONDS_SINCE_OLDEST_INTERACTION = 60* 60 * 24 * 7 # a week ago\n",
    "MOST_RECENT_TIMESTAMP = round(datetime.datetime.now().timestamp())"
   ]
  },
  {
   "cell_type": "markdown",
   "metadata": {},
   "source": [
    "Define other parameters to control metadata for each car item."
   ]
  },
  {
   "cell_type": "code",
   "execution_count": 8,
   "metadata": {},
   "outputs": [],
   "source": [
    "MIN_YEAR    = 2009\n",
    "MAX_YEAR    = 2019\n",
    "MID_YEAR    = MIN_YEAR + ((MAX_YEAR - MIN_YEAR) // 2)\n",
    "\n",
    "MIN_MILEAGE    = 1000\n",
    "MAX_MILEAGE    = 200000\n",
    "MILES_PER_YEAR = 15000\n",
    "\n",
    "COLORS      = ['Red', 'Black', 'White', 'Blue']"
   ]
  },
  {
   "cell_type": "code",
   "execution_count": 9,
   "metadata": {},
   "outputs": [
    {
     "data": {
      "text/plain": [
       "2014"
      ]
     },
     "execution_count": 9,
     "metadata": {},
     "output_type": "execute_result"
    }
   ],
   "source": [
    "MID_YEAR"
   ]
  },
  {
   "cell_type": "code",
   "execution_count": 10,
   "metadata": {},
   "outputs": [],
   "source": [
    "def date_to_string(ts):\n",
    "    return datetime.datetime.fromtimestamp(ts).strftime('%Y-%m-%d %H:%M:%S')"
   ]
  },
  {
   "cell_type": "markdown",
   "metadata": {},
   "source": [
    "## Configure the set of car makes and models, plus zip codes"
   ]
  },
  {
   "cell_type": "markdown",
   "metadata": {},
   "source": [
    "The car item data is driven by a configurable set of models. You can define which\n",
    "makes and models are used by editing the `models.csv` file provided."
   ]
  },
  {
   "cell_type": "code",
   "execution_count": 11,
   "metadata": {},
   "outputs": [
    {
     "name": "stdout",
     "output_type": "stream",
     "text": [
      "(50, 4)\n",
      "\n",
      "100 clusters based on 50 models.\n"
     ]
    },
    {
     "data": {
      "text/html": [
       "<div>\n",
       "<style scoped>\n",
       "    .dataframe tbody tr th:only-of-type {\n",
       "        vertical-align: middle;\n",
       "    }\n",
       "\n",
       "    .dataframe tbody tr th {\n",
       "        vertical-align: top;\n",
       "    }\n",
       "\n",
       "    .dataframe thead th {\n",
       "        text-align: right;\n",
       "    }\n",
       "</style>\n",
       "<table border=\"1\" class=\"dataframe\">\n",
       "  <thead>\n",
       "    <tr style=\"text-align: right;\">\n",
       "      <th></th>\n",
       "      <th>MAKE</th>\n",
       "      <th>MODEL</th>\n",
       "      <th>NUM_DOORS</th>\n",
       "      <th>BODY_TYPE</th>\n",
       "    </tr>\n",
       "  </thead>\n",
       "  <tbody>\n",
       "    <tr>\n",
       "      <th>0</th>\n",
       "      <td>Toyota</td>\n",
       "      <td>Camry</td>\n",
       "      <td>4</td>\n",
       "      <td>sedan</td>\n",
       "    </tr>\n",
       "    <tr>\n",
       "      <th>43</th>\n",
       "      <td>BMW</td>\n",
       "      <td>330i</td>\n",
       "      <td>4</td>\n",
       "      <td>sedan</td>\n",
       "    </tr>\n",
       "    <tr>\n",
       "      <th>24</th>\n",
       "      <td>Buick</td>\n",
       "      <td>Enclave</td>\n",
       "      <td>4</td>\n",
       "      <td>suv</td>\n",
       "    </tr>\n",
       "    <tr>\n",
       "      <th>42</th>\n",
       "      <td>Kia</td>\n",
       "      <td>Sedona</td>\n",
       "      <td>4</td>\n",
       "      <td>suv</td>\n",
       "    </tr>\n",
       "    <tr>\n",
       "      <th>17</th>\n",
       "      <td>Jeep</td>\n",
       "      <td>Cherokee</td>\n",
       "      <td>4</td>\n",
       "      <td>suv</td>\n",
       "    </tr>\n",
       "    <tr>\n",
       "      <th>12</th>\n",
       "      <td>Nissan</td>\n",
       "      <td>Altima</td>\n",
       "      <td>4</td>\n",
       "      <td>sedan</td>\n",
       "    </tr>\n",
       "    <tr>\n",
       "      <th>3</th>\n",
       "      <td>Honda</td>\n",
       "      <td>Odyssey</td>\n",
       "      <td>4</td>\n",
       "      <td>minivan</td>\n",
       "    </tr>\n",
       "    <tr>\n",
       "      <th>26</th>\n",
       "      <td>Buick</td>\n",
       "      <td>LaCrosse</td>\n",
       "      <td>4</td>\n",
       "      <td>sedan</td>\n",
       "    </tr>\n",
       "    <tr>\n",
       "      <th>38</th>\n",
       "      <td>Ford</td>\n",
       "      <td>Expedition</td>\n",
       "      <td>4</td>\n",
       "      <td>suv</td>\n",
       "    </tr>\n",
       "    <tr>\n",
       "      <th>7</th>\n",
       "      <td>Honda</td>\n",
       "      <td>Civic</td>\n",
       "      <td>4</td>\n",
       "      <td>sedan</td>\n",
       "    </tr>\n",
       "    <tr>\n",
       "      <th>48</th>\n",
       "      <td>Chrysler</td>\n",
       "      <td>300</td>\n",
       "      <td>4</td>\n",
       "      <td>sedan</td>\n",
       "    </tr>\n",
       "    <tr>\n",
       "      <th>41</th>\n",
       "      <td>GMC</td>\n",
       "      <td>Acadia</td>\n",
       "      <td>4</td>\n",
       "      <td>suv</td>\n",
       "    </tr>\n",
       "    <tr>\n",
       "      <th>40</th>\n",
       "      <td>GMC</td>\n",
       "      <td>Yukon</td>\n",
       "      <td>4</td>\n",
       "      <td>suv</td>\n",
       "    </tr>\n",
       "    <tr>\n",
       "      <th>23</th>\n",
       "      <td>Volvo</td>\n",
       "      <td>240</td>\n",
       "      <td>4</td>\n",
       "      <td>sedan</td>\n",
       "    </tr>\n",
       "    <tr>\n",
       "      <th>19</th>\n",
       "      <td>Volkswagen</td>\n",
       "      <td>Golf</td>\n",
       "      <td>4</td>\n",
       "      <td>sedan</td>\n",
       "    </tr>\n",
       "    <tr>\n",
       "      <th>36</th>\n",
       "      <td>Ford</td>\n",
       "      <td>Edge</td>\n",
       "      <td>4</td>\n",
       "      <td>suv</td>\n",
       "    </tr>\n",
       "    <tr>\n",
       "      <th>37</th>\n",
       "      <td>Ford</td>\n",
       "      <td>Escape</td>\n",
       "      <td>4</td>\n",
       "      <td>suv</td>\n",
       "    </tr>\n",
       "    <tr>\n",
       "      <th>32</th>\n",
       "      <td>Chevrolet</td>\n",
       "      <td>Silverado</td>\n",
       "      <td>4</td>\n",
       "      <td>truck</td>\n",
       "    </tr>\n",
       "    <tr>\n",
       "      <th>5</th>\n",
       "      <td>Honda</td>\n",
       "      <td>Pilot</td>\n",
       "      <td>4</td>\n",
       "      <td>suv</td>\n",
       "    </tr>\n",
       "    <tr>\n",
       "      <th>39</th>\n",
       "      <td>Ford</td>\n",
       "      <td>F150</td>\n",
       "      <td>4</td>\n",
       "      <td>truck</td>\n",
       "    </tr>\n",
       "    <tr>\n",
       "      <th>6</th>\n",
       "      <td>Toyota</td>\n",
       "      <td>Corrola</td>\n",
       "      <td>4</td>\n",
       "      <td>sedan</td>\n",
       "    </tr>\n",
       "    <tr>\n",
       "      <th>13</th>\n",
       "      <td>Nissan</td>\n",
       "      <td>Rogue</td>\n",
       "      <td>4</td>\n",
       "      <td>suv</td>\n",
       "    </tr>\n",
       "    <tr>\n",
       "      <th>28</th>\n",
       "      <td>Chevrolet</td>\n",
       "      <td>Suburban</td>\n",
       "      <td>4</td>\n",
       "      <td>suv</td>\n",
       "    </tr>\n",
       "    <tr>\n",
       "      <th>49</th>\n",
       "      <td>Chrysler</td>\n",
       "      <td>Pacifica</td>\n",
       "      <td>4</td>\n",
       "      <td>minivan</td>\n",
       "    </tr>\n",
       "    <tr>\n",
       "      <th>10</th>\n",
       "      <td>Ford</td>\n",
       "      <td>Mustang</td>\n",
       "      <td>4</td>\n",
       "      <td>sedan</td>\n",
       "    </tr>\n",
       "    <tr>\n",
       "      <th>44</th>\n",
       "      <td>BMW</td>\n",
       "      <td>430i</td>\n",
       "      <td>4</td>\n",
       "      <td>sedan</td>\n",
       "    </tr>\n",
       "    <tr>\n",
       "      <th>11</th>\n",
       "      <td>Ford</td>\n",
       "      <td>Explorer</td>\n",
       "      <td>4</td>\n",
       "      <td>suv</td>\n",
       "    </tr>\n",
       "    <tr>\n",
       "      <th>30</th>\n",
       "      <td>Chevrolet</td>\n",
       "      <td>Tahoe</td>\n",
       "      <td>4</td>\n",
       "      <td>suv</td>\n",
       "    </tr>\n",
       "    <tr>\n",
       "      <th>25</th>\n",
       "      <td>Buick</td>\n",
       "      <td>Regal</td>\n",
       "      <td>4</td>\n",
       "      <td>sedan</td>\n",
       "    </tr>\n",
       "    <tr>\n",
       "      <th>16</th>\n",
       "      <td>Hyundai</td>\n",
       "      <td>Santa Fe</td>\n",
       "      <td>4</td>\n",
       "      <td>suv</td>\n",
       "    </tr>\n",
       "    <tr>\n",
       "      <th>31</th>\n",
       "      <td>Subaru</td>\n",
       "      <td>Outback</td>\n",
       "      <td>4</td>\n",
       "      <td>suv</td>\n",
       "    </tr>\n",
       "    <tr>\n",
       "      <th>47</th>\n",
       "      <td>Chrysler</td>\n",
       "      <td>200</td>\n",
       "      <td>4</td>\n",
       "      <td>sedan</td>\n",
       "    </tr>\n",
       "    <tr>\n",
       "      <th>33</th>\n",
       "      <td>Dodge</td>\n",
       "      <td>Ram</td>\n",
       "      <td>4</td>\n",
       "      <td>truck</td>\n",
       "    </tr>\n",
       "    <tr>\n",
       "      <th>27</th>\n",
       "      <td>Chevrolet</td>\n",
       "      <td>Camaro</td>\n",
       "      <td>4</td>\n",
       "      <td>sedan</td>\n",
       "    </tr>\n",
       "    <tr>\n",
       "      <th>46</th>\n",
       "      <td>Cadillac</td>\n",
       "      <td>XT5</td>\n",
       "      <td>4</td>\n",
       "      <td>suv</td>\n",
       "    </tr>\n",
       "    <tr>\n",
       "      <th>15</th>\n",
       "      <td>Hyundai</td>\n",
       "      <td>Elantra</td>\n",
       "      <td>4</td>\n",
       "      <td>sedan</td>\n",
       "    </tr>\n",
       "    <tr>\n",
       "      <th>9</th>\n",
       "      <td>Ford</td>\n",
       "      <td>Fusion</td>\n",
       "      <td>4</td>\n",
       "      <td>sedan</td>\n",
       "    </tr>\n",
       "    <tr>\n",
       "      <th>35</th>\n",
       "      <td>Dodge</td>\n",
       "      <td>Caravan</td>\n",
       "      <td>4</td>\n",
       "      <td>minivan</td>\n",
       "    </tr>\n",
       "    <tr>\n",
       "      <th>45</th>\n",
       "      <td>Cadillac</td>\n",
       "      <td>Escalade</td>\n",
       "      <td>4</td>\n",
       "      <td>suv</td>\n",
       "    </tr>\n",
       "    <tr>\n",
       "      <th>8</th>\n",
       "      <td>Toyota</td>\n",
       "      <td>Prius</td>\n",
       "      <td>4</td>\n",
       "      <td>sedan</td>\n",
       "    </tr>\n",
       "    <tr>\n",
       "      <th>22</th>\n",
       "      <td>Volvo</td>\n",
       "      <td>V60</td>\n",
       "      <td>4</td>\n",
       "      <td>suv</td>\n",
       "    </tr>\n",
       "    <tr>\n",
       "      <th>21</th>\n",
       "      <td>Volkswagen</td>\n",
       "      <td>Tiguan</td>\n",
       "      <td>4</td>\n",
       "      <td>suv</td>\n",
       "    </tr>\n",
       "    <tr>\n",
       "      <th>2</th>\n",
       "      <td>Toyota</td>\n",
       "      <td>Sienna</td>\n",
       "      <td>4</td>\n",
       "      <td>minivan</td>\n",
       "    </tr>\n",
       "    <tr>\n",
       "      <th>18</th>\n",
       "      <td>Jeep</td>\n",
       "      <td>Grand Cherokee</td>\n",
       "      <td>4</td>\n",
       "      <td>suv</td>\n",
       "    </tr>\n",
       "    <tr>\n",
       "      <th>29</th>\n",
       "      <td>Chevrolet</td>\n",
       "      <td>Traverse</td>\n",
       "      <td>4</td>\n",
       "      <td>suv</td>\n",
       "    </tr>\n",
       "    <tr>\n",
       "      <th>20</th>\n",
       "      <td>Volkswagen</td>\n",
       "      <td>Jetta</td>\n",
       "      <td>4</td>\n",
       "      <td>sedan</td>\n",
       "    </tr>\n",
       "    <tr>\n",
       "      <th>14</th>\n",
       "      <td>Nissan</td>\n",
       "      <td>Leaf</td>\n",
       "      <td>4</td>\n",
       "      <td>sedan</td>\n",
       "    </tr>\n",
       "    <tr>\n",
       "      <th>1</th>\n",
       "      <td>Honda</td>\n",
       "      <td>Accord</td>\n",
       "      <td>4</td>\n",
       "      <td>sedan</td>\n",
       "    </tr>\n",
       "    <tr>\n",
       "      <th>4</th>\n",
       "      <td>Toyota</td>\n",
       "      <td>Rav4</td>\n",
       "      <td>4</td>\n",
       "      <td>suv</td>\n",
       "    </tr>\n",
       "    <tr>\n",
       "      <th>34</th>\n",
       "      <td>Dodge</td>\n",
       "      <td>Durango</td>\n",
       "      <td>4</td>\n",
       "      <td>suv</td>\n",
       "    </tr>\n",
       "  </tbody>\n",
       "</table>\n",
       "</div>"
      ],
      "text/plain": [
       "          MAKE           MODEL  NUM_DOORS BODY_TYPE\n",
       "0       Toyota           Camry          4     sedan\n",
       "43         BMW            330i          4     sedan\n",
       "24       Buick         Enclave          4       suv\n",
       "42         Kia          Sedona          4       suv\n",
       "17        Jeep        Cherokee          4       suv\n",
       "12      Nissan          Altima          4     sedan\n",
       "3        Honda         Odyssey          4   minivan\n",
       "26       Buick        LaCrosse          4     sedan\n",
       "38        Ford      Expedition          4       suv\n",
       "7        Honda           Civic          4     sedan\n",
       "48    Chrysler             300          4     sedan\n",
       "41         GMC          Acadia          4       suv\n",
       "40         GMC           Yukon          4       suv\n",
       "23       Volvo             240          4     sedan\n",
       "19  Volkswagen            Golf          4     sedan\n",
       "36        Ford            Edge          4       suv\n",
       "37        Ford          Escape          4       suv\n",
       "32   Chevrolet       Silverado          4     truck\n",
       "5        Honda           Pilot          4       suv\n",
       "39        Ford            F150          4     truck\n",
       "6       Toyota         Corrola          4     sedan\n",
       "13      Nissan           Rogue          4       suv\n",
       "28   Chevrolet        Suburban          4       suv\n",
       "49    Chrysler        Pacifica          4   minivan\n",
       "10        Ford         Mustang          4     sedan\n",
       "44         BMW            430i          4     sedan\n",
       "11        Ford        Explorer          4       suv\n",
       "30   Chevrolet           Tahoe          4       suv\n",
       "25       Buick           Regal          4     sedan\n",
       "16     Hyundai        Santa Fe          4       suv\n",
       "31      Subaru         Outback          4       suv\n",
       "47    Chrysler             200          4     sedan\n",
       "33       Dodge             Ram          4     truck\n",
       "27   Chevrolet          Camaro          4     sedan\n",
       "46    Cadillac             XT5          4       suv\n",
       "15     Hyundai         Elantra          4     sedan\n",
       "9         Ford          Fusion          4     sedan\n",
       "35       Dodge         Caravan          4   minivan\n",
       "45    Cadillac        Escalade          4       suv\n",
       "8       Toyota           Prius          4     sedan\n",
       "22       Volvo             V60          4       suv\n",
       "21  Volkswagen          Tiguan          4       suv\n",
       "2       Toyota          Sienna          4   minivan\n",
       "18        Jeep  Grand Cherokee          4       suv\n",
       "29   Chevrolet        Traverse          4       suv\n",
       "20  Volkswagen           Jetta          4     sedan\n",
       "14      Nissan            Leaf          4     sedan\n",
       "1        Honda          Accord          4     sedan\n",
       "4       Toyota            Rav4          4       suv\n",
       "34       Dodge         Durango          4       suv"
      ]
     },
     "execution_count": 11,
     "metadata": {},
     "output_type": "execute_result"
    }
   ],
   "source": [
    "models_df = pd.read_csv('models.csv')\n",
    "models_df = shuffle(models_df)\n",
    "print(models_df.shape)\n",
    "\n",
    "NUM_MODELS = models_df.shape[0]\n",
    "NUM_CLUSTERS = NUM_MODELS * 2  # for each model, have an old car cluster and new car cluster\n",
    "print('\\n{} clusters based on {} models.'.format(NUM_CLUSTERS, NUM_MODELS))\n",
    "models_df.head(NUM_MODELS)"
   ]
  },
  {
   "cell_type": "markdown",
   "metadata": {},
   "source": [
    "The demo does not fully leverage location data for users and cars, but partial support\n",
    "is provided in anticipation of adding that to the demo in the future."
   ]
  },
  {
   "cell_type": "code",
   "execution_count": 12,
   "metadata": {},
   "outputs": [
    {
     "name": "stdout",
     "output_type": "stream",
     "text": [
      "(100, 3)\n"
     ]
    },
    {
     "data": {
      "text/html": [
       "<div>\n",
       "<style scoped>\n",
       "    .dataframe tbody tr th:only-of-type {\n",
       "        vertical-align: middle;\n",
       "    }\n",
       "\n",
       "    .dataframe tbody tr th {\n",
       "        vertical-align: top;\n",
       "    }\n",
       "\n",
       "    .dataframe thead th {\n",
       "        text-align: right;\n",
       "    }\n",
       "</style>\n",
       "<table border=\"1\" class=\"dataframe\">\n",
       "  <thead>\n",
       "    <tr style=\"text-align: right;\">\n",
       "      <th></th>\n",
       "      <th>ZIP_CODE</th>\n",
       "      <th>CITY</th>\n",
       "      <th>INCOME</th>\n",
       "    </tr>\n",
       "  </thead>\n",
       "  <tbody>\n",
       "    <tr>\n",
       "      <th>0</th>\n",
       "      <td>79936</td>\n",
       "      <td>El Paso TX</td>\n",
       "      <td>42857</td>\n",
       "    </tr>\n",
       "    <tr>\n",
       "      <th>1</th>\n",
       "      <td>90011</td>\n",
       "      <td>Los Angeles CA</td>\n",
       "      <td>23851</td>\n",
       "    </tr>\n",
       "    <tr>\n",
       "      <th>2</th>\n",
       "      <td>60629</td>\n",
       "      <td>Chicago IL</td>\n",
       "      <td>40279</td>\n",
       "    </tr>\n",
       "    <tr>\n",
       "      <th>3</th>\n",
       "      <td>90650</td>\n",
       "      <td>Norwalk CA</td>\n",
       "      <td>46012</td>\n",
       "    </tr>\n",
       "    <tr>\n",
       "      <th>4</th>\n",
       "      <td>90201</td>\n",
       "      <td>Bell Gardens CA</td>\n",
       "      <td>30029</td>\n",
       "    </tr>\n",
       "  </tbody>\n",
       "</table>\n",
       "</div>"
      ],
      "text/plain": [
       "   ZIP_CODE             CITY  INCOME\n",
       "0     79936       El Paso TX   42857\n",
       "1     90011   Los Angeles CA   23851\n",
       "2     60629       Chicago IL   40279\n",
       "3     90650       Norwalk CA   46012\n",
       "4     90201  Bell Gardens CA   30029"
      ]
     },
     "execution_count": 12,
     "metadata": {},
     "output_type": "execute_result"
    }
   ],
   "source": [
    "zip_codes_df = pd.read_csv('zip_codes.csv')\n",
    "print(zip_codes_df.shape)\n",
    "zip_codes_df.head()"
   ]
  },
  {
   "cell_type": "markdown",
   "metadata": {},
   "source": [
    "## Generate data for the cars (items) dataset"
   ]
  },
  {
   "cell_type": "markdown",
   "metadata": {},
   "source": [
    "### Generate make and model\n",
    "Here we provide a normal distribution of Make/Model for our generated set of cars.\n",
    "The mean is the midpoint of the number of total models, and the standard deviation is \n",
    "a quarter of the number of models. We make sure that no generated model falls outside the\n",
    "bounds of the actual number of models."
   ]
  },
  {
   "cell_type": "code",
   "execution_count": 13,
   "metadata": {},
   "outputs": [],
   "source": [
    "def gen_normal_make_and_model():\n",
    "    _idx = int(np.random.normal(NUM_MODELS // 2, NUM_MODELS // 4))\n",
    "    _idx = min(NUM_MODELS - 1, _idx)\n",
    "    _idx = max(0, _idx)\n",
    "    return _idx"
   ]
  },
  {
   "cell_type": "markdown",
   "metadata": {},
   "source": [
    "### Generate price\n",
    "Here we determine a random price pased on age and miles."
   ]
  },
  {
   "cell_type": "code",
   "execution_count": 14,
   "metadata": {},
   "outputs": [],
   "source": [
    "def gen_price(age, miles):\n",
    "    _price = 40000 - (3000 * age) + np.random.randint(0, 10000)\n",
    "    _price = max(10000, _price)\n",
    "    return _price"
   ]
  },
  {
   "cell_type": "markdown",
   "metadata": {},
   "source": [
    "### Core function for generating cars (items)\n",
    "Here we generate the set of items / cars to be recommended. We normally distribute the \n",
    "year of manufacture, and generate a random set of miles driven by the age of the car."
   ]
  },
  {
   "cell_type": "code",
   "execution_count": 15,
   "metadata": {},
   "outputs": [],
   "source": [
    "def gen_cars(num_cars):\n",
    "    _car_inventory = []\n",
    "    \n",
    "    for i in range(num_cars):\n",
    "        _year      = int(np.random.normal(2014, 2))\n",
    "        _year      = min(MAX_YEAR, _year)\n",
    "        \n",
    "        _age       = MAX_YEAR - _year\n",
    "        _mileage   = (MILES_PER_YEAR * _age) + np.random.randint(0, 10000)\n",
    "        _price     = gen_price(_age, _mileage) \n",
    "\n",
    "        _model_idx = gen_normal_make_and_model()\n",
    "        \n",
    "#        _color_idx = np.random.randint(0, len(COLORS))\n",
    "#        _loc_idx   = np.random.randint(0, _zip_len)\n",
    "        \n",
    "        _this_car = [str(i), models_df.iloc[_model_idx][0].strip(), \n",
    "                     models_df.iloc[_model_idx][1].strip(),\n",
    "                     str(_year), _mileage, _price]\n",
    "        #, COLORS[_color_idx], zip_codes_df.iloc[_loc_idx][0]]\n",
    "\n",
    "        _car_inventory.append(_this_car)\n",
    "\n",
    "    # not including color and location, due to personalize limit on num fields\n",
    "    _df = pd.DataFrame(_car_inventory, columns=['ITEM_ID', 'MAKE', 'MODEL', \n",
    "                                                'YEAR', 'MILEAGE', 'PRICE'])\n",
    "    return _df"
   ]
  },
  {
   "cell_type": "code",
   "execution_count": 16,
   "metadata": {},
   "outputs": [
    {
     "name": "stdout",
     "output_type": "stream",
     "text": [
      "(50000, 6)\n"
     ]
    },
    {
     "data": {
      "text/html": [
       "<div>\n",
       "<style scoped>\n",
       "    .dataframe tbody tr th:only-of-type {\n",
       "        vertical-align: middle;\n",
       "    }\n",
       "\n",
       "    .dataframe tbody tr th {\n",
       "        vertical-align: top;\n",
       "    }\n",
       "\n",
       "    .dataframe thead th {\n",
       "        text-align: right;\n",
       "    }\n",
       "</style>\n",
       "<table border=\"1\" class=\"dataframe\">\n",
       "  <thead>\n",
       "    <tr style=\"text-align: right;\">\n",
       "      <th></th>\n",
       "      <th>ITEM_ID</th>\n",
       "      <th>MAKE</th>\n",
       "      <th>MODEL</th>\n",
       "      <th>YEAR</th>\n",
       "      <th>MILEAGE</th>\n",
       "      <th>PRICE</th>\n",
       "    </tr>\n",
       "  </thead>\n",
       "  <tbody>\n",
       "    <tr>\n",
       "      <th>0</th>\n",
       "      <td>0</td>\n",
       "      <td>Volkswagen</td>\n",
       "      <td>Golf</td>\n",
       "      <td>2015</td>\n",
       "      <td>64883</td>\n",
       "      <td>29265</td>\n",
       "    </tr>\n",
       "    <tr>\n",
       "      <th>1</th>\n",
       "      <td>1</td>\n",
       "      <td>Honda</td>\n",
       "      <td>Pilot</td>\n",
       "      <td>2010</td>\n",
       "      <td>140968</td>\n",
       "      <td>16293</td>\n",
       "    </tr>\n",
       "    <tr>\n",
       "      <th>2</th>\n",
       "      <td>2</td>\n",
       "      <td>Dodge</td>\n",
       "      <td>Ram</td>\n",
       "      <td>2013</td>\n",
       "      <td>98521</td>\n",
       "      <td>29198</td>\n",
       "    </tr>\n",
       "    <tr>\n",
       "      <th>3</th>\n",
       "      <td>3</td>\n",
       "      <td>Dodge</td>\n",
       "      <td>Ram</td>\n",
       "      <td>2016</td>\n",
       "      <td>52822</td>\n",
       "      <td>39471</td>\n",
       "    </tr>\n",
       "    <tr>\n",
       "      <th>4</th>\n",
       "      <td>4</td>\n",
       "      <td>Chevrolet</td>\n",
       "      <td>Camaro</td>\n",
       "      <td>2015</td>\n",
       "      <td>66982</td>\n",
       "      <td>30708</td>\n",
       "    </tr>\n",
       "  </tbody>\n",
       "</table>\n",
       "</div>"
      ],
      "text/plain": [
       "  ITEM_ID        MAKE   MODEL  YEAR  MILEAGE  PRICE\n",
       "0       0  Volkswagen    Golf  2015    64883  29265\n",
       "1       1       Honda   Pilot  2010   140968  16293\n",
       "2       2       Dodge     Ram  2013    98521  29198\n",
       "3       3       Dodge     Ram  2016    52822  39471\n",
       "4       4   Chevrolet  Camaro  2015    66982  30708"
      ]
     },
     "execution_count": 16,
     "metadata": {},
     "output_type": "execute_result"
    }
   ],
   "source": [
    "cars_df = gen_cars(NUM_CARS)\n",
    "print(cars_df.shape)\n",
    "cars_df.head()"
   ]
  },
  {
   "cell_type": "markdown",
   "metadata": {},
   "source": [
    "### Look at distribution of each car (item) feature"
   ]
  },
  {
   "cell_type": "code",
   "execution_count": 17,
   "metadata": {},
   "outputs": [
    {
     "data": {
      "text/plain": [
       "Ford          9074\n",
       "Chevrolet     6432\n",
       "Toyota        4238\n",
       "Chrysler      3835\n",
       "Dodge         3461\n",
       "Honda         2990\n",
       "Hyundai       2833\n",
       "Buick         2504\n",
       "Nissan        2277\n",
       "Volkswagen    2146\n",
       "Cadillac      2015\n",
       "GMC           1859\n",
       "BMW           1852\n",
       "Volvo         1731\n",
       "Subaru        1526\n",
       "Jeep           882\n",
       "Kia            345\n",
       "Name: MAKE, dtype: int64"
      ]
     },
     "execution_count": 17,
     "metadata": {},
     "output_type": "execute_result"
    }
   ],
   "source": [
    "cars_df['MAKE'].value_counts()"
   ]
  },
  {
   "cell_type": "code",
   "execution_count": 18,
   "metadata": {},
   "outputs": [
    {
     "data": {
      "text/plain": [
       "Pacifica          1701\n",
       "Mustang           1686\n",
       "Explorer          1683\n",
       "Tahoe             1654\n",
       "Suburban          1651\n",
       "Regal             1631\n",
       "430i              1607\n",
       "Santa Fe          1607\n",
       "Corrola           1574\n",
       "Outback           1526\n",
       "F150              1505\n",
       "Rogue             1478\n",
       "Pilot             1455\n",
       "Silverado         1394\n",
       "Ram               1360\n",
       "200               1347\n",
       "Camaro            1301\n",
       "Escape            1270\n",
       "Elantra           1226\n",
       "Edge              1211\n",
       "XT5               1196\n",
       "Golf              1147\n",
       "Durango           1146\n",
       "Camry             1117\n",
       "Fusion            1061\n",
       "240               1055\n",
       "Yukon              989\n",
       "Caravan            955\n",
       "Acadia             870\n",
       "Escalade           819\n",
       "300                787\n",
       "Prius              758\n",
       "Civic              701\n",
       "V60                676\n",
       "Expedition         658\n",
       "Tiguan             623\n",
       "LaCrosse           587\n",
       "Sienna             547\n",
       "Odyssey            516\n",
       "Grand Cherokee     513\n",
       "Altima             454\n",
       "Traverse           432\n",
       "Jetta              376\n",
       "Cherokee           369\n",
       "Leaf               345\n",
       "Sedona             345\n",
       "Accord             318\n",
       "Enclave            286\n",
       "330i               245\n",
       "Rav4               242\n",
       "Name: MODEL, dtype: int64"
      ]
     },
     "execution_count": 18,
     "metadata": {},
     "output_type": "execute_result"
    }
   ],
   "source": [
    "cars_df['MODEL'].value_counts()"
   ]
  },
  {
   "cell_type": "code",
   "execution_count": 19,
   "metadata": {},
   "outputs": [
    {
     "data": {
      "text/plain": [
       "<matplotlib.axes._subplots.AxesSubplot at 0x7f145a79c0b8>"
      ]
     },
     "execution_count": 19,
     "metadata": {},
     "output_type": "execute_result"
    },
    {
     "data": {
      "image/png": "[encoded data removed]",
      "text/plain": [
       "<Figure size 432x288 with 1 Axes>"
      ]
     },
     "metadata": {},
     "output_type": "display_data"
    }
   ],
   "source": [
    "cars_df['MILEAGE'].hist()"
   ]
  },
  {
   "cell_type": "code",
   "execution_count": 20,
   "metadata": {},
   "outputs": [
    {
     "data": {
      "text/plain": [
       "<matplotlib.axes._subplots.AxesSubplot at 0x7f145a7cc2b0>"
      ]
     },
     "execution_count": 20,
     "metadata": {},
     "output_type": "execute_result"
    },
    {
     "data": {
      "image/png": "[encoded data removed]",
      "text/plain": [
       "<Figure size 432x288 with 1 Axes>"
      ]
     },
     "metadata": {},
     "output_type": "display_data"
    }
   ],
   "source": [
    "cars_df['PRICE'].hist()"
   ]
  },
  {
   "cell_type": "markdown",
   "metadata": {},
   "source": [
    "## Generate data for users dataset\n",
    "Here we normally distribute age of users, and uniformly distribute gender and location."
   ]
  },
  {
   "cell_type": "code",
   "execution_count": 21,
   "metadata": {},
   "outputs": [],
   "source": [
    "def gen_users(num_users):\n",
    "    _users = []\n",
    "    \n",
    "    _zip_len = zip_codes_df.shape[0]\n",
    "    \n",
    "    for i in range(num_users):\n",
    "        _age        = int(np.random.normal(40, 4))\n",
    "        _gender_idx = np.random.randint(0, 2)\n",
    "        _loc_idx    = np.random.randint(0, _zip_len)\n",
    "        if _gender_idx == 0:\n",
    "            _gender = 'MALE'\n",
    "        else:\n",
    "            _gender = 'FEMALE'\n",
    "            \n",
    "        _this_user = [str(i), _age, _gender, \n",
    "                      str(zip_codes_df.iloc[_loc_idx][0]), \n",
    "                      zip_codes_df.iloc[_loc_idx][2]]\n",
    "        \n",
    "        _users.append(_this_user)\n",
    "        \n",
    "    _df = pd.DataFrame(_users, columns=['USER_ID', 'AGE', 'GENDER', 'LOCATION', 'SALARY'])\n",
    "    return _df"
   ]
  },
  {
   "cell_type": "code",
   "execution_count": 22,
   "metadata": {},
   "outputs": [
    {
     "name": "stdout",
     "output_type": "stream",
     "text": [
      "(30000, 5)\n"
     ]
    },
    {
     "data": {
      "text/html": [
       "<div>\n",
       "<style scoped>\n",
       "    .dataframe tbody tr th:only-of-type {\n",
       "        vertical-align: middle;\n",
       "    }\n",
       "\n",
       "    .dataframe tbody tr th {\n",
       "        vertical-align: top;\n",
       "    }\n",
       "\n",
       "    .dataframe thead th {\n",
       "        text-align: right;\n",
       "    }\n",
       "</style>\n",
       "<table border=\"1\" class=\"dataframe\">\n",
       "  <thead>\n",
       "    <tr style=\"text-align: right;\">\n",
       "      <th></th>\n",
       "      <th>USER_ID</th>\n",
       "      <th>AGE</th>\n",
       "      <th>GENDER</th>\n",
       "      <th>LOCATION</th>\n",
       "      <th>SALARY</th>\n",
       "    </tr>\n",
       "  </thead>\n",
       "  <tbody>\n",
       "    <tr>\n",
       "      <th>0</th>\n",
       "      <td>0</td>\n",
       "      <td>44</td>\n",
       "      <td>MALE</td>\n",
       "      <td>92553</td>\n",
       "      <td>38554</td>\n",
       "    </tr>\n",
       "    <tr>\n",
       "      <th>1</th>\n",
       "      <td>1</td>\n",
       "      <td>41</td>\n",
       "      <td>FEMALE</td>\n",
       "      <td>92509</td>\n",
       "      <td>45995</td>\n",
       "    </tr>\n",
       "    <tr>\n",
       "      <th>2</th>\n",
       "      <td>2</td>\n",
       "      <td>40</td>\n",
       "      <td>FEMALE</td>\n",
       "      <td>10453</td>\n",
       "      <td>21109</td>\n",
       "    </tr>\n",
       "    <tr>\n",
       "      <th>3</th>\n",
       "      <td>3</td>\n",
       "      <td>35</td>\n",
       "      <td>FEMALE</td>\n",
       "      <td>60647</td>\n",
       "      <td>35283</td>\n",
       "    </tr>\n",
       "    <tr>\n",
       "      <th>4</th>\n",
       "      <td>4</td>\n",
       "      <td>43</td>\n",
       "      <td>FEMALE</td>\n",
       "      <td>60625</td>\n",
       "      <td>40083</td>\n",
       "    </tr>\n",
       "  </tbody>\n",
       "</table>\n",
       "</div>"
      ],
      "text/plain": [
       "  USER_ID  AGE  GENDER LOCATION  SALARY\n",
       "0       0   44    MALE    92553   38554\n",
       "1       1   41  FEMALE    92509   45995\n",
       "2       2   40  FEMALE    10453   21109\n",
       "3       3   35  FEMALE    60647   35283\n",
       "4       4   43  FEMALE    60625   40083"
      ]
     },
     "execution_count": 22,
     "metadata": {},
     "output_type": "execute_result"
    }
   ],
   "source": [
    "users_df = gen_users(NUM_USERS)\n",
    "print(users_df.shape)\n",
    "users_df.head()"
   ]
  },
  {
   "cell_type": "markdown",
   "metadata": {},
   "source": [
    "### Look at the distribution of each user feature"
   ]
  },
  {
   "cell_type": "code",
   "execution_count": 23,
   "metadata": {},
   "outputs": [
    {
     "data": {
      "text/plain": [
       "<matplotlib.axes._subplots.AxesSubplot at 0x7f145a3bb780>"
      ]
     },
     "execution_count": 23,
     "metadata": {},
     "output_type": "execute_result"
    },
    {
     "data": {
      "image/png": "[encoded data removed]",
      "text/plain": [
       "<Figure size 432x288 with 1 Axes>"
      ]
     },
     "metadata": {},
     "output_type": "display_data"
    }
   ],
   "source": [
    "users_df['AGE'].hist()"
   ]
  },
  {
   "cell_type": "code",
   "execution_count": 24,
   "metadata": {},
   "outputs": [
    {
     "data": {
      "text/plain": [
       "77479    350\n",
       "60647    341\n",
       "11219    339\n",
       "11226    331\n",
       "91710    327\n",
       "91342    326\n",
       "87121    325\n",
       "91744    324\n",
       "75217    322\n",
       "94565    321\n",
       "Name: LOCATION, dtype: int64"
      ]
     },
     "execution_count": 24,
     "metadata": {},
     "output_type": "execute_result"
    }
   ],
   "source": [
    "users_df['LOCATION'].value_counts()[0:10]"
   ]
  },
  {
   "cell_type": "code",
   "execution_count": 25,
   "metadata": {},
   "outputs": [
    {
     "data": {
      "text/plain": [
       "<matplotlib.axes._subplots.AxesSubplot at 0x7f145a0ece10>"
      ]
     },
     "execution_count": 25,
     "metadata": {},
     "output_type": "execute_result"
    },
    {
     "data": {
      "image/png": "[encoded data removed]",
      "text/plain": [
       "<Figure size 432x288 with 1 Axes>"
      ]
     },
     "metadata": {},
     "output_type": "display_data"
    }
   ],
   "source": [
    "users_df['SALARY'].hist()"
   ]
  },
  {
   "cell_type": "code",
   "execution_count": 26,
   "metadata": {},
   "outputs": [
    {
     "name": "stdout",
     "output_type": "stream",
     "text": [
      "Car count: 50000, User count: 30000\n"
     ]
    }
   ],
   "source": [
    "print('Car count: {}, User count: {}'.format(NUM_CARS, NUM_USERS))"
   ]
  },
  {
   "cell_type": "markdown",
   "metadata": {},
   "source": [
    "## Generate interactions dataset"
   ]
  },
  {
   "cell_type": "markdown",
   "metadata": {},
   "source": [
    "### Helper function for normal distribution of interaction items"
   ]
  },
  {
   "cell_type": "code",
   "execution_count": 27,
   "metadata": {},
   "outputs": [],
   "source": [
    "def gen_normal_item_indices(num_indices, num_items, std_div=10):\n",
    "    _loc = num_indices // 2\n",
    "    _std = num_indices // std_div\n",
    "\n",
    "    _tmp = np.random.normal(loc=_loc, scale=_std, size=num_items)\n",
    "    _tmp = _tmp.astype(int)\n",
    "\n",
    "#    num_bins = 50\n",
    "#    _a, _b, _c = plt.hist(_tmp, num_bins)\n",
    "    \n",
    "    return _tmp"
   ]
  },
  {
   "cell_type": "markdown",
   "metadata": {},
   "source": [
    "### Add columns to users that will drive a predictable set of interactions\n",
    "Interactions will be generated on a per-user basis. Here we define what set of cars\n",
    "a user will be viewing. We do this by defining a set of \"car clusters\". A car cluster\n",
    "is the set of cars that all have the same make and model, plus an age preference.\n",
    "For example, some users will prefer Old Toyota Camry's. Others will like New Ford Explore's.\n",
    "\n",
    "The `FAV_CLUSTER` feature is an integer representing the user's favorit car cluster. The `FAV` \n",
    "feature is a text version that makes it easier to understand the car cluster when looking\n",
    "at the data during testing and model assessment. These features are NOT saved as part of\n",
    "the Amazon Personalize datasets, but ARE saved as part of the expanded interactions data\n",
    "that is saved for helping in the model usage notebook."
   ]
  },
  {
   "cell_type": "code",
   "execution_count": 28,
   "metadata": {},
   "outputs": [
    {
     "data": {
      "text/plain": [
       "47    769\n",
       "49    762\n",
       "48    755\n",
       "52    733\n",
       "51    732\n",
       "44    732\n",
       "53    725\n",
       "54    719\n",
       "45    715\n",
       "43    706\n",
       "50    702\n",
       "56    702\n",
       "42    697\n",
       "46    696\n",
       "57    684\n",
       "55    677\n",
       "58    659\n",
       "41    659\n",
       "40    631\n",
       "39    599\n",
       "59    599\n",
       "38    580\n",
       "60    562\n",
       "62    561\n",
       "61    554\n",
       "36    527\n",
       "35    527\n",
       "37    526\n",
       "64    519\n",
       "63    504\n",
       "     ... \n",
       "84     62\n",
       "85     58\n",
       "13     54\n",
       "87     50\n",
       "12     50\n",
       "86     48\n",
       "10     46\n",
       "99     43\n",
       "11     41\n",
       "88     40\n",
       "0      34\n",
       "91     33\n",
       "7      33\n",
       "9      30\n",
       "89     30\n",
       "92     28\n",
       "8      26\n",
       "90     26\n",
       "94     22\n",
       "6      19\n",
       "96     16\n",
       "93     13\n",
       "95     13\n",
       "5      13\n",
       "2      12\n",
       "3       9\n",
       "97      8\n",
       "4       8\n",
       "1       7\n",
       "98      3\n",
       "Name: FAV_CLUSTER, Length: 100, dtype: int64"
      ]
     },
     "execution_count": 28,
     "metadata": {},
     "output_type": "execute_result"
    },
    {
     "data": {
      "image/png": "[encoded data removed]",
      "text/plain": [
       "<Figure size 432x288 with 1 Axes>"
      ]
     },
     "metadata": {},
     "output_type": "display_data"
    }
   ],
   "source": [
    "def set_fav(user_id):\n",
    "    _fav = int(np.random.normal(NUM_CLUSTERS // 2, NUM_CLUSTERS // 6))\n",
    "    _fav = min(NUM_CLUSTERS - 1, _fav)\n",
    "    _fav = max(0, _fav)\n",
    "    return _fav\n",
    "\n",
    "users_df['FAV_CLUSTER'] = users_df['USER_ID'].apply(set_fav)\n",
    "users_df['FAV_CLUSTER'].hist()\n",
    "users_df['FAV_CLUSTER'].value_counts()"
   ]
  },
  {
   "cell_type": "code",
   "execution_count": 29,
   "metadata": {},
   "outputs": [
    {
     "data": {
      "text/plain": [
       "24    1517\n",
       "23    1465\n",
       "26    1458\n",
       "22    1447\n",
       "25    1434\n",
       "21    1403\n",
       "27    1396\n",
       "28    1386\n",
       "20    1290\n",
       "29    1258\n",
       "19    1179\n",
       "30    1116\n",
       "31    1065\n",
       "18    1053\n",
       "17     987\n",
       "32     984\n",
       "16     828\n",
       "33     827\n",
       "15     777\n",
       "34     729\n",
       "35     629\n",
       "14     588\n",
       "13     583\n",
       "36     568\n",
       "37     436\n",
       "12     427\n",
       "38     367\n",
       "11     360\n",
       "39     320\n",
       "10     281\n",
       "40     238\n",
       "9      225\n",
       "8      182\n",
       "41     175\n",
       "7      147\n",
       "42     120\n",
       "6      104\n",
       "43      98\n",
       "5       87\n",
       "44      70\n",
       "45      59\n",
       "4       56\n",
       "3       52\n",
       "49      46\n",
       "0       41\n",
       "46      41\n",
       "47      35\n",
       "48      24\n",
       "1       21\n",
       "2       21\n",
       "Name: FAV_MODEL, dtype: int64"
      ]
     },
     "execution_count": 29,
     "metadata": {},
     "output_type": "execute_result"
    },
    {
     "data": {
      "image/png": "[encoded data removed]",
      "text/plain": [
       "<Figure size 432x288 with 1 Axes>"
      ]
     },
     "metadata": {},
     "output_type": "display_data"
    }
   ],
   "source": [
    "users_df['FAV_MODEL'] = users_df['FAV_CLUSTER'] // 2\n",
    "users_df['FAV_MODEL'].hist()\n",
    "users_df['FAV_MODEL'].value_counts()"
   ]
  },
  {
   "cell_type": "code",
   "execution_count": 30,
   "metadata": {},
   "outputs": [
    {
     "data": {
      "text/plain": [
       "OLDISH-Chrysler-Pacifica      769\n",
       "OLDISH-Ford-Mustang           762\n",
       "NEWISH-Ford-Mustang           755\n",
       "NEWISH-Ford-Explorer          733\n",
       "OLDISH-BMW-430i               732\n",
       "NEWISH-Chevrolet-Suburban     732\n",
       "OLDISH-Ford-Explorer          725\n",
       "NEWISH-Chevrolet-Tahoe        719\n",
       "OLDISH-Chevrolet-Suburban     715\n",
       "OLDISH-Nissan-Rogue           706\n",
       "NEWISH-Buick-Regal            702\n",
       "NEWISH-BMW-430i               702\n",
       "NEWISH-Nissan-Rogue           697\n",
       "NEWISH-Chrysler-Pacifica      696\n",
       "OLDISH-Buick-Regal            684\n",
       "OLDISH-Chevrolet-Tahoe        677\n",
       "OLDISH-Toyota-Corrola         659\n",
       "NEWISH-Hyundai-Santa Fe       659\n",
       "NEWISH-Toyota-Corrola         631\n",
       "OLDISH-Hyundai-Santa Fe       599\n",
       "OLDISH-Ford-F150              599\n",
       "NEWISH-Ford-F150              580\n",
       "NEWISH-Subaru-Outback         562\n",
       "NEWISH-Chrysler-200           561\n",
       "OLDISH-Subaru-Outback         554\n",
       "OLDISH-Chevrolet-Silverado    527\n",
       "NEWISH-Honda-Pilot            527\n",
       "OLDISH-Honda-Pilot            526\n",
       "NEWISH-Dodge-Ram              519\n",
       "OLDISH-Chrysler-200           504\n",
       "                             ... \n",
       "NEWISH-Toyota-Sienna           62\n",
       "OLDISH-Toyota-Sienna           58\n",
       "OLDISH-Honda-Odyssey           54\n",
       "NEWISH-Honda-Odyssey           50\n",
       "OLDISH-Jeep-Grand Cherokee     50\n",
       "NEWISH-Jeep-Grand Cherokee     48\n",
       "NEWISH-Nissan-Altima           46\n",
       "OLDISH-Dodge-Durango           43\n",
       "OLDISH-Nissan-Altima           41\n",
       "NEWISH-Chevrolet-Traverse      40\n",
       "NEWISH-Toyota-Camry            34\n",
       "OLDISH-Kia-Sedona              33\n",
       "OLDISH-Volkswagen-Jetta        33\n",
       "OLDISH-Jeep-Cherokee           30\n",
       "OLDISH-Chevrolet-Traverse      30\n",
       "NEWISH-Nissan-Leaf             28\n",
       "NEWISH-Jeep-Cherokee           26\n",
       "NEWISH-Volkswagen-Jetta        26\n",
       "NEWISH-Honda-Accord            22\n",
       "NEWISH-Kia-Sedona              19\n",
       "NEWISH-Toyota-Rav4             16\n",
       "OLDISH-Nissan-Leaf             13\n",
       "OLDISH-Honda-Accord            13\n",
       "OLDISH-Buick-Enclave           13\n",
       "NEWISH-BMW-330i                12\n",
       "OLDISH-BMW-330i                 9\n",
       "OLDISH-Toyota-Rav4              8\n",
       "NEWISH-Buick-Enclave            8\n",
       "OLDISH-Toyota-Camry             7\n",
       "NEWISH-Dodge-Durango            3\n",
       "Name: FAV, Length: 100, dtype: int64"
      ]
     },
     "execution_count": 30,
     "metadata": {},
     "output_type": "execute_result"
    }
   ],
   "source": [
    "def set_fav_text(cluster):\n",
    "    fav_model = cluster // 2\n",
    "    if cluster % 2 == 0:\n",
    "        age = 'NEWISH'\n",
    "    else:\n",
    "        age = 'OLDISH'\n",
    "    return  '{}-{}-{}'.format(age,\n",
    "                              models_df.iloc[fav_model]['MAKE'], \n",
    "                              models_df.iloc[fav_model]['MODEL'])\n",
    "users_df['FAV'] = users_df['FAV_CLUSTER'].apply(set_fav_text)\n",
    "users_df['FAV'].value_counts()"
   ]
  },
  {
   "cell_type": "markdown",
   "metadata": {},
   "source": [
    "### Helper functions"
   ]
  },
  {
   "cell_type": "code",
   "execution_count": 31,
   "metadata": {},
   "outputs": [],
   "source": [
    "def print_item(item_id):\n",
    "    tmp = cars_df[cars_df.ITEM_ID == item_id].iloc[0]\n",
    "    print('Id: {}, Make: {}, Model: {}, Miles: {}, Year: {}, Price: {}, Age: {}'.format(item_id,\n",
    "         tmp['MAKE'], tmp['MODEL'], tmp['MILEAGE'], tmp['YEAR'], tmp['PRICE'], tmp['AGE']))"
   ]
  },
  {
   "cell_type": "code",
   "execution_count": 32,
   "metadata": {},
   "outputs": [],
   "source": [
    "def print_car_cluster(c):\n",
    "    print(len(c))\n",
    "    print(c)"
   ]
  },
  {
   "cell_type": "markdown",
   "metadata": {},
   "source": [
    "### Generate a normal distribution of random cars for a given car cluster"
   ]
  },
  {
   "cell_type": "code",
   "execution_count": 33,
   "metadata": {},
   "outputs": [],
   "source": [
    "import scipy.stats as stats\n",
    "import math\n",
    "import statistics"
   ]
  },
  {
   "cell_type": "code",
   "execution_count": 34,
   "metadata": {},
   "outputs": [],
   "source": [
    "def gen_normal_from_cluster(_fav_cars, _which_cluster, _sample_size):\n",
    "    _car_cluster = _fav_cars[_which_cluster].reset_index(drop=True)\n",
    "    _cluster_len = len(_car_cluster)\n",
    "\n",
    "    _mu = _cluster_len // 2\n",
    "    _sigma = _cluster_len // 10\n",
    "\n",
    "    _idx_list = np.random.normal(loc  =_mu, \n",
    "                                 scale=_sigma, \n",
    "                                 size =_sample_size)\n",
    "    _idx_list = _idx_list.astype(int)\n",
    "        \n",
    "    # We want to maximize how many specific car items are involved in the generated\n",
    "    # interactions. However, the more we push the envelope, the more likely it is that\n",
    "    # a generated index is outside of bounds. Here we catch and resolve those situations.\n",
    "    i = 0\n",
    "    while max(_idx_list) > (_cluster_len - 1):\n",
    "        i += 1\n",
    "        if i > 6:\n",
    "            print('==correcting max {}, i {}, cluster len: {}, sample size {}'.format(\n",
    "                max(_idx_list), i, _cluster_len, _sample_size))\n",
    "        _idx_of_max = np.argmax(_idx_list)\n",
    "        _idx_list[_idx_of_max] = np.random.randint(0, (_cluster_len -1))\n",
    "        \n",
    "    return _car_cluster.iloc[_idx_list]['ITEM_ID'].values"
   ]
  },
  {
   "cell_type": "code",
   "execution_count": 35,
   "metadata": {},
   "outputs": [],
   "source": [
    "def gen_normal_from_cluster_v2(_fav_cars, _which_cluster, _sample_size):\n",
    "    _car_cluster = _fav_cars[_which_cluster].reset_index(drop=True)\n",
    "    _cluster_len = len(_car_cluster)\n",
    "\n",
    "    _mu = statistics.mean(_car_cluster.index)\n",
    "    _sigma = statistics.stdev(_car_cluster.index)\n",
    "\n",
    "    _low_clip = (0 - _mu) / _sigma\n",
    "    _hi_clip  = (_cluster_len - 1 - _mu) / _sigma\n",
    "    \n",
    "    _idx_list = stats.truncnorm.rvs(_low_clip, _hi_clip, \n",
    "                                    loc=_mu, scale=_sigma, \n",
    "                                    size=_sample_size)\n",
    "    _idx_list = _idx_list.astype(int)\n",
    "            \n",
    "    return _car_cluster.iloc[_idx_list]['ITEM_ID'].values"
   ]
  },
  {
   "cell_type": "markdown",
   "metadata": {},
   "source": [
    "### Core function for generating interactions"
   ]
  },
  {
   "cell_type": "code",
   "execution_count": 36,
   "metadata": {},
   "outputs": [],
   "source": [
    "def gen_interactions(num_interactions):\n",
    "    _interactions = []\n",
    "    \n",
    "    _num_users = users_df.shape[0]\n",
    "    _num_items = cars_df.shape[0]\n",
    "    \n",
    "    # generate interactions as sets of interactions separated by a few mins\n",
    "    # by same user on different items\n",
    "    _session_len = SESSION_LEN\n",
    "    _num_sessions = num_interactions // _session_len\n",
    "    print('Generating {} sessions of length {}, total: {}...'.format(_num_sessions, \n",
    "                                                                     _session_len,\n",
    "                                                                     num_interactions))\n",
    "\n",
    "    # One-time generation of the list of cars that match each possible cluster of\n",
    "    # favorite cars. A random selection of these will be used in each session.\n",
    "    _fav_cars = []\n",
    "    for c in range(NUM_CLUSTERS):\n",
    "        m = c // 2\n",
    "        _make  = models_df.iloc[m]['MAKE']\n",
    "        _model = models_df.iloc[m]['MODEL']\n",
    "        if c % 2 == 0:\n",
    "            # newish\n",
    "            _car_cluster = cars_df[(cars_df.YEAR >= str(MID_YEAR)) &\n",
    "                                       (cars_df.MAKE  == _make) &\n",
    "                                       (cars_df.MODEL == _model)]\n",
    "        else:\n",
    "            # oldish\n",
    "            _car_cluster = cars_df[(cars_df.YEAR < str(MID_YEAR)) &\n",
    "                                       (cars_df.MAKE  == _make) &\n",
    "                                       (cars_df.MODEL == _model)]\n",
    "\n",
    "        _fav_cars.append(_car_cluster)\n",
    "\n",
    "    # Generate a set of user_id's to be used, one per session\n",
    "    _which_user_idx = gen_normal_item_indices(_num_users, _num_sessions, std_div=5)\n",
    "\n",
    "    # Session start times will be randomly picked to happen between now and a configurable\n",
    "    # time in the past\n",
    "    _most_recent_time = MOST_RECENT_TIMESTAMP - (60 * 60 * 2) - \\\n",
    "                            ((SESSION_LEN + 1) * SESSION_DELAY_SECONDS)\n",
    "    _oldest_time      = _most_recent_time - SECONDS_SINCE_OLDEST_INTERACTION\n",
    "    \n",
    "    print('Oldest session starts: {}, Newest: {}'.format(date_to_string(_oldest_time),\n",
    "                                                         date_to_string(_most_recent_time)))\n",
    "    \n",
    "    for s in range(_num_sessions):\n",
    "        if (s % 10000 == 0):\n",
    "            print('...at session {}'.format(s))\n",
    "            \n",
    "        _user = _which_user_idx[s]\n",
    "        \n",
    "        # ensure user id is within bounds\n",
    "        if (_user < 0) or (_user > (NUM_USERS - 1)):\n",
    "            _user = np.random.randint(10, NUM_USERS - 10)\n",
    "            \n",
    "        # Use same car cluster for every interaction in the current session\n",
    "        _which_cluster  = users_df.iloc[_user]['FAV_CLUSTER']\n",
    "\n",
    "        # Pick a random session start time\n",
    "        _when = np.random.randint(_oldest_time, _most_recent_time)\n",
    "        \n",
    "        # Generate a set of specific cars to use in this session. Choose them\n",
    "        # only from the designated car cluster preferred by this user.\n",
    "        _sample_size = num_interactions // NUM_CLUSTERS\n",
    "        _session_cars = gen_normal_from_cluster(_fav_cars, _which_cluster, _sample_size)\n",
    "\n",
    "        for i in range(_session_len):\n",
    "            interaction_num = (s * _session_len) + i\n",
    "            idx = interaction_num % NUM_CLUSTERS\n",
    "\n",
    "            _item = _session_cars[idx]\n",
    "\n",
    "            _when = _when + (i * SESSION_DELAY_SECONDS) \n",
    "\n",
    "            _this_interaction = [str(_user), str(_item), _when, s]\n",
    "\n",
    "            _interactions.append(_this_interaction)\n",
    "        \n",
    "    _df = pd.DataFrame(_interactions, columns=['USER_ID', 'ITEM_ID', 'TIMESTAMP', 'SESSION_ID'])\n",
    "    return _df"
   ]
  },
  {
   "cell_type": "code",
   "execution_count": 37,
   "metadata": {},
   "outputs": [
    {
     "name": "stdout",
     "output_type": "stream",
     "text": [
      "Generating 75000 sessions of length 10, total: 750000...\n",
      "Oldest session starts: 2019-07-10 09:52:18, Newest: 2019-07-17 09:52:18\n",
      "...at session 0\n",
      "...at session 10000\n",
      "...at session 20000\n",
      "...at session 30000\n",
      "...at session 40000\n",
      "...at session 50000\n",
      "...at session 60000\n",
      "...at session 70000\n",
      "CPU times: user 3min 27s, sys: 176 ms, total: 3min 27s\n",
      "Wall time: 3min 27s\n"
     ]
    }
   ],
   "source": [
    "%%time\n",
    "interactions_df = gen_interactions(NUM_INTERACTIONS)\n",
    "interactions_df.head()"
   ]
  },
  {
   "cell_type": "markdown",
   "metadata": {},
   "source": [
    "### Show utilization and distribution of interactions per user and per item"
   ]
  },
  {
   "cell_type": "code",
   "execution_count": 38,
   "metadata": {},
   "outputs": [
    {
     "name": "stdout",
     "output_type": "stream",
     "text": [
      "** 0.78 of users have interactions (23364/30000)\n",
      "\n",
      "First 5: \n",
      "15874    160\n",
      "12102    140\n",
      "20068    140\n",
      "17032    140\n",
      "17106    140\n",
      "Name: USER_ID, dtype: int64\n",
      "Last 5:  \n",
      "28864    10\n",
      "7695     10\n",
      "20660    10\n",
      "27196    10\n",
      "24073    10\n",
      "Name: USER_ID, dtype: int64\n"
     ]
    }
   ],
   "source": [
    "_user_vc = interactions_df['USER_ID'].value_counts()\n",
    "print('** {:.2f} of users have interactions ({}/{})\\n'.format(_user_vc.shape[0]/NUM_USERS,\n",
    "                                                        _user_vc.shape[0],\n",
    "                                                        NUM_USERS))\n",
    "print('First 5: \\n{}'.format(_user_vc[:5]))\n",
    "print('Last 5:  \\n{}'.format(_user_vc[-5:]))"
   ]
  },
  {
   "cell_type": "code",
   "execution_count": 39,
   "metadata": {},
   "outputs": [
    {
     "name": "stdout",
     "output_type": "stream",
     "text": [
      "** 0.58 of ITEMS have interactions (29135/50000)\n",
      "\n",
      "First 5: \n",
      "25714    122\n",
      "25104    113\n",
      "24588    113\n",
      "25589    113\n",
      "26377    113\n",
      "Name: ITEM_ID, dtype: int64\n",
      "Last 5:  \n",
      "11457    1\n",
      "37436    1\n",
      "8156     1\n",
      "11351    1\n",
      "8240     1\n",
      "Name: ITEM_ID, dtype: int64\n"
     ]
    }
   ],
   "source": [
    "print('** {:.2f} of ITEMS have interactions ({}/{})\\n'.format(interactions_df['ITEM_ID'].value_counts().shape[0]/NUM_CARS,\n",
    "                                                      interactions_df['ITEM_ID'].value_counts().shape[0],\n",
    "                                                       NUM_CARS))\n",
    "_item_vc = interactions_df['ITEM_ID'].value_counts()\n",
    "print('First 5: \\n{}'.format(_item_vc[:5]))\n",
    "print('Last 5:  \\n{}'.format(_item_vc[-5:]))"
   ]
  },
  {
   "cell_type": "markdown",
   "metadata": {},
   "source": [
    "## Drop inactive users and items"
   ]
  },
  {
   "cell_type": "code",
   "execution_count": 40,
   "metadata": {},
   "outputs": [
    {
     "name": "stdout",
     "output_type": "stream",
     "text": [
      "6636 users have NO interactions\n"
     ]
    },
    {
     "data": {
      "text/html": [
       "<div>\n",
       "<style scoped>\n",
       "    .dataframe tbody tr th:only-of-type {\n",
       "        vertical-align: middle;\n",
       "    }\n",
       "\n",
       "    .dataframe tbody tr th {\n",
       "        vertical-align: top;\n",
       "    }\n",
       "\n",
       "    .dataframe thead th {\n",
       "        text-align: right;\n",
       "    }\n",
       "</style>\n",
       "<table border=\"1\" class=\"dataframe\">\n",
       "  <thead>\n",
       "    <tr style=\"text-align: right;\">\n",
       "      <th></th>\n",
       "      <th>USER_ID</th>\n",
       "      <th>AGE</th>\n",
       "      <th>GENDER</th>\n",
       "      <th>LOCATION</th>\n",
       "      <th>SALARY</th>\n",
       "      <th>FAV_CLUSTER</th>\n",
       "      <th>FAV_MODEL</th>\n",
       "      <th>FAV</th>\n",
       "    </tr>\n",
       "  </thead>\n",
       "  <tbody>\n",
       "    <tr>\n",
       "      <th>0</th>\n",
       "      <td>0</td>\n",
       "      <td>44</td>\n",
       "      <td>MALE</td>\n",
       "      <td>92553</td>\n",
       "      <td>38554</td>\n",
       "      <td>26</td>\n",
       "      <td>13</td>\n",
       "      <td>NEWISH-Volvo-240</td>\n",
       "    </tr>\n",
       "    <tr>\n",
       "      <th>1</th>\n",
       "      <td>1</td>\n",
       "      <td>41</td>\n",
       "      <td>FEMALE</td>\n",
       "      <td>92509</td>\n",
       "      <td>45995</td>\n",
       "      <td>64</td>\n",
       "      <td>32</td>\n",
       "      <td>NEWISH-Dodge-Ram</td>\n",
       "    </tr>\n",
       "    <tr>\n",
       "      <th>2</th>\n",
       "      <td>2</td>\n",
       "      <td>40</td>\n",
       "      <td>FEMALE</td>\n",
       "      <td>10453</td>\n",
       "      <td>21109</td>\n",
       "      <td>47</td>\n",
       "      <td>23</td>\n",
       "      <td>OLDISH-Chrysler-Pacifica</td>\n",
       "    </tr>\n",
       "    <tr>\n",
       "      <th>4</th>\n",
       "      <td>4</td>\n",
       "      <td>43</td>\n",
       "      <td>FEMALE</td>\n",
       "      <td>60625</td>\n",
       "      <td>40083</td>\n",
       "      <td>29</td>\n",
       "      <td>14</td>\n",
       "      <td>OLDISH-Volkswagen-Golf</td>\n",
       "    </tr>\n",
       "    <tr>\n",
       "      <th>5</th>\n",
       "      <td>5</td>\n",
       "      <td>33</td>\n",
       "      <td>FEMALE</td>\n",
       "      <td>22193</td>\n",
       "      <td>67190</td>\n",
       "      <td>56</td>\n",
       "      <td>28</td>\n",
       "      <td>NEWISH-Buick-Regal</td>\n",
       "    </tr>\n",
       "  </tbody>\n",
       "</table>\n",
       "</div>"
      ],
      "text/plain": [
       "  USER_ID  AGE  GENDER LOCATION  SALARY  FAV_CLUSTER  FAV_MODEL  \\\n",
       "0       0   44    MALE    92553   38554           26         13   \n",
       "1       1   41  FEMALE    92509   45995           64         32   \n",
       "2       2   40  FEMALE    10453   21109           47         23   \n",
       "4       4   43  FEMALE    60625   40083           29         14   \n",
       "5       5   33  FEMALE    22193   67190           56         28   \n",
       "\n",
       "                        FAV  \n",
       "0          NEWISH-Volvo-240  \n",
       "1          NEWISH-Dodge-Ram  \n",
       "2  OLDISH-Chrysler-Pacifica  \n",
       "4    OLDISH-Volkswagen-Golf  \n",
       "5        NEWISH-Buick-Regal  "
      ]
     },
     "execution_count": 40,
     "metadata": {},
     "output_type": "execute_result"
    }
   ],
   "source": [
    "active_users   = pd.DataFrame(interactions_df['USER_ID'].value_counts()).index\n",
    "inactive_users = users_df[~users_df.USER_ID.isin(active_users)]\n",
    "print('{} users have NO interactions'.format(inactive_users.shape[0]))\n",
    "inactive_users.head()"
   ]
  },
  {
   "cell_type": "code",
   "execution_count": 41,
   "metadata": {},
   "outputs": [
    {
     "data": {
      "text/plain": [
       "count    23364.000000\n",
       "mean        32.100668\n",
       "std         20.928966\n",
       "min         10.000000\n",
       "25%         10.000000\n",
       "50%         30.000000\n",
       "75%         40.000000\n",
       "max        160.000000\n",
       "Name: USER_ID, dtype: float64"
      ]
     },
     "execution_count": 41,
     "metadata": {},
     "output_type": "execute_result"
    },
    {
     "data": {
      "image/png": "[encoded data removed]",
      "text/plain": [
       "<Figure size 432x288 with 1 Axes>"
      ]
     },
     "metadata": {},
     "output_type": "display_data"
    }
   ],
   "source": [
    "active_users_df = pd.DataFrame(interactions_df['USER_ID'].value_counts()).reset_index()\n",
    "active_users_df['USER_ID'].hist()\n",
    "active_users_df.head()\n",
    "active_users_df['USER_ID'].describe()"
   ]
  },
  {
   "cell_type": "code",
   "execution_count": 42,
   "metadata": {},
   "outputs": [
    {
     "name": "stdout",
     "output_type": "stream",
     "text": [
      "20865 items have NO interactions\n"
     ]
    },
    {
     "data": {
      "text/html": [
       "<div>\n",
       "<style scoped>\n",
       "    .dataframe tbody tr th:only-of-type {\n",
       "        vertical-align: middle;\n",
       "    }\n",
       "\n",
       "    .dataframe tbody tr th {\n",
       "        vertical-align: top;\n",
       "    }\n",
       "\n",
       "    .dataframe thead th {\n",
       "        text-align: right;\n",
       "    }\n",
       "</style>\n",
       "<table border=\"1\" class=\"dataframe\">\n",
       "  <thead>\n",
       "    <tr style=\"text-align: right;\">\n",
       "      <th></th>\n",
       "      <th>ITEM_ID</th>\n",
       "      <th>MAKE</th>\n",
       "      <th>MODEL</th>\n",
       "      <th>YEAR</th>\n",
       "      <th>MILEAGE</th>\n",
       "      <th>PRICE</th>\n",
       "    </tr>\n",
       "  </thead>\n",
       "  <tbody>\n",
       "    <tr>\n",
       "      <th>0</th>\n",
       "      <td>0</td>\n",
       "      <td>Volkswagen</td>\n",
       "      <td>Golf</td>\n",
       "      <td>2015</td>\n",
       "      <td>64883</td>\n",
       "      <td>29265</td>\n",
       "    </tr>\n",
       "    <tr>\n",
       "      <th>1</th>\n",
       "      <td>1</td>\n",
       "      <td>Honda</td>\n",
       "      <td>Pilot</td>\n",
       "      <td>2010</td>\n",
       "      <td>140968</td>\n",
       "      <td>16293</td>\n",
       "    </tr>\n",
       "    <tr>\n",
       "      <th>2</th>\n",
       "      <td>2</td>\n",
       "      <td>Dodge</td>\n",
       "      <td>Ram</td>\n",
       "      <td>2013</td>\n",
       "      <td>98521</td>\n",
       "      <td>29198</td>\n",
       "    </tr>\n",
       "    <tr>\n",
       "      <th>3</th>\n",
       "      <td>3</td>\n",
       "      <td>Dodge</td>\n",
       "      <td>Ram</td>\n",
       "      <td>2016</td>\n",
       "      <td>52822</td>\n",
       "      <td>39471</td>\n",
       "    </tr>\n",
       "    <tr>\n",
       "      <th>4</th>\n",
       "      <td>4</td>\n",
       "      <td>Chevrolet</td>\n",
       "      <td>Camaro</td>\n",
       "      <td>2015</td>\n",
       "      <td>66982</td>\n",
       "      <td>30708</td>\n",
       "    </tr>\n",
       "  </tbody>\n",
       "</table>\n",
       "</div>"
      ],
      "text/plain": [
       "  ITEM_ID        MAKE   MODEL  YEAR  MILEAGE  PRICE\n",
       "0       0  Volkswagen    Golf  2015    64883  29265\n",
       "1       1       Honda   Pilot  2010   140968  16293\n",
       "2       2       Dodge     Ram  2013    98521  29198\n",
       "3       3       Dodge     Ram  2016    52822  39471\n",
       "4       4   Chevrolet  Camaro  2015    66982  30708"
      ]
     },
     "execution_count": 42,
     "metadata": {},
     "output_type": "execute_result"
    }
   ],
   "source": [
    "active_items   = pd.DataFrame(interactions_df['ITEM_ID'].value_counts()).index\n",
    "inactive_items = cars_df[~cars_df.ITEM_ID.isin(active_items)]\n",
    "print('{} items have NO interactions'.format(inactive_items.shape[0]))\n",
    "inactive_items.head()"
   ]
  },
  {
   "cell_type": "code",
   "execution_count": 43,
   "metadata": {},
   "outputs": [
    {
     "data": {
      "text/plain": [
       "count    29135.000000\n",
       "mean        25.742234\n",
       "std         25.912569\n",
       "min          1.000000\n",
       "25%          4.000000\n",
       "50%         16.000000\n",
       "75%         42.000000\n",
       "max        122.000000\n",
       "Name: ITEM_ID, dtype: float64"
      ]
     },
     "execution_count": 43,
     "metadata": {},
     "output_type": "execute_result"
    },
    {
     "data": {
      "image/png": "[encoded data removed]",
      "text/plain": [
       "<Figure size 432x288 with 1 Axes>"
      ]
     },
     "metadata": {},
     "output_type": "display_data"
    }
   ],
   "source": [
    "active_items_df = pd.DataFrame(interactions_df['ITEM_ID'].value_counts()).reset_index()\n",
    "active_items_df['ITEM_ID'].hist()\n",
    "active_items_df.head()\n",
    "active_items_df['ITEM_ID'].describe()"
   ]
  },
  {
   "cell_type": "code",
   "execution_count": 44,
   "metadata": {},
   "outputs": [
    {
     "name": "stdout",
     "output_type": "stream",
     "text": [
      "After dropping inactive cars, (29135, 6) remain.\n"
     ]
    }
   ],
   "source": [
    "cars_df.drop(inactive_items.index, inplace=True)\n",
    "print('After dropping inactive cars, {} remain.'.format(cars_df.shape))"
   ]
  },
  {
   "cell_type": "code",
   "execution_count": 45,
   "metadata": {},
   "outputs": [
    {
     "name": "stdout",
     "output_type": "stream",
     "text": [
      "After dropping inactive users, (23364, 8) remain.\n"
     ]
    }
   ],
   "source": [
    "users_df.drop(inactive_users.index, inplace=True)\n",
    "print('After dropping inactive users, {} remain.'.format(users_df.shape))"
   ]
  },
  {
   "cell_type": "markdown",
   "metadata": {},
   "source": [
    "## Create an expanded interactions dataframe for analysis\n",
    "The interactions dataframe to pass to Personalize is limited to 5 metadata items\n",
    "and is conforming to a schema we will define in another notebook. This expanded \n",
    "dataframe helps with framing tests and evaluating results, as in creates one big\n",
    "denormalized dataframe with interactions and corresponding user and car features."
   ]
  },
  {
   "cell_type": "code",
   "execution_count": 46,
   "metadata": {},
   "outputs": [
    {
     "data": {
      "text/html": [
       "<div>\n",
       "<style scoped>\n",
       "    .dataframe tbody tr th:only-of-type {\n",
       "        vertical-align: middle;\n",
       "    }\n",
       "\n",
       "    .dataframe tbody tr th {\n",
       "        vertical-align: top;\n",
       "    }\n",
       "\n",
       "    .dataframe thead th {\n",
       "        text-align: right;\n",
       "    }\n",
       "</style>\n",
       "<table border=\"1\" class=\"dataframe\">\n",
       "  <thead>\n",
       "    <tr style=\"text-align: right;\">\n",
       "      <th></th>\n",
       "      <th>USER_ID</th>\n",
       "      <th>ITEM_ID</th>\n",
       "      <th>TIMESTAMP</th>\n",
       "      <th>SESSION_ID</th>\n",
       "      <th>MAKE</th>\n",
       "      <th>MODEL</th>\n",
       "      <th>YEAR</th>\n",
       "      <th>MILEAGE</th>\n",
       "      <th>PRICE</th>\n",
       "      <th>AGE</th>\n",
       "      <th>GENDER</th>\n",
       "      <th>LOCATION</th>\n",
       "      <th>SALARY</th>\n",
       "      <th>FAV_CLUSTER</th>\n",
       "      <th>FAV_MODEL</th>\n",
       "      <th>FAV</th>\n",
       "    </tr>\n",
       "  </thead>\n",
       "  <tbody>\n",
       "    <tr>\n",
       "      <th>0</th>\n",
       "      <td>26969</td>\n",
       "      <td>26016</td>\n",
       "      <td>1563028044</td>\n",
       "      <td>0</td>\n",
       "      <td>Nissan</td>\n",
       "      <td>Rogue</td>\n",
       "      <td>2012</td>\n",
       "      <td>108153</td>\n",
       "      <td>21028</td>\n",
       "      <td>40</td>\n",
       "      <td>FEMALE</td>\n",
       "      <td>11368</td>\n",
       "      <td>34746</td>\n",
       "      <td>43</td>\n",
       "      <td>21</td>\n",
       "      <td>OLDISH-Nissan-Rogue</td>\n",
       "    </tr>\n",
       "    <tr>\n",
       "      <th>1</th>\n",
       "      <td>26969</td>\n",
       "      <td>24366</td>\n",
       "      <td>1563028164</td>\n",
       "      <td>0</td>\n",
       "      <td>Nissan</td>\n",
       "      <td>Rogue</td>\n",
       "      <td>2013</td>\n",
       "      <td>90035</td>\n",
       "      <td>31167</td>\n",
       "      <td>40</td>\n",
       "      <td>FEMALE</td>\n",
       "      <td>11368</td>\n",
       "      <td>34746</td>\n",
       "      <td>43</td>\n",
       "      <td>21</td>\n",
       "      <td>OLDISH-Nissan-Rogue</td>\n",
       "    </tr>\n",
       "    <tr>\n",
       "      <th>2</th>\n",
       "      <td>26969</td>\n",
       "      <td>22456</td>\n",
       "      <td>1563028404</td>\n",
       "      <td>0</td>\n",
       "      <td>Nissan</td>\n",
       "      <td>Rogue</td>\n",
       "      <td>2013</td>\n",
       "      <td>98834</td>\n",
       "      <td>31490</td>\n",
       "      <td>40</td>\n",
       "      <td>FEMALE</td>\n",
       "      <td>11368</td>\n",
       "      <td>34746</td>\n",
       "      <td>43</td>\n",
       "      <td>21</td>\n",
       "      <td>OLDISH-Nissan-Rogue</td>\n",
       "    </tr>\n",
       "    <tr>\n",
       "      <th>3</th>\n",
       "      <td>26969</td>\n",
       "      <td>24100</td>\n",
       "      <td>1563028764</td>\n",
       "      <td>0</td>\n",
       "      <td>Nissan</td>\n",
       "      <td>Rogue</td>\n",
       "      <td>2012</td>\n",
       "      <td>110746</td>\n",
       "      <td>27289</td>\n",
       "      <td>40</td>\n",
       "      <td>FEMALE</td>\n",
       "      <td>11368</td>\n",
       "      <td>34746</td>\n",
       "      <td>43</td>\n",
       "      <td>21</td>\n",
       "      <td>OLDISH-Nissan-Rogue</td>\n",
       "    </tr>\n",
       "    <tr>\n",
       "      <th>4</th>\n",
       "      <td>26969</td>\n",
       "      <td>34277</td>\n",
       "      <td>1563029244</td>\n",
       "      <td>0</td>\n",
       "      <td>Nissan</td>\n",
       "      <td>Rogue</td>\n",
       "      <td>2013</td>\n",
       "      <td>97902</td>\n",
       "      <td>28327</td>\n",
       "      <td>40</td>\n",
       "      <td>FEMALE</td>\n",
       "      <td>11368</td>\n",
       "      <td>34746</td>\n",
       "      <td>43</td>\n",
       "      <td>21</td>\n",
       "      <td>OLDISH-Nissan-Rogue</td>\n",
       "    </tr>\n",
       "  </tbody>\n",
       "</table>\n",
       "</div>"
      ],
      "text/plain": [
       "  USER_ID ITEM_ID   TIMESTAMP  SESSION_ID    MAKE  MODEL  YEAR  MILEAGE  \\\n",
       "0   26969   26016  1563028044           0  Nissan  Rogue  2012   108153   \n",
       "1   26969   24366  1563028164           0  Nissan  Rogue  2013    90035   \n",
       "2   26969   22456  1563028404           0  Nissan  Rogue  2013    98834   \n",
       "3   26969   24100  1563028764           0  Nissan  Rogue  2012   110746   \n",
       "4   26969   34277  1563029244           0  Nissan  Rogue  2013    97902   \n",
       "\n",
       "   PRICE  AGE  GENDER LOCATION  SALARY  FAV_CLUSTER  FAV_MODEL  \\\n",
       "0  21028   40  FEMALE    11368   34746           43         21   \n",
       "1  31167   40  FEMALE    11368   34746           43         21   \n",
       "2  31490   40  FEMALE    11368   34746           43         21   \n",
       "3  27289   40  FEMALE    11368   34746           43         21   \n",
       "4  28327   40  FEMALE    11368   34746           43         21   \n",
       "\n",
       "                   FAV  \n",
       "0  OLDISH-Nissan-Rogue  \n",
       "1  OLDISH-Nissan-Rogue  \n",
       "2  OLDISH-Nissan-Rogue  \n",
       "3  OLDISH-Nissan-Rogue  \n",
       "4  OLDISH-Nissan-Rogue  "
      ]
     },
     "execution_count": 46,
     "metadata": {},
     "output_type": "execute_result"
    }
   ],
   "source": [
    "interactions_expanded_df = pd.merge(interactions_df, cars_df, on='ITEM_ID')\n",
    "interactions_expanded_df = pd.merge(interactions_expanded_df, users_df, on='USER_ID')\n",
    "interactions_expanded_df.head()"
   ]
  },
  {
   "cell_type": "markdown",
   "metadata": {},
   "source": [
    "## Display overall statistics"
   ]
  },
  {
   "cell_type": "code",
   "execution_count": 47,
   "metadata": {},
   "outputs": [],
   "source": [
    "eps_stats = pd.DataFrame(interactions_df['SESSION_ID'].value_counts()).describe()\n",
    "epi_stats = pd.DataFrame(interactions_df['ITEM_ID'].value_counts()).describe()\n",
    "epu_stats = pd.DataFrame(interactions_df['USER_ID'].value_counts()).describe()\n",
    "spu_stats = interactions_df.groupby('USER_ID')['SESSION_ID'].nunique().to_frame().describe()"
   ]
  },
  {
   "cell_type": "code",
   "execution_count": 48,
   "metadata": {},
   "outputs": [
    {
     "name": "stdout",
     "output_type": "stream",
     "text": [
      "29,135 items\n",
      "23,364 users\n",
      "750,000 interactions\n",
      "75,000 sessions\n",
      "\n",
      "events per session (median/mean/stdev) 10.00/10.00/0.00\n",
      "events per item    (median/mean/stdev) 25.74/16.00/25.91\n",
      "events per user    (median/mean/stdev) 32.10/30.00/20.93\n",
      "sessions per user  (median/mean/stdev) 3.21/3.00/2.09\n",
      "\n",
      "1.00 of items have interactions (29135/29135)\n",
      "1.00 of users have interactions (23364/23364)\n"
     ]
    }
   ],
   "source": [
    "item_count = cars_df.shape[0]\n",
    "user_count = users_df.shape[0]\n",
    "interaction_count = interactions_df.shape[0]\n",
    "\n",
    "print('{:,} items\\n{:,} users\\n{:,} interactions\\n{:,} sessions'.format(item_count, \n",
    "                                                                user_count, \n",
    "                                                                interaction_count, \n",
    "                                                                NUM_SESSIONS))\n",
    "print('\\nevents per session (median/mean/stdev) {:.2f}/{:.2f}/{:.2f}'.format(eps_stats.loc['mean'].values[0],\n",
    "                                                               eps_stats.loc['50%'].values[0],\n",
    "                                                               eps_stats.loc['std'].values[0]))\n",
    "print('events per item    (median/mean/stdev) {:.2f}/{:.2f}/{:.2f}'.format(epi_stats.loc['mean'].values[0],\n",
    "                                                                           epi_stats.loc['50%'].values[0],\n",
    "                                                                           epi_stats.loc['std'].values[0]))\n",
    "print('events per user    (median/mean/stdev) {:.2f}/{:.2f}/{:.2f}'.format(epu_stats.loc['mean'].values[0],\n",
    "                                                                           epu_stats.loc['50%'].values[0],\n",
    "                                                                           epu_stats.loc['std'].values[0]))\n",
    "print('sessions per user  (median/mean/stdev) {:.2f}/{:.2f}/{:.2f}'.format(spu_stats.loc['mean'].values[0],\n",
    "                                                                           spu_stats.loc['50%'].values[0],\n",
    "                                                                           spu_stats.loc['std'].values[0]))\n",
    "\n",
    "print('\\n{:.2f} of items have interactions ({}/{})'.format(interactions_df['ITEM_ID'].value_counts().shape[0]/item_count,\n",
    "                                                      interactions_df['ITEM_ID'].value_counts().shape[0],\n",
    "                                                       item_count))\n",
    "print('{:.2f} of users have interactions ({}/{})'.format(_user_vc.shape[0]/user_count,\n",
    "                                                        _user_vc.shape[0],\n",
    "                                                        user_count))"
   ]
  },
  {
   "cell_type": "markdown",
   "metadata": {},
   "source": [
    "## Check out the interaction timestamp distribution"
   ]
  },
  {
   "cell_type": "code",
   "execution_count": 49,
   "metadata": {},
   "outputs": [],
   "source": [
    "def hours_ago(ts):\n",
    "    _time_diff_seconds = MOST_RECENT_TIMESTAMP - ts\n",
    "    return _time_diff_seconds / 60 / 60\n",
    "\n",
    "interactions_expanded_df['HOURS_AGO'] = interactions_expanded_df['TIMESTAMP'].apply(hours_ago)"
   ]
  },
  {
   "cell_type": "code",
   "execution_count": 50,
   "metadata": {},
   "outputs": [],
   "source": [
    "interactions_expanded_df['WHEN'] = interactions_expanded_df['TIMESTAMP'].apply(date_to_string)"
   ]
  },
  {
   "cell_type": "code",
   "execution_count": 51,
   "metadata": {},
   "outputs": [
    {
     "data": {
      "text/html": [
       "<div>\n",
       "<style scoped>\n",
       "    .dataframe tbody tr th:only-of-type {\n",
       "        vertical-align: middle;\n",
       "    }\n",
       "\n",
       "    .dataframe tbody tr th {\n",
       "        vertical-align: top;\n",
       "    }\n",
       "\n",
       "    .dataframe thead th {\n",
       "        text-align: right;\n",
       "    }\n",
       "</style>\n",
       "<table border=\"1\" class=\"dataframe\">\n",
       "  <thead>\n",
       "    <tr style=\"text-align: right;\">\n",
       "      <th></th>\n",
       "      <th>TIMESTAMP</th>\n",
       "      <th>WHEN</th>\n",
       "      <th>HOURS_AGO</th>\n",
       "    </tr>\n",
       "  </thead>\n",
       "  <tbody>\n",
       "    <tr>\n",
       "      <th>510166</th>\n",
       "      <td>1562752340</td>\n",
       "      <td>2019-07-10 09:52:20</td>\n",
       "      <td>170.366111</td>\n",
       "    </tr>\n",
       "    <tr>\n",
       "      <th>468681</th>\n",
       "      <td>1562752340</td>\n",
       "      <td>2019-07-10 09:52:20</td>\n",
       "      <td>170.366111</td>\n",
       "    </tr>\n",
       "    <tr>\n",
       "      <th>430707</th>\n",
       "      <td>1562752344</td>\n",
       "      <td>2019-07-10 09:52:24</td>\n",
       "      <td>170.365000</td>\n",
       "    </tr>\n",
       "    <tr>\n",
       "      <th>725213</th>\n",
       "      <td>1562752347</td>\n",
       "      <td>2019-07-10 09:52:27</td>\n",
       "      <td>170.364167</td>\n",
       "    </tr>\n",
       "    <tr>\n",
       "      <th>479450</th>\n",
       "      <td>1562752358</td>\n",
       "      <td>2019-07-10 09:52:38</td>\n",
       "      <td>170.361111</td>\n",
       "    </tr>\n",
       "    <tr>\n",
       "      <th>263400</th>\n",
       "      <td>1562752361</td>\n",
       "      <td>2019-07-10 09:52:41</td>\n",
       "      <td>170.360278</td>\n",
       "    </tr>\n",
       "    <tr>\n",
       "      <th>662098</th>\n",
       "      <td>1562752370</td>\n",
       "      <td>2019-07-10 09:52:50</td>\n",
       "      <td>170.357778</td>\n",
       "    </tr>\n",
       "    <tr>\n",
       "      <th>738213</th>\n",
       "      <td>1562752372</td>\n",
       "      <td>2019-07-10 09:52:52</td>\n",
       "      <td>170.357222</td>\n",
       "    </tr>\n",
       "    <tr>\n",
       "      <th>480433</th>\n",
       "      <td>1562752372</td>\n",
       "      <td>2019-07-10 09:52:52</td>\n",
       "      <td>170.357222</td>\n",
       "    </tr>\n",
       "    <tr>\n",
       "      <th>702580</th>\n",
       "      <td>1562752373</td>\n",
       "      <td>2019-07-10 09:52:53</td>\n",
       "      <td>170.356944</td>\n",
       "    </tr>\n",
       "    <tr>\n",
       "      <th>423367</th>\n",
       "      <td>1562752379</td>\n",
       "      <td>2019-07-10 09:52:59</td>\n",
       "      <td>170.355278</td>\n",
       "    </tr>\n",
       "    <tr>\n",
       "      <th>355060</th>\n",
       "      <td>1562752397</td>\n",
       "      <td>2019-07-10 09:53:17</td>\n",
       "      <td>170.350278</td>\n",
       "    </tr>\n",
       "    <tr>\n",
       "      <th>708109</th>\n",
       "      <td>1562752400</td>\n",
       "      <td>2019-07-10 09:53:20</td>\n",
       "      <td>170.349444</td>\n",
       "    </tr>\n",
       "    <tr>\n",
       "      <th>535631</th>\n",
       "      <td>1562752410</td>\n",
       "      <td>2019-07-10 09:53:30</td>\n",
       "      <td>170.346667</td>\n",
       "    </tr>\n",
       "    <tr>\n",
       "      <th>747365</th>\n",
       "      <td>1562752412</td>\n",
       "      <td>2019-07-10 09:53:32</td>\n",
       "      <td>170.346111</td>\n",
       "    </tr>\n",
       "    <tr>\n",
       "      <th>312763</th>\n",
       "      <td>1562752417</td>\n",
       "      <td>2019-07-10 09:53:37</td>\n",
       "      <td>170.344722</td>\n",
       "    </tr>\n",
       "    <tr>\n",
       "      <th>608774</th>\n",
       "      <td>1562752425</td>\n",
       "      <td>2019-07-10 09:53:45</td>\n",
       "      <td>170.342500</td>\n",
       "    </tr>\n",
       "    <tr>\n",
       "      <th>404217</th>\n",
       "      <td>1562752434</td>\n",
       "      <td>2019-07-10 09:53:54</td>\n",
       "      <td>170.340000</td>\n",
       "    </tr>\n",
       "    <tr>\n",
       "      <th>271500</th>\n",
       "      <td>1562752454</td>\n",
       "      <td>2019-07-10 09:54:14</td>\n",
       "      <td>170.334444</td>\n",
       "    </tr>\n",
       "    <tr>\n",
       "      <th>236076</th>\n",
       "      <td>1562752457</td>\n",
       "      <td>2019-07-10 09:54:17</td>\n",
       "      <td>170.333611</td>\n",
       "    </tr>\n",
       "    <tr>\n",
       "      <th>510170</th>\n",
       "      <td>1562752460</td>\n",
       "      <td>2019-07-10 09:54:20</td>\n",
       "      <td>170.332778</td>\n",
       "    </tr>\n",
       "    <tr>\n",
       "      <th>468678</th>\n",
       "      <td>1562752460</td>\n",
       "      <td>2019-07-10 09:54:20</td>\n",
       "      <td>170.332778</td>\n",
       "    </tr>\n",
       "    <tr>\n",
       "      <th>430692</th>\n",
       "      <td>1562752464</td>\n",
       "      <td>2019-07-10 09:54:24</td>\n",
       "      <td>170.331667</td>\n",
       "    </tr>\n",
       "    <tr>\n",
       "      <th>725217</th>\n",
       "      <td>1562752467</td>\n",
       "      <td>2019-07-10 09:54:27</td>\n",
       "      <td>170.330833</td>\n",
       "    </tr>\n",
       "    <tr>\n",
       "      <th>324867</th>\n",
       "      <td>1562752473</td>\n",
       "      <td>2019-07-10 09:54:33</td>\n",
       "      <td>170.329167</td>\n",
       "    </tr>\n",
       "    <tr>\n",
       "      <th>660844</th>\n",
       "      <td>1562752473</td>\n",
       "      <td>2019-07-10 09:54:33</td>\n",
       "      <td>170.329167</td>\n",
       "    </tr>\n",
       "    <tr>\n",
       "      <th>479451</th>\n",
       "      <td>1562752478</td>\n",
       "      <td>2019-07-10 09:54:38</td>\n",
       "      <td>170.327778</td>\n",
       "    </tr>\n",
       "    <tr>\n",
       "      <th>263415</th>\n",
       "      <td>1562752481</td>\n",
       "      <td>2019-07-10 09:54:41</td>\n",
       "      <td>170.326944</td>\n",
       "    </tr>\n",
       "    <tr>\n",
       "      <th>662099</th>\n",
       "      <td>1562752490</td>\n",
       "      <td>2019-07-10 09:54:50</td>\n",
       "      <td>170.324444</td>\n",
       "    </tr>\n",
       "    <tr>\n",
       "      <th>480422</th>\n",
       "      <td>1562752492</td>\n",
       "      <td>2019-07-10 09:54:52</td>\n",
       "      <td>170.323889</td>\n",
       "    </tr>\n",
       "    <tr>\n",
       "      <th>...</th>\n",
       "      <td>...</td>\n",
       "      <td>...</td>\n",
       "      <td>...</td>\n",
       "    </tr>\n",
       "    <tr>\n",
       "      <th>696823</th>\n",
       "      <td>1563362297</td>\n",
       "      <td>2019-07-17 11:18:17</td>\n",
       "      <td>0.933611</td>\n",
       "    </tr>\n",
       "    <tr>\n",
       "      <th>16739</th>\n",
       "      <td>1563362302</td>\n",
       "      <td>2019-07-17 11:18:22</td>\n",
       "      <td>0.932222</td>\n",
       "    </tr>\n",
       "    <tr>\n",
       "      <th>357557</th>\n",
       "      <td>1563362305</td>\n",
       "      <td>2019-07-17 11:18:25</td>\n",
       "      <td>0.931389</td>\n",
       "    </tr>\n",
       "    <tr>\n",
       "      <th>15417</th>\n",
       "      <td>1563362320</td>\n",
       "      <td>2019-07-17 11:18:40</td>\n",
       "      <td>0.927222</td>\n",
       "    </tr>\n",
       "    <tr>\n",
       "      <th>151572</th>\n",
       "      <td>1563362323</td>\n",
       "      <td>2019-07-17 11:18:43</td>\n",
       "      <td>0.926389</td>\n",
       "    </tr>\n",
       "    <tr>\n",
       "      <th>603555</th>\n",
       "      <td>1563362338</td>\n",
       "      <td>2019-07-17 11:18:58</td>\n",
       "      <td>0.922222</td>\n",
       "    </tr>\n",
       "    <tr>\n",
       "      <th>716037</th>\n",
       "      <td>1563362344</td>\n",
       "      <td>2019-07-17 11:19:04</td>\n",
       "      <td>0.920556</td>\n",
       "    </tr>\n",
       "    <tr>\n",
       "      <th>232410</th>\n",
       "      <td>1563362345</td>\n",
       "      <td>2019-07-17 11:19:05</td>\n",
       "      <td>0.920278</td>\n",
       "    </tr>\n",
       "    <tr>\n",
       "      <th>404707</th>\n",
       "      <td>1563362346</td>\n",
       "      <td>2019-07-17 11:19:06</td>\n",
       "      <td>0.920000</td>\n",
       "    </tr>\n",
       "    <tr>\n",
       "      <th>420833</th>\n",
       "      <td>1563362348</td>\n",
       "      <td>2019-07-17 11:19:08</td>\n",
       "      <td>0.919444</td>\n",
       "    </tr>\n",
       "    <tr>\n",
       "      <th>609168</th>\n",
       "      <td>1563362380</td>\n",
       "      <td>2019-07-17 11:19:40</td>\n",
       "      <td>0.910556</td>\n",
       "    </tr>\n",
       "    <tr>\n",
       "      <th>99114</th>\n",
       "      <td>1563362387</td>\n",
       "      <td>2019-07-17 11:19:47</td>\n",
       "      <td>0.908611</td>\n",
       "    </tr>\n",
       "    <tr>\n",
       "      <th>70428</th>\n",
       "      <td>1563362388</td>\n",
       "      <td>2019-07-17 11:19:48</td>\n",
       "      <td>0.908333</td>\n",
       "    </tr>\n",
       "    <tr>\n",
       "      <th>257815</th>\n",
       "      <td>1563362391</td>\n",
       "      <td>2019-07-17 11:19:51</td>\n",
       "      <td>0.907500</td>\n",
       "    </tr>\n",
       "    <tr>\n",
       "      <th>645435</th>\n",
       "      <td>1563362398</td>\n",
       "      <td>2019-07-17 11:19:58</td>\n",
       "      <td>0.905556</td>\n",
       "    </tr>\n",
       "    <tr>\n",
       "      <th>362041</th>\n",
       "      <td>1563362399</td>\n",
       "      <td>2019-07-17 11:19:59</td>\n",
       "      <td>0.905278</td>\n",
       "    </tr>\n",
       "    <tr>\n",
       "      <th>377989</th>\n",
       "      <td>1563362404</td>\n",
       "      <td>2019-07-17 11:20:04</td>\n",
       "      <td>0.903889</td>\n",
       "    </tr>\n",
       "    <tr>\n",
       "      <th>163862</th>\n",
       "      <td>1563362405</td>\n",
       "      <td>2019-07-17 11:20:05</td>\n",
       "      <td>0.903611</td>\n",
       "    </tr>\n",
       "    <tr>\n",
       "      <th>700869</th>\n",
       "      <td>1563362405</td>\n",
       "      <td>2019-07-17 11:20:05</td>\n",
       "      <td>0.903611</td>\n",
       "    </tr>\n",
       "    <tr>\n",
       "      <th>369229</th>\n",
       "      <td>1563362415</td>\n",
       "      <td>2019-07-17 11:20:15</td>\n",
       "      <td>0.900833</td>\n",
       "    </tr>\n",
       "    <tr>\n",
       "      <th>563341</th>\n",
       "      <td>1563362421</td>\n",
       "      <td>2019-07-17 11:20:21</td>\n",
       "      <td>0.899167</td>\n",
       "    </tr>\n",
       "    <tr>\n",
       "      <th>649291</th>\n",
       "      <td>1563362424</td>\n",
       "      <td>2019-07-17 11:20:24</td>\n",
       "      <td>0.898333</td>\n",
       "    </tr>\n",
       "    <tr>\n",
       "      <th>75754</th>\n",
       "      <td>1563362428</td>\n",
       "      <td>2019-07-17 11:20:28</td>\n",
       "      <td>0.897222</td>\n",
       "    </tr>\n",
       "    <tr>\n",
       "      <th>517746</th>\n",
       "      <td>1563362434</td>\n",
       "      <td>2019-07-17 11:20:34</td>\n",
       "      <td>0.895556</td>\n",
       "    </tr>\n",
       "    <tr>\n",
       "      <th>196436</th>\n",
       "      <td>1563362436</td>\n",
       "      <td>2019-07-17 11:20:36</td>\n",
       "      <td>0.895000</td>\n",
       "    </tr>\n",
       "    <tr>\n",
       "      <th>550150</th>\n",
       "      <td>1563362441</td>\n",
       "      <td>2019-07-17 11:20:41</td>\n",
       "      <td>0.893611</td>\n",
       "    </tr>\n",
       "    <tr>\n",
       "      <th>324915</th>\n",
       "      <td>1563362450</td>\n",
       "      <td>2019-07-17 11:20:50</td>\n",
       "      <td>0.891111</td>\n",
       "    </tr>\n",
       "    <tr>\n",
       "      <th>501923</th>\n",
       "      <td>1563362462</td>\n",
       "      <td>2019-07-17 11:21:02</td>\n",
       "      <td>0.887778</td>\n",
       "    </tr>\n",
       "    <tr>\n",
       "      <th>216521</th>\n",
       "      <td>1563362499</td>\n",
       "      <td>2019-07-17 11:21:39</td>\n",
       "      <td>0.877500</td>\n",
       "    </tr>\n",
       "    <tr>\n",
       "      <th>134092</th>\n",
       "      <td>1563362509</td>\n",
       "      <td>2019-07-17 11:21:49</td>\n",
       "      <td>0.874722</td>\n",
       "    </tr>\n",
       "  </tbody>\n",
       "</table>\n",
       "<p>750000 rows × 3 columns</p>\n",
       "</div>"
      ],
      "text/plain": [
       "         TIMESTAMP                 WHEN   HOURS_AGO\n",
       "510166  1562752340  2019-07-10 09:52:20  170.366111\n",
       "468681  1562752340  2019-07-10 09:52:20  170.366111\n",
       "430707  1562752344  2019-07-10 09:52:24  170.365000\n",
       "725213  1562752347  2019-07-10 09:52:27  170.364167\n",
       "479450  1562752358  2019-07-10 09:52:38  170.361111\n",
       "263400  1562752361  2019-07-10 09:52:41  170.360278\n",
       "662098  1562752370  2019-07-10 09:52:50  170.357778\n",
       "738213  1562752372  2019-07-10 09:52:52  170.357222\n",
       "480433  1562752372  2019-07-10 09:52:52  170.357222\n",
       "702580  1562752373  2019-07-10 09:52:53  170.356944\n",
       "423367  1562752379  2019-07-10 09:52:59  170.355278\n",
       "355060  1562752397  2019-07-10 09:53:17  170.350278\n",
       "708109  1562752400  2019-07-10 09:53:20  170.349444\n",
       "535631  1562752410  2019-07-10 09:53:30  170.346667\n",
       "747365  1562752412  2019-07-10 09:53:32  170.346111\n",
       "312763  1562752417  2019-07-10 09:53:37  170.344722\n",
       "608774  1562752425  2019-07-10 09:53:45  170.342500\n",
       "404217  1562752434  2019-07-10 09:53:54  170.340000\n",
       "271500  1562752454  2019-07-10 09:54:14  170.334444\n",
       "236076  1562752457  2019-07-10 09:54:17  170.333611\n",
       "510170  1562752460  2019-07-10 09:54:20  170.332778\n",
       "468678  1562752460  2019-07-10 09:54:20  170.332778\n",
       "430692  1562752464  2019-07-10 09:54:24  170.331667\n",
       "725217  1562752467  2019-07-10 09:54:27  170.330833\n",
       "324867  1562752473  2019-07-10 09:54:33  170.329167\n",
       "660844  1562752473  2019-07-10 09:54:33  170.329167\n",
       "479451  1562752478  2019-07-10 09:54:38  170.327778\n",
       "263415  1562752481  2019-07-10 09:54:41  170.326944\n",
       "662099  1562752490  2019-07-10 09:54:50  170.324444\n",
       "480422  1562752492  2019-07-10 09:54:52  170.323889\n",
       "...            ...                  ...         ...\n",
       "696823  1563362297  2019-07-17 11:18:17    0.933611\n",
       "16739   1563362302  2019-07-17 11:18:22    0.932222\n",
       "357557  1563362305  2019-07-17 11:18:25    0.931389\n",
       "15417   1563362320  2019-07-17 11:18:40    0.927222\n",
       "151572  1563362323  2019-07-17 11:18:43    0.926389\n",
       "603555  1563362338  2019-07-17 11:18:58    0.922222\n",
       "716037  1563362344  2019-07-17 11:19:04    0.920556\n",
       "232410  1563362345  2019-07-17 11:19:05    0.920278\n",
       "404707  1563362346  2019-07-17 11:19:06    0.920000\n",
       "420833  1563362348  2019-07-17 11:19:08    0.919444\n",
       "609168  1563362380  2019-07-17 11:19:40    0.910556\n",
       "99114   1563362387  2019-07-17 11:19:47    0.908611\n",
       "70428   1563362388  2019-07-17 11:19:48    0.908333\n",
       "257815  1563362391  2019-07-17 11:19:51    0.907500\n",
       "645435  1563362398  2019-07-17 11:19:58    0.905556\n",
       "362041  1563362399  2019-07-17 11:19:59    0.905278\n",
       "377989  1563362404  2019-07-17 11:20:04    0.903889\n",
       "163862  1563362405  2019-07-17 11:20:05    0.903611\n",
       "700869  1563362405  2019-07-17 11:20:05    0.903611\n",
       "369229  1563362415  2019-07-17 11:20:15    0.900833\n",
       "563341  1563362421  2019-07-17 11:20:21    0.899167\n",
       "649291  1563362424  2019-07-17 11:20:24    0.898333\n",
       "75754   1563362428  2019-07-17 11:20:28    0.897222\n",
       "517746  1563362434  2019-07-17 11:20:34    0.895556\n",
       "196436  1563362436  2019-07-17 11:20:36    0.895000\n",
       "550150  1563362441  2019-07-17 11:20:41    0.893611\n",
       "324915  1563362450  2019-07-17 11:20:50    0.891111\n",
       "501923  1563362462  2019-07-17 11:21:02    0.887778\n",
       "216521  1563362499  2019-07-17 11:21:39    0.877500\n",
       "134092  1563362509  2019-07-17 11:21:49    0.874722\n",
       "\n",
       "[750000 rows x 3 columns]"
      ]
     },
     "execution_count": 51,
     "metadata": {},
     "output_type": "execute_result"
    }
   ],
   "source": [
    "interactions_expanded_df[['TIMESTAMP','WHEN','HOURS_AGO']].sort_values('TIMESTAMP')"
   ]
  },
  {
   "cell_type": "code",
   "execution_count": 52,
   "metadata": {},
   "outputs": [
    {
     "data": {
      "text/html": [
       "<div>\n",
       "<style scoped>\n",
       "    .dataframe tbody tr th:only-of-type {\n",
       "        vertical-align: middle;\n",
       "    }\n",
       "\n",
       "    .dataframe tbody tr th {\n",
       "        vertical-align: top;\n",
       "    }\n",
       "\n",
       "    .dataframe thead th {\n",
       "        text-align: right;\n",
       "    }\n",
       "</style>\n",
       "<table border=\"1\" class=\"dataframe\">\n",
       "  <thead>\n",
       "    <tr style=\"text-align: right;\">\n",
       "      <th></th>\n",
       "      <th>USER_ID</th>\n",
       "      <th>ITEM_ID</th>\n",
       "      <th>TIMESTAMP</th>\n",
       "      <th>SESSION_ID</th>\n",
       "      <th>MAKE</th>\n",
       "      <th>MODEL</th>\n",
       "      <th>YEAR</th>\n",
       "      <th>MILEAGE</th>\n",
       "      <th>PRICE</th>\n",
       "      <th>AGE</th>\n",
       "      <th>GENDER</th>\n",
       "      <th>LOCATION</th>\n",
       "      <th>SALARY</th>\n",
       "      <th>FAV_CLUSTER</th>\n",
       "      <th>FAV_MODEL</th>\n",
       "      <th>FAV</th>\n",
       "      <th>HOURS_AGO</th>\n",
       "      <th>WHEN</th>\n",
       "    </tr>\n",
       "  </thead>\n",
       "  <tbody>\n",
       "  </tbody>\n",
       "</table>\n",
       "</div>"
      ],
      "text/plain": [
       "Empty DataFrame\n",
       "Columns: [USER_ID, ITEM_ID, TIMESTAMP, SESSION_ID, MAKE, MODEL, YEAR, MILEAGE, PRICE, AGE, GENDER, LOCATION, SALARY, FAV_CLUSTER, FAV_MODEL, FAV, HOURS_AGO, WHEN]\n",
       "Index: []"
      ]
     },
     "execution_count": 52,
     "metadata": {},
     "output_type": "execute_result"
    }
   ],
   "source": [
    "interactions_expanded_df[interactions_expanded_df.HOURS_AGO < 0]"
   ]
  },
  {
   "cell_type": "code",
   "execution_count": 53,
   "metadata": {},
   "outputs": [
    {
     "data": {
      "text/plain": [
       "<matplotlib.axes._subplots.AxesSubplot at 0x7f144136e6d8>"
      ]
     },
     "execution_count": 53,
     "metadata": {},
     "output_type": "execute_result"
    },
    {
     "data": {
      "image/png": "[encoded data removed]",
      "text/plain": [
       "<Figure size 432x288 with 1 Axes>"
      ]
     },
     "metadata": {},
     "output_type": "display_data"
    }
   ],
   "source": [
    "interactions_expanded_df['HOURS_AGO'].hist()"
   ]
  },
  {
   "cell_type": "markdown",
   "metadata": {},
   "source": [
    "## Save data to S3 and expanded interactions to local csv"
   ]
  },
  {
   "cell_type": "code",
   "execution_count": 54,
   "metadata": {},
   "outputs": [],
   "source": [
    "cars_df.to_csv(cars_filename, index=False)\n",
    "boto3.Session().resource('s3').Bucket(bucket).Object('{}/{}'.format(prefix, cars_filename)).upload_file(cars_filename)"
   ]
  },
  {
   "cell_type": "code",
   "execution_count": 55,
   "metadata": {},
   "outputs": [],
   "source": [
    "users_df.to_csv(users_filename, index=False)\n",
    "boto3.Session().resource('s3').Bucket(bucket).Object('{}/{}'.format(prefix, users_filename)).upload_file(users_filename)"
   ]
  },
  {
   "cell_type": "code",
   "execution_count": 56,
   "metadata": {},
   "outputs": [],
   "source": [
    "interactions_df[['USER_ID', 'ITEM_ID', 'TIMESTAMP']].to_csv(interactions_filename, index=False)\n",
    "boto3.Session().resource('s3').Bucket(bucket).Object('{}/{}'.format(prefix, interactions_filename)).upload_file(interactions_filename)"
   ]
  },
  {
   "cell_type": "code",
   "execution_count": 57,
   "metadata": {},
   "outputs": [],
   "source": [
    "interactions_expanded_df.to_csv(int_exp_filename, index=False)"
   ]
  }
 ],
 "metadata": {
  "kernelspec": {
   "display_name": "conda_python3",
   "language": "python",
   "name": "conda_python3"
  },
  "language_info": {
   "codemirror_mode": {
    "name": "ipython",
    "version": 3
   },
   "file_extension": ".py",
   "mimetype": "text/x-python",
   "name": "python",
   "nbconvert_exporter": "python",
   "pygments_lexer": "ipython3",
   "version": "3.6.5"
  }
 },
 "nbformat": 4,
 "nbformat_minor": 2
}
