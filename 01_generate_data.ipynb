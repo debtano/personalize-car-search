{
 "cells": [
  {
   "cell_type": "markdown",
   "metadata": {},
   "source": [
    "# Generate user, item, and interaction datasets for car search domain\n",
    "This notebook is one of several provided to demonstrate the use of Amazon Personalize to \n",
    "provide recommendations for users searching for cars. This notebook generates the user, item, \n",
    "and interactions data, saves them as local csv files, and uploads them to S3 for use\n",
    "in creating Personalize datasets to drive Personalize recommendation models.\n",
    "\n",
    "A denormalized form of the interaction data is also saved for use in testing the models\n",
    "and evaluating the resulting recommendations."
   ]
  },
  {
   "cell_type": "code",
   "execution_count": 182,
   "metadata": {},
   "outputs": [],
   "source": [
    "import numpy as np\n",
    "import pandas as pd\n",
    "import json\n",
    "from datetime import datetime\n",
    "import matplotlib.pyplot as plt\n",
    "from sklearn.utils import shuffle"
   ]
  },
  {
   "cell_type": "code",
   "execution_count": 183,
   "metadata": {},
   "outputs": [],
   "source": [
    "import boto3\n",
    "\n",
    "cars_filename         = 'car_items.csv'\n",
    "users_filename        = 'users.csv'\n",
    "interactions_filename = 'interactions.csv'\n",
    "int_exp_filename      = 'interactions_expanded.csv'\n",
    "\n",
    "bucket   = '<your-bucket>'\n",
    "prefix   = 'personalize/v12'"
   ]
  },
  {
   "cell_type": "markdown",
   "metadata": {},
   "source": [
    "## Define size for each generated dataset"
   ]
  },
  {
   "cell_type": "code",
   "execution_count": 184,
   "metadata": {},
   "outputs": [],
   "source": [
    "NUM_INTERACTIONS = 750000\n",
    "NUM_CARS         = 50000\n",
    "NUM_USERS        = 30000"
   ]
  },
  {
   "cell_type": "markdown",
   "metadata": {},
   "source": [
    "## Define various other parameters"
   ]
  },
  {
   "cell_type": "markdown",
   "metadata": {},
   "source": [
    "Generated interactions are built as a set of \"sessions\". Each session is associated with\n",
    "a single user and multiple car interactions. The timestamp for each interaction is \n",
    "separated by a configurable number of seconds."
   ]
  },
  {
   "cell_type": "code",
   "execution_count": 185,
   "metadata": {},
   "outputs": [],
   "source": [
    "SESSION_LEN           = 10\n",
    "SESSION_DELAY_SECONDS = 2 * 60 # 2 minutes\n",
    "\n",
    "NUM_SESSIONS = NUM_INTERACTIONS // SESSION_LEN"
   ]
  },
  {
   "cell_type": "markdown",
   "metadata": {},
   "source": [
    "Define other parameters to control metadata for each car item."
   ]
  },
  {
   "cell_type": "code",
   "execution_count": 186,
   "metadata": {},
   "outputs": [],
   "source": [
    "MIN_YEAR    = 2009\n",
    "MAX_YEAR    = 2019\n",
    "MID_YEAR    = MIN_YEAR + ((MAX_YEAR - MIN_YEAR) // 2)\n",
    "\n",
    "MIN_MILEAGE    = 1000\n",
    "MAX_MILEAGE    = 200000\n",
    "MILES_PER_YEAR = 15000\n",
    "\n",
    "COLORS      = ['Red', 'Black', 'White', 'Blue']"
   ]
  },
  {
   "cell_type": "code",
   "execution_count": 187,
   "metadata": {},
   "outputs": [
    {
     "data": {
      "text/plain": [
       "2014"
      ]
     },
     "execution_count": 187,
     "metadata": {},
     "output_type": "execute_result"
    }
   ],
   "source": [
    "MID_YEAR"
   ]
  },
  {
   "cell_type": "markdown",
   "metadata": {},
   "source": [
    "## Configure the set of car makes and models, plus zip codes"
   ]
  },
  {
   "cell_type": "markdown",
   "metadata": {},
   "source": [
    "The car item data is driven by a configurable set of models. You can define which\n",
    "makes and models are used by editing the `models.csv` file provided."
   ]
  },
  {
   "cell_type": "code",
   "execution_count": 188,
   "metadata": {},
   "outputs": [
    {
     "name": "stdout",
     "output_type": "stream",
     "text": [
      "(10, 4)\n",
      "20 clusters based on 10 models.\n"
     ]
    },
    {
     "data": {
      "text/html": [
       "<div>\n",
       "<style scoped>\n",
       "    .dataframe tbody tr th:only-of-type {\n",
       "        vertical-align: middle;\n",
       "    }\n",
       "\n",
       "    .dataframe tbody tr th {\n",
       "        vertical-align: top;\n",
       "    }\n",
       "\n",
       "    .dataframe thead th {\n",
       "        text-align: right;\n",
       "    }\n",
       "</style>\n",
       "<table border=\"1\" class=\"dataframe\">\n",
       "  <thead>\n",
       "    <tr style=\"text-align: right;\">\n",
       "      <th></th>\n",
       "      <th>MAKE</th>\n",
       "      <th>MODEL</th>\n",
       "      <th>NUM_DOORS</th>\n",
       "      <th>BODY_TYPE</th>\n",
       "    </tr>\n",
       "  </thead>\n",
       "  <tbody>\n",
       "    <tr>\n",
       "      <th>0</th>\n",
       "      <td>Toyota</td>\n",
       "      <td>Camry</td>\n",
       "      <td>4</td>\n",
       "      <td>sedan</td>\n",
       "    </tr>\n",
       "    <tr>\n",
       "      <th>6</th>\n",
       "      <td>Ford</td>\n",
       "      <td>Explorer</td>\n",
       "      <td>4</td>\n",
       "      <td>suv</td>\n",
       "    </tr>\n",
       "    <tr>\n",
       "      <th>2</th>\n",
       "      <td>Toyota</td>\n",
       "      <td>Rav4</td>\n",
       "      <td>4</td>\n",
       "      <td>suv</td>\n",
       "    </tr>\n",
       "    <tr>\n",
       "      <th>8</th>\n",
       "      <td>Nissan</td>\n",
       "      <td>Rogue</td>\n",
       "      <td>4</td>\n",
       "      <td>suv</td>\n",
       "    </tr>\n",
       "    <tr>\n",
       "      <th>1</th>\n",
       "      <td>Toyota</td>\n",
       "      <td>Sienna</td>\n",
       "      <td>4</td>\n",
       "      <td>minivan</td>\n",
       "    </tr>\n",
       "    <tr>\n",
       "      <th>4</th>\n",
       "      <td>Ford</td>\n",
       "      <td>Fusion</td>\n",
       "      <td>4</td>\n",
       "      <td>sedan</td>\n",
       "    </tr>\n",
       "    <tr>\n",
       "      <th>7</th>\n",
       "      <td>Nissan</td>\n",
       "      <td>Altima</td>\n",
       "      <td>4</td>\n",
       "      <td>sedan</td>\n",
       "    </tr>\n",
       "    <tr>\n",
       "      <th>9</th>\n",
       "      <td>Nissan</td>\n",
       "      <td>Leaf</td>\n",
       "      <td>4</td>\n",
       "      <td>sedan</td>\n",
       "    </tr>\n",
       "    <tr>\n",
       "      <th>3</th>\n",
       "      <td>Toyota</td>\n",
       "      <td>Prius</td>\n",
       "      <td>4</td>\n",
       "      <td>sedan</td>\n",
       "    </tr>\n",
       "    <tr>\n",
       "      <th>5</th>\n",
       "      <td>Ford</td>\n",
       "      <td>Mustang</td>\n",
       "      <td>4</td>\n",
       "      <td>sedan</td>\n",
       "    </tr>\n",
       "  </tbody>\n",
       "</table>\n",
       "</div>"
      ],
      "text/plain": [
       "     MAKE     MODEL  NUM_DOORS BODY_TYPE\n",
       "0  Toyota     Camry          4     sedan\n",
       "6    Ford  Explorer          4       suv\n",
       "2  Toyota      Rav4          4       suv\n",
       "8  Nissan     Rogue          4       suv\n",
       "1  Toyota    Sienna          4   minivan\n",
       "4    Ford    Fusion          4     sedan\n",
       "7  Nissan    Altima          4     sedan\n",
       "9  Nissan      Leaf          4     sedan\n",
       "3  Toyota     Prius          4     sedan\n",
       "5    Ford   Mustang          4     sedan"
      ]
     },
     "execution_count": 188,
     "metadata": {},
     "output_type": "execute_result"
    }
   ],
   "source": [
    "models_df = pd.read_csv('models.csv')\n",
    "models_df = shuffle(models_df)\n",
    "print(models_df.shape)\n",
    "\n",
    "NUM_MODELS = models_df.shape[0]\n",
    "NUM_CLUSTERS = NUM_MODELS * 2  # for each model, have an old car cluster and new car cluster\n",
    "print('{} clusters based on {} models.'.format(NUM_CLUSTERS, NUM_MODELS))\n",
    "models_df.head(NUM_MODELS)"
   ]
  },
  {
   "cell_type": "markdown",
   "metadata": {},
   "source": [
    "The demo does not fully leverage location data for users and cars, but partial support\n",
    "is provided in anticipation of adding that to the demo in the future."
   ]
  },
  {
   "cell_type": "code",
   "execution_count": 189,
   "metadata": {},
   "outputs": [
    {
     "name": "stdout",
     "output_type": "stream",
     "text": [
      "(100, 3)\n"
     ]
    },
    {
     "data": {
      "text/html": [
       "<div>\n",
       "<style scoped>\n",
       "    .dataframe tbody tr th:only-of-type {\n",
       "        vertical-align: middle;\n",
       "    }\n",
       "\n",
       "    .dataframe tbody tr th {\n",
       "        vertical-align: top;\n",
       "    }\n",
       "\n",
       "    .dataframe thead th {\n",
       "        text-align: right;\n",
       "    }\n",
       "</style>\n",
       "<table border=\"1\" class=\"dataframe\">\n",
       "  <thead>\n",
       "    <tr style=\"text-align: right;\">\n",
       "      <th></th>\n",
       "      <th>ZIP_CODE</th>\n",
       "      <th>CITY</th>\n",
       "      <th>INCOME</th>\n",
       "    </tr>\n",
       "  </thead>\n",
       "  <tbody>\n",
       "    <tr>\n",
       "      <th>0</th>\n",
       "      <td>79936</td>\n",
       "      <td>El Paso TX</td>\n",
       "      <td>42857</td>\n",
       "    </tr>\n",
       "    <tr>\n",
       "      <th>1</th>\n",
       "      <td>90011</td>\n",
       "      <td>Los Angeles CA</td>\n",
       "      <td>23851</td>\n",
       "    </tr>\n",
       "    <tr>\n",
       "      <th>2</th>\n",
       "      <td>60629</td>\n",
       "      <td>Chicago IL</td>\n",
       "      <td>40279</td>\n",
       "    </tr>\n",
       "    <tr>\n",
       "      <th>3</th>\n",
       "      <td>90650</td>\n",
       "      <td>Norwalk CA</td>\n",
       "      <td>46012</td>\n",
       "    </tr>\n",
       "    <tr>\n",
       "      <th>4</th>\n",
       "      <td>90201</td>\n",
       "      <td>Bell Gardens CA</td>\n",
       "      <td>30029</td>\n",
       "    </tr>\n",
       "  </tbody>\n",
       "</table>\n",
       "</div>"
      ],
      "text/plain": [
       "   ZIP_CODE             CITY  INCOME\n",
       "0     79936       El Paso TX   42857\n",
       "1     90011   Los Angeles CA   23851\n",
       "2     60629       Chicago IL   40279\n",
       "3     90650       Norwalk CA   46012\n",
       "4     90201  Bell Gardens CA   30029"
      ]
     },
     "execution_count": 189,
     "metadata": {},
     "output_type": "execute_result"
    }
   ],
   "source": [
    "zip_codes_df = pd.read_csv('zip_codes.csv')\n",
    "print(zip_codes_df.shape)\n",
    "zip_codes_df.head()"
   ]
  },
  {
   "cell_type": "markdown",
   "metadata": {},
   "source": [
    "## Generate data for the cars (items) dataset"
   ]
  },
  {
   "cell_type": "markdown",
   "metadata": {},
   "source": [
    "### Generate make and model\n",
    "Here we provide a normal distribution of Make/Model for our generated set of cars.\n",
    "The mean is the midpoint of the number of total models, and the standard deviation is \n",
    "a quarter of the number of models. We make sure that no generated model falls outside the\n",
    "bounds of the actual number of models."
   ]
  },
  {
   "cell_type": "code",
   "execution_count": 190,
   "metadata": {},
   "outputs": [],
   "source": [
    "def gen_normal_make_and_model():\n",
    "    _idx = int(np.random.normal(NUM_MODELS // 2, NUM_MODELS // 4))\n",
    "    _idx = min(NUM_MODELS - 1, _idx)\n",
    "    _idx = max(0, _idx)\n",
    "    return _idx"
   ]
  },
  {
   "cell_type": "markdown",
   "metadata": {},
   "source": [
    "### Generate price\n",
    "Here we determine a random price pased on age and miles."
   ]
  },
  {
   "cell_type": "code",
   "execution_count": 191,
   "metadata": {},
   "outputs": [],
   "source": [
    "def gen_price(age, miles):\n",
    "    _price = 40000 - (3000 * age) + np.random.randint(0, 10000)\n",
    "    _price = max(10000, _price)\n",
    "    return _price"
   ]
  },
  {
   "cell_type": "markdown",
   "metadata": {},
   "source": [
    "### Core function for generating cars (items)\n",
    "Here we generate the set of items / cars to be recommended. We normally distribute the \n",
    "year of manufacture, and generate a random set of miles driven by the age of the car."
   ]
  },
  {
   "cell_type": "code",
   "execution_count": 192,
   "metadata": {},
   "outputs": [],
   "source": [
    "def gen_cars(num_cars):\n",
    "    _car_inventory = []\n",
    "    \n",
    "    for i in range(num_cars):\n",
    "        _year      = int(np.random.normal(2014, 2))\n",
    "        _year      = min(MAX_YEAR, _year)\n",
    "        \n",
    "        _age       = MAX_YEAR - _year\n",
    "        _mileage   = (MILES_PER_YEAR * _age) + np.random.randint(0, 10000)\n",
    "        _price     = gen_price(_age, _mileage) \n",
    "\n",
    "        _model_idx = gen_normal_make_and_model()\n",
    "        \n",
    "#        _color_idx = np.random.randint(0, len(COLORS))\n",
    "#        _loc_idx   = np.random.randint(0, _zip_len)\n",
    "        \n",
    "        _this_car = [str(i), models_df.iloc[_model_idx][0].strip(), \n",
    "                     models_df.iloc[_model_idx][1].strip(),\n",
    "                     str(_year), _mileage, _price]\n",
    "        #, COLORS[_color_idx], zip_codes_df.iloc[_loc_idx][0]]\n",
    "\n",
    "        _car_inventory.append(_this_car)\n",
    "\n",
    "    # not including color and location, due to personalize limit on num fields\n",
    "    _df = pd.DataFrame(_car_inventory, columns=['ITEM_ID', 'MAKE', 'MODEL', \n",
    "                                                'YEAR', 'MILEAGE', 'PRICE'])\n",
    "    return _df"
   ]
  },
  {
   "cell_type": "code",
   "execution_count": 193,
   "metadata": {},
   "outputs": [
    {
     "name": "stdout",
     "output_type": "stream",
     "text": [
      "(50000, 6)\n"
     ]
    },
    {
     "data": {
      "text/html": [
       "<div>\n",
       "<style scoped>\n",
       "    .dataframe tbody tr th:only-of-type {\n",
       "        vertical-align: middle;\n",
       "    }\n",
       "\n",
       "    .dataframe tbody tr th {\n",
       "        vertical-align: top;\n",
       "    }\n",
       "\n",
       "    .dataframe thead th {\n",
       "        text-align: right;\n",
       "    }\n",
       "</style>\n",
       "<table border=\"1\" class=\"dataframe\">\n",
       "  <thead>\n",
       "    <tr style=\"text-align: right;\">\n",
       "      <th></th>\n",
       "      <th>ITEM_ID</th>\n",
       "      <th>MAKE</th>\n",
       "      <th>MODEL</th>\n",
       "      <th>YEAR</th>\n",
       "      <th>MILEAGE</th>\n",
       "      <th>PRICE</th>\n",
       "    </tr>\n",
       "  </thead>\n",
       "  <tbody>\n",
       "    <tr>\n",
       "      <th>0</th>\n",
       "      <td>0</td>\n",
       "      <td>Ford</td>\n",
       "      <td>Explorer</td>\n",
       "      <td>2015</td>\n",
       "      <td>62696</td>\n",
       "      <td>32711</td>\n",
       "    </tr>\n",
       "    <tr>\n",
       "      <th>1</th>\n",
       "      <td>1</td>\n",
       "      <td>Toyota</td>\n",
       "      <td>Sienna</td>\n",
       "      <td>2017</td>\n",
       "      <td>35036</td>\n",
       "      <td>36081</td>\n",
       "    </tr>\n",
       "    <tr>\n",
       "      <th>2</th>\n",
       "      <td>2</td>\n",
       "      <td>Nissan</td>\n",
       "      <td>Rogue</td>\n",
       "      <td>2012</td>\n",
       "      <td>105640</td>\n",
       "      <td>28920</td>\n",
       "    </tr>\n",
       "    <tr>\n",
       "      <th>3</th>\n",
       "      <td>3</td>\n",
       "      <td>Toyota</td>\n",
       "      <td>Prius</td>\n",
       "      <td>2015</td>\n",
       "      <td>61276</td>\n",
       "      <td>33745</td>\n",
       "    </tr>\n",
       "    <tr>\n",
       "      <th>4</th>\n",
       "      <td>4</td>\n",
       "      <td>Toyota</td>\n",
       "      <td>Sienna</td>\n",
       "      <td>2012</td>\n",
       "      <td>113328</td>\n",
       "      <td>23358</td>\n",
       "    </tr>\n",
       "  </tbody>\n",
       "</table>\n",
       "</div>"
      ],
      "text/plain": [
       "  ITEM_ID    MAKE     MODEL  YEAR  MILEAGE  PRICE\n",
       "0       0    Ford  Explorer  2015    62696  32711\n",
       "1       1  Toyota    Sienna  2017    35036  36081\n",
       "2       2  Nissan     Rogue  2012   105640  28920\n",
       "3       3  Toyota     Prius  2015    61276  33745\n",
       "4       4  Toyota    Sienna  2012   113328  23358"
      ]
     },
     "execution_count": 193,
     "metadata": {},
     "output_type": "execute_result"
    }
   ],
   "source": [
    "cars_df = gen_cars(NUM_CARS)\n",
    "print(cars_df.shape)\n",
    "cars_df.head()"
   ]
  },
  {
   "cell_type": "markdown",
   "metadata": {},
   "source": [
    "### Look at distribution of each car (item) feature"
   ]
  },
  {
   "cell_type": "code",
   "execution_count": 194,
   "metadata": {},
   "outputs": [
    {
     "data": {
      "text/plain": [
       "Nissan    19457\n",
       "Toyota    17558\n",
       "Ford      12985\n",
       "Name: MAKE, dtype: int64"
      ]
     },
     "execution_count": 194,
     "metadata": {},
     "output_type": "execute_result"
    }
   ],
   "source": [
    "cars_df['MAKE'].value_counts()"
   ]
  },
  {
   "cell_type": "code",
   "execution_count": 195,
   "metadata": {},
   "outputs": [
    {
     "data": {
      "text/plain": [
       "Sienna      9576\n",
       "Fusion      9568\n",
       "Altima      7439\n",
       "Rogue       7322\n",
       "Leaf        4696\n",
       "Rav4        4650\n",
       "Prius       2233\n",
       "Explorer    2223\n",
       "Mustang     1194\n",
       "Camry       1099\n",
       "Name: MODEL, dtype: int64"
      ]
     },
     "execution_count": 195,
     "metadata": {},
     "output_type": "execute_result"
    }
   ],
   "source": [
    "cars_df['MODEL'].value_counts()"
   ]
  },
  {
   "cell_type": "code",
   "execution_count": 196,
   "metadata": {},
   "outputs": [
    {
     "data": {
      "text/plain": [
       "<matplotlib.axes._subplots.AxesSubplot at 0x7f3d17de51d0>"
      ]
     },
     "execution_count": 196,
     "metadata": {},
     "output_type": "execute_result"
    },
    {
     "data": {
      "image/png": "[encoded data removed]",
      "text/plain": [
       "<Figure size 432x288 with 1 Axes>"
      ]
     },
     "metadata": {},
     "output_type": "display_data"
    }
   ],
   "source": [
    "cars_df['MILEAGE'].hist()"
   ]
  },
  {
   "cell_type": "code",
   "execution_count": 197,
   "metadata": {},
   "outputs": [
    {
     "data": {
      "text/plain": [
       "<matplotlib.axes._subplots.AxesSubplot at 0x7f3d029c31d0>"
      ]
     },
     "execution_count": 197,
     "metadata": {},
     "output_type": "execute_result"
    },
    {
     "data": {
      "image/png": "[encoded data removed]",
      "text/plain": [
       "<Figure size 432x288 with 1 Axes>"
      ]
     },
     "metadata": {},
     "output_type": "display_data"
    }
   ],
   "source": [
    "cars_df['PRICE'].hist()"
   ]
  },
  {
   "cell_type": "markdown",
   "metadata": {},
   "source": [
    "## Generate data for users dataset\n",
    "Here we normally distribute age of users, and uniformly distribute gender and location."
   ]
  },
  {
   "cell_type": "code",
   "execution_count": 198,
   "metadata": {},
   "outputs": [],
   "source": [
    "def gen_users(num_users):\n",
    "    _users = []\n",
    "    \n",
    "    _zip_len = zip_codes_df.shape[0]\n",
    "    \n",
    "    for i in range(num_users):\n",
    "        _age        = int(np.random.normal(40, 4))\n",
    "        _gender_idx = np.random.randint(0, 2)\n",
    "        _loc_idx    = np.random.randint(0, _zip_len)\n",
    "        if _gender_idx == 0:\n",
    "            _gender = 'MALE'\n",
    "        else:\n",
    "            _gender = 'FEMALE'\n",
    "            \n",
    "        _this_user = [str(i), _age, _gender, \n",
    "                      str(zip_codes_df.iloc[_loc_idx][0]), \n",
    "                      zip_codes_df.iloc[_loc_idx][2]]\n",
    "        \n",
    "        _users.append(_this_user)\n",
    "        \n",
    "    _df = pd.DataFrame(_users, columns=['USER_ID', 'AGE', 'GENDER', 'LOCATION', 'SALARY'])\n",
    "    return _df"
   ]
  },
  {
   "cell_type": "code",
   "execution_count": 199,
   "metadata": {},
   "outputs": [
    {
     "name": "stdout",
     "output_type": "stream",
     "text": [
      "(30000, 5)\n"
     ]
    },
    {
     "data": {
      "text/html": [
       "<div>\n",
       "<style scoped>\n",
       "    .dataframe tbody tr th:only-of-type {\n",
       "        vertical-align: middle;\n",
       "    }\n",
       "\n",
       "    .dataframe tbody tr th {\n",
       "        vertical-align: top;\n",
       "    }\n",
       "\n",
       "    .dataframe thead th {\n",
       "        text-align: right;\n",
       "    }\n",
       "</style>\n",
       "<table border=\"1\" class=\"dataframe\">\n",
       "  <thead>\n",
       "    <tr style=\"text-align: right;\">\n",
       "      <th></th>\n",
       "      <th>USER_ID</th>\n",
       "      <th>AGE</th>\n",
       "      <th>GENDER</th>\n",
       "      <th>LOCATION</th>\n",
       "      <th>SALARY</th>\n",
       "    </tr>\n",
       "  </thead>\n",
       "  <tbody>\n",
       "    <tr>\n",
       "      <th>0</th>\n",
       "      <td>0</td>\n",
       "      <td>44</td>\n",
       "      <td>FEMALE</td>\n",
       "      <td>90044</td>\n",
       "      <td>22091</td>\n",
       "    </tr>\n",
       "    <tr>\n",
       "      <th>1</th>\n",
       "      <td>1</td>\n",
       "      <td>34</td>\n",
       "      <td>FEMALE</td>\n",
       "      <td>90201</td>\n",
       "      <td>30029</td>\n",
       "    </tr>\n",
       "    <tr>\n",
       "      <th>2</th>\n",
       "      <td>2</td>\n",
       "      <td>37</td>\n",
       "      <td>MALE</td>\n",
       "      <td>89110</td>\n",
       "      <td>43073</td>\n",
       "    </tr>\n",
       "    <tr>\n",
       "      <th>3</th>\n",
       "      <td>3</td>\n",
       "      <td>34</td>\n",
       "      <td>MALE</td>\n",
       "      <td>78572</td>\n",
       "      <td>23799</td>\n",
       "    </tr>\n",
       "    <tr>\n",
       "      <th>4</th>\n",
       "      <td>4</td>\n",
       "      <td>44</td>\n",
       "      <td>MALE</td>\n",
       "      <td>60625</td>\n",
       "      <td>40083</td>\n",
       "    </tr>\n",
       "  </tbody>\n",
       "</table>\n",
       "</div>"
      ],
      "text/plain": [
       "  USER_ID  AGE  GENDER LOCATION  SALARY\n",
       "0       0   44  FEMALE    90044   22091\n",
       "1       1   34  FEMALE    90201   30029\n",
       "2       2   37    MALE    89110   43073\n",
       "3       3   34    MALE    78572   23799\n",
       "4       4   44    MALE    60625   40083"
      ]
     },
     "execution_count": 199,
     "metadata": {},
     "output_type": "execute_result"
    }
   ],
   "source": [
    "users_df = gen_users(NUM_USERS)\n",
    "print(users_df.shape)\n",
    "users_df.head()"
   ]
  },
  {
   "cell_type": "markdown",
   "metadata": {},
   "source": [
    "### Look at the distribution of each user feature"
   ]
  },
  {
   "cell_type": "code",
   "execution_count": 200,
   "metadata": {},
   "outputs": [
    {
     "data": {
      "text/plain": [
       "<matplotlib.axes._subplots.AxesSubplot at 0x7f3d04ce5ba8>"
      ]
     },
     "execution_count": 200,
     "metadata": {},
     "output_type": "execute_result"
    },
    {
     "data": {
      "image/png": "[encoded data removed]",
      "text/plain": [
       "<Figure size 432x288 with 1 Axes>"
      ]
     },
     "metadata": {},
     "output_type": "display_data"
    }
   ],
   "source": [
    "users_df['AGE'].hist()"
   ]
  },
  {
   "cell_type": "code",
   "execution_count": 201,
   "metadata": {},
   "outputs": [
    {
     "data": {
      "text/plain": [
       "90650    347\n",
       "90706    346\n",
       "8701     336\n",
       "92336    330\n",
       "91744    330\n",
       "92553    330\n",
       "93550    329\n",
       "60618    328\n",
       "89110    328\n",
       "10456    328\n",
       "Name: LOCATION, dtype: int64"
      ]
     },
     "execution_count": 201,
     "metadata": {},
     "output_type": "execute_result"
    }
   ],
   "source": [
    "users_df['LOCATION'].value_counts()[0:10]"
   ]
  },
  {
   "cell_type": "code",
   "execution_count": 202,
   "metadata": {},
   "outputs": [
    {
     "data": {
      "text/plain": [
       "<matplotlib.axes._subplots.AxesSubplot at 0x7f3cffd7cb38>"
      ]
     },
     "execution_count": 202,
     "metadata": {},
     "output_type": "execute_result"
    },
    {
     "data": {
      "image/png": "[encoded data removed]",
      "text/plain": [
       "<Figure size 432x288 with 1 Axes>"
      ]
     },
     "metadata": {},
     "output_type": "display_data"
    }
   ],
   "source": [
    "users_df['SALARY'].hist()"
   ]
  },
  {
   "cell_type": "code",
   "execution_count": 203,
   "metadata": {},
   "outputs": [
    {
     "name": "stdout",
     "output_type": "stream",
     "text": [
      "Car count: 50000, User count: 30000\n"
     ]
    }
   ],
   "source": [
    "print('Car count: {}, User count: {}'.format(NUM_CARS, NUM_USERS))"
   ]
  },
  {
   "cell_type": "markdown",
   "metadata": {},
   "source": [
    "## Generate interactions dataset"
   ]
  },
  {
   "cell_type": "markdown",
   "metadata": {},
   "source": [
    "### Helper function for normal distribution of interaction items"
   ]
  },
  {
   "cell_type": "code",
   "execution_count": 204,
   "metadata": {},
   "outputs": [],
   "source": [
    "def gen_normal_item_indices(num_indices, num_items, std_div=10):\n",
    "    _loc = num_indices // 2\n",
    "    _std = num_indices // std_div\n",
    "\n",
    "    _tmp = np.random.normal(loc=_loc, scale=_std, size=num_items)\n",
    "    _tmp = _tmp.astype(int)\n",
    "\n",
    "    num_bins = 50\n",
    "    _a, _b, _c = plt.hist(_tmp, num_bins)\n",
    "    \n",
    "    return _tmp"
   ]
  },
  {
   "cell_type": "markdown",
   "metadata": {},
   "source": [
    "### Add columns to users that will drive a predictable set of interactions\n",
    "Interactions will be generated on a per-user basis. Here we define what set of cars\n",
    "a user will be viewing. We do this by defining a set of \"car clusters\". A car cluster\n",
    "is the set of cars that all have the same make and model, plus an age preference.\n",
    "For example, some users will prefer Old Toyota Camry's. Others will like New Ford Explore's.\n",
    "\n",
    "The `FAV_CLUSTER` feature is an integer representing the user's favorit car cluster. The `FAV` \n",
    "feature is a text version that makes it easier to understand the car cluster when looking\n",
    "at the data during testing and model assessment. These features are NOT saved as part of\n",
    "the Amazon Personalize datasets, but ARE saved as part of the expanded interactions data\n",
    "that is saved for helping in the model usage notebook."
   ]
  },
  {
   "cell_type": "code",
   "execution_count": 205,
   "metadata": {},
   "outputs": [
    {
     "data": {
      "text/plain": [
       "10    3987\n",
       "9     3971\n",
       "8     3465\n",
       "11    3445\n",
       "12    2883\n",
       "7     2826\n",
       "13    2053\n",
       "6     1934\n",
       "14    1313\n",
       "5     1292\n",
       "4      759\n",
       "15     710\n",
       "16     398\n",
       "3      377\n",
       "2      172\n",
       "17     172\n",
       "18      83\n",
       "1       71\n",
       "19      47\n",
       "0       42\n",
       "Name: FAV_CLUSTER, dtype: int64"
      ]
     },
     "execution_count": 205,
     "metadata": {},
     "output_type": "execute_result"
    },
    {
     "data": {
      "image/png": "[encoded data removed]",
      "text/plain": [
       "<Figure size 432x288 with 1 Axes>"
      ]
     },
     "metadata": {},
     "output_type": "display_data"
    }
   ],
   "source": [
    "def set_fav(user_id):\n",
    "    _fav = int(np.random.normal(NUM_CLUSTERS // 2, NUM_CLUSTERS // 6))\n",
    "    _fav = min(NUM_CLUSTERS - 1, _fav)\n",
    "    _fav = max(0, _fav)\n",
    "    return _fav\n",
    "\n",
    "users_df['FAV_CLUSTER'] = users_df['USER_ID'].apply(set_fav)\n",
    "users_df['FAV_CLUSTER'].hist()\n",
    "users_df['FAV_CLUSTER'].value_counts()"
   ]
  },
  {
   "cell_type": "code",
   "execution_count": 206,
   "metadata": {},
   "outputs": [
    {
     "data": {
      "text/plain": [
       "4    7436\n",
       "5    7432\n",
       "6    4936\n",
       "3    4760\n",
       "2    2051\n",
       "7    2023\n",
       "8     570\n",
       "1     549\n",
       "9     130\n",
       "0     113\n",
       "Name: FAV_MODEL, dtype: int64"
      ]
     },
     "execution_count": 206,
     "metadata": {},
     "output_type": "execute_result"
    },
    {
     "data": {
      "image/png": "[encoded data removed]",
      "text/plain": [
       "<Figure size 432x288 with 1 Axes>"
      ]
     },
     "metadata": {},
     "output_type": "display_data"
    }
   ],
   "source": [
    "users_df['FAV_MODEL'] = users_df['FAV_CLUSTER'] // 2\n",
    "users_df['FAV_MODEL'].hist()\n",
    "users_df['FAV_MODEL'].value_counts()"
   ]
  },
  {
   "cell_type": "code",
   "execution_count": 207,
   "metadata": {},
   "outputs": [
    {
     "data": {
      "text/plain": [
       "NEWISH-Ford-Fusion      3987\n",
       "OLDISH-Toyota-Sienna    3971\n",
       "NEWISH-Toyota-Sienna    3465\n",
       "OLDISH-Ford-Fusion      3445\n",
       "NEWISH-Nissan-Altima    2883\n",
       "OLDISH-Nissan-Rogue     2826\n",
       "OLDISH-Nissan-Altima    2053\n",
       "NEWISH-Nissan-Rogue     1934\n",
       "NEWISH-Nissan-Leaf      1313\n",
       "OLDISH-Toyota-Rav4      1292\n",
       "NEWISH-Toyota-Rav4       759\n",
       "OLDISH-Nissan-Leaf       710\n",
       "NEWISH-Toyota-Prius      398\n",
       "OLDISH-Ford-Explorer     377\n",
       "OLDISH-Toyota-Prius      172\n",
       "NEWISH-Ford-Explorer     172\n",
       "NEWISH-Ford-Mustang       83\n",
       "OLDISH-Toyota-Camry       71\n",
       "OLDISH-Ford-Mustang       47\n",
       "NEWISH-Toyota-Camry       42\n",
       "Name: FAV, dtype: int64"
      ]
     },
     "execution_count": 207,
     "metadata": {},
     "output_type": "execute_result"
    }
   ],
   "source": [
    "def set_fav_text(cluster):\n",
    "    fav_model = cluster // 2\n",
    "    if cluster % 2 == 0:\n",
    "        age = 'NEWISH'\n",
    "    else:\n",
    "        age = 'OLDISH'\n",
    "    return  '{}-{}-{}'.format(age,\n",
    "                              models_df.iloc[fav_model]['MAKE'], \n",
    "                              models_df.iloc[fav_model]['MODEL'])\n",
    "users_df['FAV'] = users_df['FAV_CLUSTER'].apply(set_fav_text)\n",
    "users_df['FAV'].value_counts()"
   ]
  },
  {
   "cell_type": "markdown",
   "metadata": {},
   "source": [
    "### Helper functions"
   ]
  },
  {
   "cell_type": "code",
   "execution_count": 208,
   "metadata": {},
   "outputs": [],
   "source": [
    "def print_item(item_id):\n",
    "    tmp = cars_df[cars_df.ITEM_ID == item_id].iloc[0]\n",
    "    print('Id: {}, Make: {}, Model: {}, Miles: {}, Year: {}, Price: {}, Age: {}'.format(item_id,\n",
    "         tmp['MAKE'], tmp['MODEL'], tmp['MILEAGE'], tmp['YEAR'], tmp['PRICE'], tmp['AGE']))"
   ]
  },
  {
   "cell_type": "code",
   "execution_count": 209,
   "metadata": {},
   "outputs": [],
   "source": [
    "def print_car_cluster(c):\n",
    "    print(len(c))\n",
    "    print(c)"
   ]
  },
  {
   "cell_type": "markdown",
   "metadata": {},
   "source": [
    "### Generate a normal distribution of random cars for a given car cluster"
   ]
  },
  {
   "cell_type": "code",
   "execution_count": 210,
   "metadata": {},
   "outputs": [],
   "source": [
    "def gen_normal_from_cluster(_fav_cars, _which_cluster, _sample_size):\n",
    "    _car_cluster = _fav_cars[_which_cluster]\n",
    "    _cluster_len = len(_car_cluster)\n",
    "\n",
    "    _idx_list = np.random.normal(loc=_cluster_len // 2, \n",
    "                                 scale=_cluster_len // 10, \n",
    "                                 size=_sample_size)\n",
    "    _idx_list = _idx_list.astype(int)\n",
    "    \n",
    "    # We want to maximize how many specific car items are involved in the generated\n",
    "    # interactions. However, the more we push the envelope, the more likely it is that\n",
    "    # a generated index is outside of bounds. Here we catch and resolve those situations.\n",
    "    if max(_idx_list) > (_cluster_len - 1):\n",
    "#        print('*** idx too big: {}, len: {}'.format(max(_idx_list), _cluster_len))\n",
    "        _idx_of_max = np.argmax(_idx_list)\n",
    "        _idx_list[_idx_of_max] = _cluster_len // 2\n",
    "        new_max = max(_idx_list)\n",
    "#        print('===== new max is {}'.format(new_max))\n",
    "        if (new_max > (_cluster_len - 1)):\n",
    "            _idx_of_max = np.argmax(_idx_list)\n",
    "            _idx_list[_idx_of_max] = _cluster_len // 2\n",
    "            new_max = max(_idx_list)\n",
    "#            print('=====//// new new max is {}'.format(new_max))\n",
    "\n",
    "    return _car_cluster.iloc[_idx_list]['ITEM_ID'].values"
   ]
  },
  {
   "cell_type": "code",
   "execution_count": 211,
   "metadata": {},
   "outputs": [],
   "source": [
    "def pick_random_normal_car(car_cluster):\n",
    "    _cluster_len = car_cluster.shape[0]\n",
    "    _idx = np.random.normal(loc=_cluster_len // 2,\n",
    "                            scale=_cluster_len // 10,\n",
    "                            size=1)\n",
    "    _item_id = car_cluster.iloc[_idx]['ITEM_ID'].values[0]\n",
    "    return _item_id"
   ]
  },
  {
   "cell_type": "markdown",
   "metadata": {},
   "source": [
    "### Core function for generating interactions"
   ]
  },
  {
   "cell_type": "code",
   "execution_count": 212,
   "metadata": {},
   "outputs": [],
   "source": [
    "def gen_interactions(num_interactions):\n",
    "    _interactions = []\n",
    "    \n",
    "    _num_users = users_df.shape[0]\n",
    "    _num_items = cars_df.shape[0]\n",
    "    \n",
    "    # generate interactions as sets of interactions separated by a few mins\n",
    "    # by same user on different items\n",
    "    _session_len = SESSION_LEN\n",
    "    _num_sessions = num_interactions // _session_len\n",
    "    print('Generating {} sessions of length {}, total: {}...'.format(_num_sessions, \n",
    "                                                                     _session_len,\n",
    "                                                                     num_interactions))\n",
    "\n",
    "    # One-time generation of the list of cars that match each possible cluster of\n",
    "    # favorite cars. A random selection of these will be used in each session.\n",
    "    _fav_cars = []\n",
    "    for c in range(NUM_CLUSTERS):\n",
    "        m = c // 2\n",
    "        _make  = models_df.iloc[m]['MAKE']\n",
    "        _model = models_df.iloc[m]['MODEL']\n",
    "        if c % 2 == 0:\n",
    "            # newish\n",
    "            _car_cluster = cars_df[(cars_df.YEAR >= str(MID_YEAR)) &\n",
    "                                       (cars_df.MAKE  == _make) &\n",
    "                                       (cars_df.MODEL == _model)]\n",
    "        else:\n",
    "            # oldish\n",
    "            _car_cluster = cars_df[(cars_df.YEAR < str(MID_YEAR)) &\n",
    "                                       (cars_df.MAKE  == _make) &\n",
    "                                       (cars_df.MODEL == _model)]\n",
    "\n",
    "        _fav_cars.append(_car_cluster)\n",
    "\n",
    "    # Generate a set of user_id's to be used, one per session\n",
    "    _which_user_idx = gen_normal_item_indices(_num_users, _num_sessions, std_div=6)\n",
    "\n",
    "    # Session start times will be randomly picked to happen between now and 48 hours ago\n",
    "    _latest_time   = round(datetime.now().timestamp())\n",
    "    _earliest_time = _latest_time - (60*48)\n",
    "    \n",
    "    for s in range(_num_sessions):\n",
    "        if (s % 10000 == 0):\n",
    "            print('...at session {}'.format(s))\n",
    "            \n",
    "        _user = _which_user_idx[s]\n",
    "        \n",
    "        # ensure user id is within bounds\n",
    "        if (_user < 0):\n",
    "            _user = np.random.randint(0, NUM_USERS - 1)\n",
    "        elif (_user > (NUM_USERS - 1)):\n",
    "            _user = np.random.randint(0, NUM_USERS - 1)\n",
    "            \n",
    "        # Use same car cluster for every interaction in the current session\n",
    "        _which_cluster  = users_df.iloc[_user]['FAV_CLUSTER']\n",
    "\n",
    "        # Pick a random session start time\n",
    "        _when = np.random.randint(_earliest_time, _latest_time)\n",
    "        \n",
    "        # Generate a set of specific cars to use in this session. Choose them\n",
    "        # only from the designated car cluster preferred by this user.\n",
    "        _sample_size = num_interactions // NUM_CLUSTERS\n",
    "        _session_cars = gen_normal_from_cluster(_fav_cars, _which_cluster, _sample_size)\n",
    "\n",
    "        for i in range(_session_len):\n",
    "            interaction_num = (s * _session_len) + i\n",
    "            idx = interaction_num % NUM_CLUSTERS\n",
    "\n",
    "            _item = _session_cars[idx]\n",
    "\n",
    "            _when = _when + (i * SESSION_DELAY_SECONDS) \n",
    "\n",
    "            _this_interaction = [str(_user), str(_item), _when, s]\n",
    "\n",
    "            _interactions.append(_this_interaction)\n",
    "        \n",
    "    _df = pd.DataFrame(_interactions, columns=['USER_ID', 'ITEM_ID', 'TIMESTAMP', 'SESSION_ID'])\n",
    "    return _df"
   ]
  },
  {
   "cell_type": "code",
   "execution_count": 213,
   "metadata": {},
   "outputs": [
    {
     "name": "stdout",
     "output_type": "stream",
     "text": [
      "Generating 75000 sessions of length 10, total: 750000...\n",
      "...at session 0\n",
      "...at session 10000\n",
      "...at session 20000\n",
      "...at session 30000\n",
      "...at session 40000\n",
      "...at session 50000\n",
      "...at session 60000\n",
      "...at session 70000\n",
      "CPU times: user 14min 17s, sys: 170 ms, total: 14min 17s\n",
      "Wall time: 14min 17s\n"
     ]
    },
    {
     "data": {
      "image/png": "[encoded data removed]",
      "text/plain": [
       "<Figure size 432x288 with 1 Axes>"
      ]
     },
     "metadata": {},
     "output_type": "display_data"
    }
   ],
   "source": [
    "%%time\n",
    "interactions_df = gen_interactions(NUM_INTERACTIONS)\n",
    "interactions_df.head()"
   ]
  },
  {
   "cell_type": "markdown",
   "metadata": {},
   "source": [
    "### Show utilization and distribution of interactions per user and per item"
   ]
  },
  {
   "cell_type": "code",
   "execution_count": 214,
   "metadata": {},
   "outputs": [
    {
     "name": "stdout",
     "output_type": "stream",
     "text": [
      "0.69 of users have interactions (20762/30000)\n",
      "First 10: \n",
      "14198    160\n",
      "16310    150\n",
      "15559    150\n",
      "16744    150\n",
      "17917    140\n",
      "15947    140\n",
      "12638    140\n",
      "16850    140\n",
      "15009    140\n",
      "14956    140\n",
      "Name: USER_ID, dtype: int64\n",
      "Last 10:  \n",
      "19308    10\n",
      "22948    10\n",
      "8734     10\n",
      "22876    10\n",
      "18779    10\n",
      "24034    10\n",
      "27232    10\n",
      "16732    10\n",
      "27694    10\n",
      "23393    10\n",
      "Name: USER_ID, dtype: int64\n"
     ]
    }
   ],
   "source": [
    "_user_vc = interactions_df['USER_ID'].value_counts()\n",
    "print('{:.2f} of users have interactions ({}/{})'.format(_user_vc.shape[0]/NUM_USERS,\n",
    "                                                        _user_vc.shape[0],\n",
    "                                                        NUM_USERS))\n",
    "print('First 10: \\n{}'.format(_user_vc[:10]))\n",
    "print('Last 10:  \\n{}'.format(_user_vc[-10:]))"
   ]
  },
  {
   "cell_type": "code",
   "execution_count": 215,
   "metadata": {},
   "outputs": [
    {
     "name": "stdout",
     "output_type": "stream",
     "text": [
      "0.60 of ITEMS have interactions (29798/50000)\n",
      "First 10: \n",
      "24343    111\n",
      "24564    110\n",
      "25645    109\n",
      "24189    108\n",
      "25762    107\n",
      "24567    106\n",
      "24794    105\n",
      "25897    105\n",
      "24259    104\n",
      "25640    104\n",
      "Name: ITEM_ID, dtype: int64\n",
      "Last 10:  \n",
      "43446    1\n",
      "10229    1\n",
      "17569    1\n",
      "40851    1\n",
      "13351    1\n",
      "8575     1\n",
      "38978    1\n",
      "40190    1\n",
      "39420    1\n",
      "39966    1\n",
      "Name: ITEM_ID, dtype: int64\n"
     ]
    }
   ],
   "source": [
    "print('{:.2f} of ITEMS have interactions ({}/{})'.format(interactions_df['ITEM_ID'].value_counts().shape[0]/NUM_CARS,\n",
    "                                                      interactions_df['ITEM_ID'].value_counts().shape[0],\n",
    "                                                       NUM_CARS))\n",
    "_item_vc = interactions_df['ITEM_ID'].value_counts()\n",
    "print('First 10: \\n{}'.format(_item_vc[:10]))\n",
    "print('Last 10:  \\n{}'.format(_item_vc[-10:]))"
   ]
  },
  {
   "cell_type": "markdown",
   "metadata": {},
   "source": [
    "## Drop inactive users and items"
   ]
  },
  {
   "cell_type": "code",
   "execution_count": 216,
   "metadata": {},
   "outputs": [
    {
     "name": "stdout",
     "output_type": "stream",
     "text": [
      "9238 users have NO interactions\n"
     ]
    },
    {
     "data": {
      "text/html": [
       "<div>\n",
       "<style scoped>\n",
       "    .dataframe tbody tr th:only-of-type {\n",
       "        vertical-align: middle;\n",
       "    }\n",
       "\n",
       "    .dataframe tbody tr th {\n",
       "        vertical-align: top;\n",
       "    }\n",
       "\n",
       "    .dataframe thead th {\n",
       "        text-align: right;\n",
       "    }\n",
       "</style>\n",
       "<table border=\"1\" class=\"dataframe\">\n",
       "  <thead>\n",
       "    <tr style=\"text-align: right;\">\n",
       "      <th></th>\n",
       "      <th>USER_ID</th>\n",
       "      <th>AGE</th>\n",
       "      <th>GENDER</th>\n",
       "      <th>LOCATION</th>\n",
       "      <th>SALARY</th>\n",
       "      <th>FAV_CLUSTER</th>\n",
       "      <th>FAV_MODEL</th>\n",
       "      <th>FAV</th>\n",
       "    </tr>\n",
       "  </thead>\n",
       "  <tbody>\n",
       "    <tr>\n",
       "      <th>0</th>\n",
       "      <td>0</td>\n",
       "      <td>44</td>\n",
       "      <td>FEMALE</td>\n",
       "      <td>90044</td>\n",
       "      <td>22091</td>\n",
       "      <td>12</td>\n",
       "      <td>6</td>\n",
       "      <td>NEWISH-Nissan-Altima</td>\n",
       "    </tr>\n",
       "    <tr>\n",
       "      <th>1</th>\n",
       "      <td>1</td>\n",
       "      <td>34</td>\n",
       "      <td>FEMALE</td>\n",
       "      <td>90201</td>\n",
       "      <td>30029</td>\n",
       "      <td>6</td>\n",
       "      <td>3</td>\n",
       "      <td>NEWISH-Nissan-Rogue</td>\n",
       "    </tr>\n",
       "    <tr>\n",
       "      <th>2</th>\n",
       "      <td>2</td>\n",
       "      <td>37</td>\n",
       "      <td>MALE</td>\n",
       "      <td>89110</td>\n",
       "      <td>43073</td>\n",
       "      <td>7</td>\n",
       "      <td>3</td>\n",
       "      <td>OLDISH-Nissan-Rogue</td>\n",
       "    </tr>\n",
       "    <tr>\n",
       "      <th>3</th>\n",
       "      <td>3</td>\n",
       "      <td>34</td>\n",
       "      <td>MALE</td>\n",
       "      <td>78572</td>\n",
       "      <td>23799</td>\n",
       "      <td>8</td>\n",
       "      <td>4</td>\n",
       "      <td>NEWISH-Toyota-Sienna</td>\n",
       "    </tr>\n",
       "    <tr>\n",
       "      <th>4</th>\n",
       "      <td>4</td>\n",
       "      <td>44</td>\n",
       "      <td>MALE</td>\n",
       "      <td>60625</td>\n",
       "      <td>40083</td>\n",
       "      <td>4</td>\n",
       "      <td>2</td>\n",
       "      <td>NEWISH-Toyota-Rav4</td>\n",
       "    </tr>\n",
       "  </tbody>\n",
       "</table>\n",
       "</div>"
      ],
      "text/plain": [
       "  USER_ID  AGE  GENDER LOCATION  SALARY  FAV_CLUSTER  FAV_MODEL  \\\n",
       "0       0   44  FEMALE    90044   22091           12          6   \n",
       "1       1   34  FEMALE    90201   30029            6          3   \n",
       "2       2   37    MALE    89110   43073            7          3   \n",
       "3       3   34    MALE    78572   23799            8          4   \n",
       "4       4   44    MALE    60625   40083            4          2   \n",
       "\n",
       "                    FAV  \n",
       "0  NEWISH-Nissan-Altima  \n",
       "1   NEWISH-Nissan-Rogue  \n",
       "2   OLDISH-Nissan-Rogue  \n",
       "3  NEWISH-Toyota-Sienna  \n",
       "4    NEWISH-Toyota-Rav4  "
      ]
     },
     "execution_count": 216,
     "metadata": {},
     "output_type": "execute_result"
    }
   ],
   "source": [
    "active_users   = pd.DataFrame(interactions_df['USER_ID'].value_counts()).index\n",
    "inactive_users = users_df[~users_df.USER_ID.isin(active_users)]\n",
    "print('{} users have NO interactions'.format(inactive_users.shape[0]))\n",
    "inactive_users.head()"
   ]
  },
  {
   "cell_type": "code",
   "execution_count": 217,
   "metadata": {},
   "outputs": [
    {
     "name": "stdout",
     "output_type": "stream",
     "text": [
      "20202 items have NO interactions\n"
     ]
    },
    {
     "data": {
      "text/html": [
       "<div>\n",
       "<style scoped>\n",
       "    .dataframe tbody tr th:only-of-type {\n",
       "        vertical-align: middle;\n",
       "    }\n",
       "\n",
       "    .dataframe tbody tr th {\n",
       "        vertical-align: top;\n",
       "    }\n",
       "\n",
       "    .dataframe thead th {\n",
       "        text-align: right;\n",
       "    }\n",
       "</style>\n",
       "<table border=\"1\" class=\"dataframe\">\n",
       "  <thead>\n",
       "    <tr style=\"text-align: right;\">\n",
       "      <th></th>\n",
       "      <th>ITEM_ID</th>\n",
       "      <th>MAKE</th>\n",
       "      <th>MODEL</th>\n",
       "      <th>YEAR</th>\n",
       "      <th>MILEAGE</th>\n",
       "      <th>PRICE</th>\n",
       "    </tr>\n",
       "  </thead>\n",
       "  <tbody>\n",
       "    <tr>\n",
       "      <th>0</th>\n",
       "      <td>0</td>\n",
       "      <td>Ford</td>\n",
       "      <td>Explorer</td>\n",
       "      <td>2015</td>\n",
       "      <td>62696</td>\n",
       "      <td>32711</td>\n",
       "    </tr>\n",
       "    <tr>\n",
       "      <th>1</th>\n",
       "      <td>1</td>\n",
       "      <td>Toyota</td>\n",
       "      <td>Sienna</td>\n",
       "      <td>2017</td>\n",
       "      <td>35036</td>\n",
       "      <td>36081</td>\n",
       "    </tr>\n",
       "    <tr>\n",
       "      <th>2</th>\n",
       "      <td>2</td>\n",
       "      <td>Nissan</td>\n",
       "      <td>Rogue</td>\n",
       "      <td>2012</td>\n",
       "      <td>105640</td>\n",
       "      <td>28920</td>\n",
       "    </tr>\n",
       "    <tr>\n",
       "      <th>3</th>\n",
       "      <td>3</td>\n",
       "      <td>Toyota</td>\n",
       "      <td>Prius</td>\n",
       "      <td>2015</td>\n",
       "      <td>61276</td>\n",
       "      <td>33745</td>\n",
       "    </tr>\n",
       "    <tr>\n",
       "      <th>4</th>\n",
       "      <td>4</td>\n",
       "      <td>Toyota</td>\n",
       "      <td>Sienna</td>\n",
       "      <td>2012</td>\n",
       "      <td>113328</td>\n",
       "      <td>23358</td>\n",
       "    </tr>\n",
       "  </tbody>\n",
       "</table>\n",
       "</div>"
      ],
      "text/plain": [
       "  ITEM_ID    MAKE     MODEL  YEAR  MILEAGE  PRICE\n",
       "0       0    Ford  Explorer  2015    62696  32711\n",
       "1       1  Toyota    Sienna  2017    35036  36081\n",
       "2       2  Nissan     Rogue  2012   105640  28920\n",
       "3       3  Toyota     Prius  2015    61276  33745\n",
       "4       4  Toyota    Sienna  2012   113328  23358"
      ]
     },
     "execution_count": 217,
     "metadata": {},
     "output_type": "execute_result"
    }
   ],
   "source": [
    "active_items   = pd.DataFrame(interactions_df['ITEM_ID'].value_counts()).index\n",
    "inactive_items = cars_df[~cars_df.ITEM_ID.isin(active_items)]\n",
    "print('{} items have NO interactions'.format(inactive_items.shape[0]))\n",
    "inactive_items.head()"
   ]
  },
  {
   "cell_type": "code",
   "execution_count": 218,
   "metadata": {},
   "outputs": [
    {
     "name": "stdout",
     "output_type": "stream",
     "text": [
      "After dropping inactive cars, (29798, 6) remain.\n"
     ]
    }
   ],
   "source": [
    "cars_df.drop(inactive_items.index, inplace=True)\n",
    "print('After dropping inactive cars, {} remain.'.format(cars_df.shape))"
   ]
  },
  {
   "cell_type": "code",
   "execution_count": 219,
   "metadata": {},
   "outputs": [
    {
     "name": "stdout",
     "output_type": "stream",
     "text": [
      "After dropping inactive users, (20762, 8) remain.\n"
     ]
    }
   ],
   "source": [
    "users_df.drop(inactive_users.index, inplace=True)\n",
    "print('After dropping inactive users, {} remain.'.format(users_df.shape))"
   ]
  },
  {
   "cell_type": "markdown",
   "metadata": {},
   "source": [
    "## Create an expanded interactions dataframe for analysis\n",
    "The interactions dataframe to pass to Personalize is limited to 5 metadata items\n",
    "and is conforming to a schema we will define in another notebook. This expanded \n",
    "dataframe helps with framing tests and evaluating results, as in creates one big\n",
    "denormalized dataframe with interactions and corresponding user and car features."
   ]
  },
  {
   "cell_type": "code",
   "execution_count": 220,
   "metadata": {},
   "outputs": [
    {
     "data": {
      "text/html": [
       "<div>\n",
       "<style scoped>\n",
       "    .dataframe tbody tr th:only-of-type {\n",
       "        vertical-align: middle;\n",
       "    }\n",
       "\n",
       "    .dataframe tbody tr th {\n",
       "        vertical-align: top;\n",
       "    }\n",
       "\n",
       "    .dataframe thead th {\n",
       "        text-align: right;\n",
       "    }\n",
       "</style>\n",
       "<table border=\"1\" class=\"dataframe\">\n",
       "  <thead>\n",
       "    <tr style=\"text-align: right;\">\n",
       "      <th></th>\n",
       "      <th>USER_ID</th>\n",
       "      <th>ITEM_ID</th>\n",
       "      <th>TIMESTAMP</th>\n",
       "      <th>SESSION_ID</th>\n",
       "      <th>MAKE</th>\n",
       "      <th>MODEL</th>\n",
       "      <th>YEAR</th>\n",
       "      <th>MILEAGE</th>\n",
       "      <th>PRICE</th>\n",
       "      <th>AGE</th>\n",
       "      <th>GENDER</th>\n",
       "      <th>LOCATION</th>\n",
       "      <th>SALARY</th>\n",
       "      <th>FAV_CLUSTER</th>\n",
       "      <th>FAV_MODEL</th>\n",
       "      <th>FAV</th>\n",
       "    </tr>\n",
       "  </thead>\n",
       "  <tbody>\n",
       "    <tr>\n",
       "      <th>0</th>\n",
       "      <td>10953</td>\n",
       "      <td>28159</td>\n",
       "      <td>1563132741</td>\n",
       "      <td>0</td>\n",
       "      <td>Toyota</td>\n",
       "      <td>Sienna</td>\n",
       "      <td>2010</td>\n",
       "      <td>138051</td>\n",
       "      <td>18029</td>\n",
       "      <td>37</td>\n",
       "      <td>FEMALE</td>\n",
       "      <td>926</td>\n",
       "      <td>26306</td>\n",
       "      <td>9</td>\n",
       "      <td>4</td>\n",
       "      <td>OLDISH-Toyota-Sienna</td>\n",
       "    </tr>\n",
       "    <tr>\n",
       "      <th>1</th>\n",
       "      <td>10953</td>\n",
       "      <td>31969</td>\n",
       "      <td>1563132861</td>\n",
       "      <td>0</td>\n",
       "      <td>Toyota</td>\n",
       "      <td>Sienna</td>\n",
       "      <td>2012</td>\n",
       "      <td>106905</td>\n",
       "      <td>28964</td>\n",
       "      <td>37</td>\n",
       "      <td>FEMALE</td>\n",
       "      <td>926</td>\n",
       "      <td>26306</td>\n",
       "      <td>9</td>\n",
       "      <td>4</td>\n",
       "      <td>OLDISH-Toyota-Sienna</td>\n",
       "    </tr>\n",
       "    <tr>\n",
       "      <th>2</th>\n",
       "      <td>10953</td>\n",
       "      <td>29623</td>\n",
       "      <td>1563133101</td>\n",
       "      <td>0</td>\n",
       "      <td>Toyota</td>\n",
       "      <td>Sienna</td>\n",
       "      <td>2013</td>\n",
       "      <td>97038</td>\n",
       "      <td>28016</td>\n",
       "      <td>37</td>\n",
       "      <td>FEMALE</td>\n",
       "      <td>926</td>\n",
       "      <td>26306</td>\n",
       "      <td>9</td>\n",
       "      <td>4</td>\n",
       "      <td>OLDISH-Toyota-Sienna</td>\n",
       "    </tr>\n",
       "    <tr>\n",
       "      <th>3</th>\n",
       "      <td>10953</td>\n",
       "      <td>26740</td>\n",
       "      <td>1563133461</td>\n",
       "      <td>0</td>\n",
       "      <td>Toyota</td>\n",
       "      <td>Sienna</td>\n",
       "      <td>2013</td>\n",
       "      <td>93337</td>\n",
       "      <td>22521</td>\n",
       "      <td>37</td>\n",
       "      <td>FEMALE</td>\n",
       "      <td>926</td>\n",
       "      <td>26306</td>\n",
       "      <td>9</td>\n",
       "      <td>4</td>\n",
       "      <td>OLDISH-Toyota-Sienna</td>\n",
       "    </tr>\n",
       "    <tr>\n",
       "      <th>4</th>\n",
       "      <td>10953</td>\n",
       "      <td>15404</td>\n",
       "      <td>1563133941</td>\n",
       "      <td>0</td>\n",
       "      <td>Toyota</td>\n",
       "      <td>Sienna</td>\n",
       "      <td>2013</td>\n",
       "      <td>97747</td>\n",
       "      <td>26073</td>\n",
       "      <td>37</td>\n",
       "      <td>FEMALE</td>\n",
       "      <td>926</td>\n",
       "      <td>26306</td>\n",
       "      <td>9</td>\n",
       "      <td>4</td>\n",
       "      <td>OLDISH-Toyota-Sienna</td>\n",
       "    </tr>\n",
       "  </tbody>\n",
       "</table>\n",
       "</div>"
      ],
      "text/plain": [
       "  USER_ID ITEM_ID   TIMESTAMP  SESSION_ID    MAKE   MODEL  YEAR  MILEAGE  \\\n",
       "0   10953   28159  1563132741           0  Toyota  Sienna  2010   138051   \n",
       "1   10953   31969  1563132861           0  Toyota  Sienna  2012   106905   \n",
       "2   10953   29623  1563133101           0  Toyota  Sienna  2013    97038   \n",
       "3   10953   26740  1563133461           0  Toyota  Sienna  2013    93337   \n",
       "4   10953   15404  1563133941           0  Toyota  Sienna  2013    97747   \n",
       "\n",
       "   PRICE  AGE  GENDER LOCATION  SALARY  FAV_CLUSTER  FAV_MODEL  \\\n",
       "0  18029   37  FEMALE      926   26306            9          4   \n",
       "1  28964   37  FEMALE      926   26306            9          4   \n",
       "2  28016   37  FEMALE      926   26306            9          4   \n",
       "3  22521   37  FEMALE      926   26306            9          4   \n",
       "4  26073   37  FEMALE      926   26306            9          4   \n",
       "\n",
       "                    FAV  \n",
       "0  OLDISH-Toyota-Sienna  \n",
       "1  OLDISH-Toyota-Sienna  \n",
       "2  OLDISH-Toyota-Sienna  \n",
       "3  OLDISH-Toyota-Sienna  \n",
       "4  OLDISH-Toyota-Sienna  "
      ]
     },
     "execution_count": 220,
     "metadata": {},
     "output_type": "execute_result"
    }
   ],
   "source": [
    "interactions_expanded_df = pd.merge(interactions_df, cars_df, on='ITEM_ID')\n",
    "interactions_expanded_df = pd.merge(interactions_expanded_df, users_df, on='USER_ID')\n",
    "interactions_expanded_df.head()"
   ]
  },
  {
   "cell_type": "markdown",
   "metadata": {},
   "source": [
    "## Display overall statistics"
   ]
  },
  {
   "cell_type": "code",
   "execution_count": 221,
   "metadata": {},
   "outputs": [],
   "source": [
    "eps_stats = pd.DataFrame(interactions_df['SESSION_ID'].value_counts()).describe()\n",
    "epi_stats = pd.DataFrame(interactions_df['ITEM_ID'].value_counts()).describe()\n",
    "epu_stats = pd.DataFrame(interactions_df['USER_ID'].value_counts()).describe()\n",
    "spu_stats = interactions_df.groupby('USER_ID')['SESSION_ID'].nunique().to_frame().describe()"
   ]
  },
  {
   "cell_type": "code",
   "execution_count": 222,
   "metadata": {},
   "outputs": [
    {
     "name": "stdout",
     "output_type": "stream",
     "text": [
      "29,798 items\n",
      "20,762 users\n",
      "750,000 interactions\n",
      "75,000 sessions\n",
      "\n",
      "events per session (median/mean/stdev) 10.00/10.00/0.00\n",
      "events per item    (median/mean/stdev) 25.17/16.00/24.66\n",
      "events per user    (median/mean/stdev) 36.12/30.00/24.24\n",
      "sessions per user  (median/mean/stdev) 3.61/3.00/2.42\n",
      "\n",
      "1.00 of items have interactions (29798/29798)\n",
      "1.00 of users have interactions (20762/20762)\n"
     ]
    }
   ],
   "source": [
    "item_count = cars_df.shape[0]\n",
    "user_count = users_df.shape[0]\n",
    "interaction_count = interactions_df.shape[0]\n",
    "\n",
    "print('{:,} items\\n{:,} users\\n{:,} interactions\\n{:,} sessions'.format(item_count, \n",
    "                                                                user_count, \n",
    "                                                                interaction_count, \n",
    "                                                                NUM_SESSIONS))\n",
    "print('\\nevents per session (median/mean/stdev) {:.2f}/{:.2f}/{:.2f}'.format(eps_stats.loc['mean'].values[0],\n",
    "                                                               eps_stats.loc['50%'].values[0],\n",
    "                                                               eps_stats.loc['std'].values[0]))\n",
    "print('events per item    (median/mean/stdev) {:.2f}/{:.2f}/{:.2f}'.format(epi_stats.loc['mean'].values[0],\n",
    "                                                                           epi_stats.loc['50%'].values[0],\n",
    "                                                                           epi_stats.loc['std'].values[0]))\n",
    "print('events per user    (median/mean/stdev) {:.2f}/{:.2f}/{:.2f}'.format(epu_stats.loc['mean'].values[0],\n",
    "                                                                           epu_stats.loc['50%'].values[0],\n",
    "                                                                           epu_stats.loc['std'].values[0]))\n",
    "print('sessions per user  (median/mean/stdev) {:.2f}/{:.2f}/{:.2f}'.format(spu_stats.loc['mean'].values[0],\n",
    "                                                                           spu_stats.loc['50%'].values[0],\n",
    "                                                                           spu_stats.loc['std'].values[0]))\n",
    "\n",
    "print('\\n{:.2f} of items have interactions ({}/{})'.format(interactions_df['ITEM_ID'].value_counts().shape[0]/item_count,\n",
    "                                                      interactions_df['ITEM_ID'].value_counts().shape[0],\n",
    "                                                       item_count))\n",
    "print('{:.2f} of users have interactions ({}/{})'.format(_user_vc.shape[0]/user_count,\n",
    "                                                        _user_vc.shape[0],\n",
    "                                                        user_count))"
   ]
  },
  {
   "cell_type": "markdown",
   "metadata": {},
   "source": [
    "## Save data to S3 and expanded interactions to local csv"
   ]
  },
  {
   "cell_type": "code",
   "execution_count": 223,
   "metadata": {},
   "outputs": [],
   "source": [
    "cars_df.to_csv(cars_filename, index=False)\n",
    "boto3.Session().resource('s3').Bucket(bucket).Object('{}/{}'.format(prefix, cars_filename)).upload_file(cars_filename)"
   ]
  },
  {
   "cell_type": "code",
   "execution_count": 224,
   "metadata": {},
   "outputs": [],
   "source": [
    "users_df.to_csv(users_filename, index=False)\n",
    "boto3.Session().resource('s3').Bucket(bucket).Object('{}/{}'.format(prefix, users_filename)).upload_file(users_filename)"
   ]
  },
  {
   "cell_type": "code",
   "execution_count": 225,
   "metadata": {},
   "outputs": [],
   "source": [
    "interactions_df[['USER_ID', 'ITEM_ID', 'TIMESTAMP']].to_csv(interactions_filename, index=False)\n",
    "boto3.Session().resource('s3').Bucket(bucket).Object('{}/{}'.format(prefix, interactions_filename)).upload_file(interactions_filename)"
   ]
  },
  {
   "cell_type": "code",
   "execution_count": 226,
   "metadata": {},
   "outputs": [],
   "source": [
    "interactions_expanded_df.to_csv(int_exp_filename, index=False)"
   ]
  },
  {
   "cell_type": "code",
   "execution_count": null,
   "metadata": {},
   "outputs": [],
   "source": []
  }
 ],
 "metadata": {
  "kernelspec": {
   "display_name": "conda_python3",
   "language": "python",
   "name": "conda_python3"
  },
  "language_info": {
   "codemirror_mode": {
    "name": "ipython",
    "version": 3
   },
   "file_extension": ".py",
   "mimetype": "text/x-python",
   "name": "python",
   "nbconvert_exporter": "python",
   "pygments_lexer": "ipython3",
   "version": "3.6.5"
  }
 },
 "nbformat": 4,
 "nbformat_minor": 2
}
