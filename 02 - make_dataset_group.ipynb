{
 "cells": [
  {
   "cell_type": "markdown",
   "metadata": {},
   "source": [
    "# Make user, item, and interaction datasets\n",
    "This notebook creates the official Amazon Personalize dataset resources for the\n",
    "car search recommendations demo."
   ]
  },
  {
   "cell_type": "code",
   "execution_count": 106,
   "metadata": {},
   "outputs": [],
   "source": [
    "import json\n",
    "import boto3\n",
    "import time\n",
    "\n",
    "cars_filename         = 'car_items.csv'\n",
    "users_filename        = 'users.csv'\n",
    "interactions_filename = 'interactions.csv'\n",
    "\n",
    "dataset_group_name = 'car-dg10'\n",
    "\n",
    "schema_version = 'v10'\n",
    "\n",
    "bucket   = '<your-bucket>'\n",
    "prefix   = 'personalize/' + schema_version\n",
    "\n",
    "MAX_WAIT_TIME = time.time() + 60*60 # 1 hour\n",
    "\n",
    "region      = '<region>'\n",
    "account_num = '<your-account>'\n",
    "role_arn    = '<your-role>'\n",
    "\n",
    "CAR_INTERACTION_SCHEMA_NAME = 'car-interactions-schema-' + schema_version\n",
    "CAR_INTERACTION_SCHEMA_ARN  = 'arn:aws:personalize:{}:{}:schema/'.format(region, account_num) + \\\n",
    "                                CAR_INTERACTION_SCHEMA_NAME\n",
    "    \n",
    "CAR_ITEM_SCHEMA_NAME = 'car-items-schema-' + schema_version\n",
    "CAR_ITEM_SCHEMA_ARN  = 'arn:aws:personalize:{}:{}:schema/'.format(region, account_num) + \\\n",
    "                                CAR_ITEM_SCHEMA_NAME\n",
    "\n",
    "CAR_USER_SCHEMA_NAME = 'car-users-schema-' + schema_version\n",
    "CAR_USER_SCHEMA_ARN  = 'arn:aws:personalize:{}:{}:schema/'.format(region, account_num) + \\\n",
    "                                CAR_USER_SCHEMA_NAME"
   ]
  },
  {
   "cell_type": "code",
   "execution_count": 107,
   "metadata": {},
   "outputs": [],
   "source": [
    "personalize = boto3.client('personalize')\n",
    "personalize_runtime = boto3.client('personalize-runtime')"
   ]
  },
  {
   "cell_type": "markdown",
   "metadata": {},
   "source": [
    "## Create the INTERACTIONS schema\n",
    "Create the INTERACTIONS schema if it is not in place already."
   ]
  },
  {
   "cell_type": "code",
   "execution_count": 108,
   "metadata": {},
   "outputs": [
    {
     "name": "stdout",
     "output_type": "stream",
     "text": [
      "arn:aws:personalize:us-east-1:355151823911:schema/car-interactions-schema-v10\n"
     ]
    }
   ],
   "source": [
    "try:\n",
    "    # first see if the schema is already in place\n",
    "    arn = CAR_INTERACTION_SCHEMA_ARN\n",
    "    response = personalize.describe_schema(schemaArn=arn)\n",
    "    interactions_schema_arn = response['schema']['schemaArn']\n",
    "    print(interactions_schema_arn)\n",
    "except Exception as e:\n",
    "    print('Schema {} did not exist, creating it...'.format(arn))\n",
    "    schema = {\n",
    "        \"type\": \"record\",\n",
    "        \"name\": \"Interactions\",\n",
    "        \"namespace\": \"com.amazonaws.personalize.schema\",\n",
    "        \"fields\": [\n",
    "            {\n",
    "                \"name\": \"USER_ID\",\n",
    "                \"type\": \"string\"\n",
    "            },\n",
    "            {\n",
    "                \"name\": \"ITEM_ID\",\n",
    "                \"type\": \"string\"\n",
    "            },\n",
    "            {\n",
    "                \"name\": \"TIMESTAMP\",\n",
    "                \"type\": \"long\"\n",
    "            }\n",
    "        ],\n",
    "        \"version\": \"1.0\"\n",
    "    }\n",
    "\n",
    "    create_schema_response = personalize.create_schema(\n",
    "        name   = CAR_INTERACTION_SCHEMA_NAME,\n",
    "        schema = json.dumps(schema)\n",
    "    )\n",
    "\n",
    "    interactions_schema_arn = create_schema_response['schemaArn']\n",
    "    print(json.dumps(create_schema_response, indent=2))"
   ]
  },
  {
   "cell_type": "markdown",
   "metadata": {},
   "source": [
    "## Create the ITEMS schema\n",
    "Create the ITEMS schema if it is not in place already."
   ]
  },
  {
   "cell_type": "code",
   "execution_count": 109,
   "metadata": {},
   "outputs": [
    {
     "name": "stdout",
     "output_type": "stream",
     "text": [
      "arn:aws:personalize:us-east-1:355151823911:schema/car-items-schema-v10\n"
     ]
    }
   ],
   "source": [
    "try:\n",
    "    arn = CAR_ITEM_SCHEMA_ARN\n",
    "    response = personalize.describe_schema(schemaArn=arn)\n",
    "    items_schema_arn = response['schema']['schemaArn']\n",
    "    print(items_schema_arn)\n",
    "except Exception as e:\n",
    "    print('schema not found, creating new...')\n",
    "    schema = {\n",
    "        \"type\": \"record\",\n",
    "        \"name\": \"Items\",\n",
    "        \"namespace\": \"com.amazonaws.personalize.schema\",\n",
    "        \"fields\": [\n",
    "            {\n",
    "                \"name\": \"ITEM_ID\",\n",
    "                \"type\": \"string\"\n",
    "            },\n",
    "            {\n",
    "                \"name\": \"MAKE\",\n",
    "                \"type\": \"string\",\n",
    "                \"categorical\": True\n",
    "            },\n",
    "            {\n",
    "                \"name\": \"MODEL\",\n",
    "                \"type\": \"string\",\n",
    "                \"categorical\": True\n",
    "            },\n",
    "            {\n",
    "                \"name\": \"YEAR\",\n",
    "                \"type\": \"int\"\n",
    "            },\n",
    "            {\n",
    "                \"name\": \"MILEAGE\",\n",
    "                \"type\": \"int\"\n",
    "            },\n",
    "            {\n",
    "                \"name\": \"PRICE\",\n",
    "                \"type\": \"int\"\n",
    "            }\n",
    "            #,\n",
    "#            {\n",
    "#                \"name\": \"COLOR\",\n",
    "#                \"type\": \"string\",\n",
    "#                \"categorical\": True\n",
    "#            }#,  Max of 5 metadata columns is the Personalize limit for now\n",
    "    #        {\n",
    "    #            \"name\": \"LOCATION\",\n",
    "    #            \"type\": \"string\",\n",
    "    #            \"categorical\": True\n",
    "    #        }\n",
    "        ],\n",
    "        \"version\": \"1.0\"\n",
    "    }\n",
    "\n",
    "    create_schema_response = personalize.create_schema(\n",
    "        name   = CAR_ITEM_SCHEMA_NAME,\n",
    "        schema = json.dumps(schema)\n",
    "    )\n",
    "\n",
    "    items_schema_arn = create_schema_response['schemaArn']\n",
    "    print(json.dumps(create_schema_response, indent=2))"
   ]
  },
  {
   "cell_type": "markdown",
   "metadata": {},
   "source": [
    "## Create the USERS schema\n",
    "Create the USERS schema if it is not in place already."
   ]
  },
  {
   "cell_type": "code",
   "execution_count": 110,
   "metadata": {},
   "outputs": [
    {
     "name": "stdout",
     "output_type": "stream",
     "text": [
      "arn:aws:personalize:us-east-1:355151823911:schema/car-users-schema-v10\n"
     ]
    }
   ],
   "source": [
    "try:\n",
    "    arn = CAR_USER_SCHEMA_ARN\n",
    "    response = personalize.describe_schema(schemaArn=arn)\n",
    "    users_schema_arn = response['schema']['schemaArn']\n",
    "    print(users_schema_arn)\n",
    "except Exception as e:\n",
    "    schema = {\n",
    "        \"type\": \"record\",\n",
    "        \"name\": \"Users\",\n",
    "        \"namespace\": \"com.amazonaws.personalize.schema\",\n",
    "        \"fields\": [\n",
    "            {\n",
    "                \"name\": \"USER_ID\",\n",
    "                \"type\": \"string\"\n",
    "            },\n",
    "            {\n",
    "                \"name\": \"AGE\",\n",
    "                \"type\": \"int\"\n",
    "            },\n",
    "            {\n",
    "                \"name\": \"GENDER\",\n",
    "                \"type\": \"string\",\n",
    "                \"categorical\": True\n",
    "            },\n",
    "            {\n",
    "                \"name\": \"LOCATION\",\n",
    "                \"type\": \"string\",\n",
    "                \"categorical\": True\n",
    "            },\n",
    "            {\n",
    "                \"name\": \"SALARY\",\n",
    "                \"type\": \"int\"\n",
    "            }\n",
    "        ],\n",
    "        \"version\": \"1.0\"\n",
    "    }\n",
    "\n",
    "    create_schema_response = personalize.create_schema(\n",
    "        name   = CAR_USER_SCHEMA_NAME,\n",
    "        schema = json.dumps(schema)\n",
    "    )\n",
    "\n",
    "    users_schema_arn = create_schema_response['schemaArn']\n",
    "    print(json.dumps(create_schema_response, indent=2))"
   ]
  },
  {
   "cell_type": "markdown",
   "metadata": {},
   "source": [
    "## Create a dataset group and the datasets within it\n",
    "First delete the datasets and dataset group if they already exist. Then create the dataset\n",
    "group."
   ]
  },
  {
   "cell_type": "code",
   "execution_count": 111,
   "metadata": {},
   "outputs": [
    {
     "name": "stdout",
     "output_type": "stream",
     "text": [
      "Waiting for datasets to be deleted...\n",
      "Waiting for dataset group to be deleted...\n",
      "{\n",
      "  \"datasetGroupArn\": \"arn:aws:personalize:us-east-1:355151823911:dataset-group/car-dg10\",\n",
      "  \"ResponseMetadata\": {\n",
      "    \"RequestId\": \"f57ad424-850b-4d8c-953b-59e99500f885\",\n",
      "    \"HTTPStatusCode\": 200,\n",
      "    \"HTTPHeaders\": {\n",
      "      \"content-type\": \"application/x-amz-json-1.1\",\n",
      "      \"date\": \"Fri, 12 Jul 2019 05:05:06 GMT\",\n",
      "      \"x-amzn-requestid\": \"f57ad424-850b-4d8c-953b-59e99500f885\",\n",
      "      \"content-length\": \"87\",\n",
      "      \"connection\": \"keep-alive\"\n",
      "    },\n",
      "    \"RetryAttempts\": 0\n",
      "  }\n",
      "}\n"
     ]
    }
   ],
   "source": [
    "try:\n",
    "    personalize.delete_dataset(datasetArn='arn:aws:personalize:{}:{}:dataset/{}/EVENT_INTERACTIONS'.format(region, account_num, dataset_group_name))\n",
    "    personalize.delete_dataset(datasetArn='arn:aws:personalize:{}:{}:dataset/{}/INTERACTIONS'.format(region, account_num, dataset_group_name))\n",
    "    personalize.delete_dataset(datasetArn='arn:aws:personalize:{}:{}:dataset/{}/ITEMS'.format(region, account_num, dataset_group_name))\n",
    "    personalize.delete_dataset(datasetArn='arn:aws:personalize:{}:{}:dataset/{}/USERS'.format(region, account_num, dataset_group_name))\n",
    "except Exception as e:\n",
    "    pass\n",
    "\n",
    "print('Waiting for datasets to be deleted...')\n",
    "time.sleep(30)\n",
    "\n",
    "try:\n",
    "    personalize.delete_dataset_group(datasetGroupArn='arn:aws:personalize:{}:{}:dataset-group/{}'.format(region, account_num, dataset_group_name))\n",
    "except Exception as e:\n",
    "    pass\n",
    "        \n",
    "print('Waiting for dataset group to be deleted...')\n",
    "time.sleep(30)\n",
    "\n",
    "print('Creating new dataset group {}'.format(dataset_group_name))\n",
    "create_dataset_group_response = personalize.create_dataset_group(\n",
    "    name = dataset_group_name\n",
    ")\n",
    "\n",
    "dataset_group_arn = create_dataset_group_response['datasetGroupArn']\n",
    "print(json.dumps(create_dataset_group_response, indent=2))"
   ]
  },
  {
   "cell_type": "code",
   "execution_count": 112,
   "metadata": {},
   "outputs": [
    {
     "name": "stdout",
     "output_type": "stream",
     "text": [
      "DatasetGroup: CREATE PENDING\n",
      "DatasetGroup: ACTIVE\n"
     ]
    }
   ],
   "source": [
    "max_time = time.time() + MAX_WAIT_TIME\n",
    "while time.time() < max_time:\n",
    "    describe_dataset_group_response = personalize.describe_dataset_group(\n",
    "        datasetGroupArn = dataset_group_arn\n",
    "    )\n",
    "    status = describe_dataset_group_response['datasetGroup']['status']\n",
    "    print('DatasetGroup: {}'.format(status))\n",
    "    \n",
    "    if status == 'ACTIVE' or status == 'CREATE FAILED':\n",
    "        break\n",
    "        \n",
    "    time.sleep(60)"
   ]
  },
  {
   "cell_type": "markdown",
   "metadata": {},
   "source": [
    "### Create the INTERACTIONS dataset"
   ]
  },
  {
   "cell_type": "code",
   "execution_count": 113,
   "metadata": {},
   "outputs": [
    {
     "name": "stdout",
     "output_type": "stream",
     "text": [
      "{\n",
      "  \"datasetArn\": \"arn:aws:personalize:us-east-1:355151823911:dataset/car-dg10/INTERACTIONS\",\n",
      "  \"ResponseMetadata\": {\n",
      "    \"RequestId\": \"ac8eac19-0563-47a6-8976-10b5a88962d5\",\n",
      "    \"HTTPStatusCode\": 200,\n",
      "    \"HTTPHeaders\": {\n",
      "      \"content-type\": \"application/x-amz-json-1.1\",\n",
      "      \"date\": \"Fri, 12 Jul 2019 05:06:06 GMT\",\n",
      "      \"x-amzn-requestid\": \"ac8eac19-0563-47a6-8976-10b5a88962d5\",\n",
      "      \"content-length\": \"89\",\n",
      "      \"connection\": \"keep-alive\"\n",
      "    },\n",
      "    \"RetryAttempts\": 0\n",
      "  }\n",
      "}\n"
     ]
    }
   ],
   "source": [
    "dataset_type = 'INTERACTIONS'\n",
    "create_dataset_response = personalize.create_dataset(\n",
    "    name = 'car-interactions',\n",
    "    datasetType = dataset_type,\n",
    "    datasetGroupArn = dataset_group_arn,\n",
    "    schemaArn = interactions_schema_arn\n",
    ")\n",
    "\n",
    "interactions_dataset_arn = create_dataset_response['datasetArn']\n",
    "print(json.dumps(create_dataset_response, indent=2))"
   ]
  },
  {
   "cell_type": "code",
   "execution_count": 114,
   "metadata": {},
   "outputs": [
    {
     "name": "stdout",
     "output_type": "stream",
     "text": [
      "arn:aws:personalize:us-east-1:355151823911:schema/car-items-schema-v10\n",
      "arn:aws:personalize:us-east-1:355151823911:dataset-group/car-dg10\n"
     ]
    }
   ],
   "source": [
    "print(items_schema_arn)\n",
    "print(dataset_group_arn)"
   ]
  },
  {
   "cell_type": "markdown",
   "metadata": {},
   "source": [
    "### Create the ITEMS dataset"
   ]
  },
  {
   "cell_type": "code",
   "execution_count": 115,
   "metadata": {},
   "outputs": [
    {
     "name": "stdout",
     "output_type": "stream",
     "text": [
      "{\n",
      "  \"datasetArn\": \"arn:aws:personalize:us-east-1:355151823911:dataset/car-dg10/ITEMS\",\n",
      "  \"ResponseMetadata\": {\n",
      "    \"RequestId\": \"c03a026b-87c0-4c64-98e9-7e47aa83b460\",\n",
      "    \"HTTPStatusCode\": 200,\n",
      "    \"HTTPHeaders\": {\n",
      "      \"content-type\": \"application/x-amz-json-1.1\",\n",
      "      \"date\": \"Fri, 12 Jul 2019 05:06:06 GMT\",\n",
      "      \"x-amzn-requestid\": \"c03a026b-87c0-4c64-98e9-7e47aa83b460\",\n",
      "      \"content-length\": \"82\",\n",
      "      \"connection\": \"keep-alive\"\n",
      "    },\n",
      "    \"RetryAttempts\": 0\n",
      "  }\n",
      "}\n"
     ]
    }
   ],
   "source": [
    "dataset_type = 'ITEMS'\n",
    "create_dataset_response = personalize.create_dataset(\n",
    "    name = 'car-items',\n",
    "    datasetType = dataset_type,\n",
    "    datasetGroupArn = dataset_group_arn,\n",
    "    schemaArn = items_schema_arn\n",
    ")\n",
    "\n",
    "items_dataset_arn = create_dataset_response['datasetArn']\n",
    "print(json.dumps(create_dataset_response, indent=2))"
   ]
  },
  {
   "cell_type": "markdown",
   "metadata": {},
   "source": [
    "### Create the USERS dataset"
   ]
  },
  {
   "cell_type": "code",
   "execution_count": 116,
   "metadata": {},
   "outputs": [
    {
     "name": "stdout",
     "output_type": "stream",
     "text": [
      "{\n",
      "  \"datasetArn\": \"arn:aws:personalize:us-east-1:355151823911:dataset/car-dg10/USERS\",\n",
      "  \"ResponseMetadata\": {\n",
      "    \"RequestId\": \"8ef9da8b-69a4-454f-9824-0c48ba51e032\",\n",
      "    \"HTTPStatusCode\": 200,\n",
      "    \"HTTPHeaders\": {\n",
      "      \"content-type\": \"application/x-amz-json-1.1\",\n",
      "      \"date\": \"Fri, 12 Jul 2019 05:06:06 GMT\",\n",
      "      \"x-amzn-requestid\": \"8ef9da8b-69a4-454f-9824-0c48ba51e032\",\n",
      "      \"content-length\": \"82\",\n",
      "      \"connection\": \"keep-alive\"\n",
      "    },\n",
      "    \"RetryAttempts\": 0\n",
      "  }\n",
      "}\n"
     ]
    }
   ],
   "source": [
    "dataset_type = 'USERS'\n",
    "create_dataset_response = personalize.create_dataset(\n",
    "    name = 'car-users',\n",
    "    datasetType = dataset_type,\n",
    "    datasetGroupArn = dataset_group_arn,\n",
    "    schemaArn = users_schema_arn\n",
    ")\n",
    "\n",
    "users_dataset_arn = create_dataset_response['datasetArn']\n",
    "print(json.dumps(create_dataset_response, indent=2))"
   ]
  },
  {
   "cell_type": "markdown",
   "metadata": {},
   "source": [
    "## Create an import job for each of the datasets"
   ]
  },
  {
   "cell_type": "code",
   "execution_count": 117,
   "metadata": {},
   "outputs": [
    {
     "name": "stdout",
     "output_type": "stream",
     "text": [
      "{\n",
      "  \"datasetImportJobArn\": \"arn:aws:personalize:us-east-1:355151823911:dataset-import-job/car-dg10-car-interactions-import\",\n",
      "  \"ResponseMetadata\": {\n",
      "    \"RequestId\": \"052c2e46-8eff-4bbd-aa0d-b03703f1fe8c\",\n",
      "    \"HTTPStatusCode\": 200,\n",
      "    \"HTTPHeaders\": {\n",
      "      \"content-type\": \"application/x-amz-json-1.1\",\n",
      "      \"date\": \"Fri, 12 Jul 2019 05:06:06 GMT\",\n",
      "      \"x-amzn-requestid\": \"052c2e46-8eff-4bbd-aa0d-b03703f1fe8c\",\n",
      "      \"content-length\": \"120\",\n",
      "      \"connection\": \"keep-alive\"\n",
      "    },\n",
      "    \"RetryAttempts\": 0\n",
      "  }\n",
      "}\n"
     ]
    }
   ],
   "source": [
    "create_dataset_import_job_response = personalize.create_dataset_import_job(\n",
    "    jobName = '{}-car-interactions-import'.format(dataset_group_name),\n",
    "    datasetArn = interactions_dataset_arn,\n",
    "    dataSource = {\n",
    "        \"dataLocation\": \"s3://{}/{}/{}\".format(bucket, prefix, interactions_filename)\n",
    "    },\n",
    "    roleArn = role_arn\n",
    ")\n",
    "\n",
    "interactions_dataset_import_job_arn = create_dataset_import_job_response['datasetImportJobArn']\n",
    "print(json.dumps(create_dataset_import_job_response, indent=2))"
   ]
  },
  {
   "cell_type": "code",
   "execution_count": 118,
   "metadata": {},
   "outputs": [
    {
     "name": "stdout",
     "output_type": "stream",
     "text": [
      "{\n",
      "  \"datasetImportJobArn\": \"arn:aws:personalize:us-east-1:355151823911:dataset-import-job/car-dg10-car-items-import\",\n",
      "  \"ResponseMetadata\": {\n",
      "    \"RequestId\": \"084f0e1d-f773-49e5-bf8d-1c1e9bfa81c8\",\n",
      "    \"HTTPStatusCode\": 200,\n",
      "    \"HTTPHeaders\": {\n",
      "      \"content-type\": \"application/x-amz-json-1.1\",\n",
      "      \"date\": \"Fri, 12 Jul 2019 05:06:06 GMT\",\n",
      "      \"x-amzn-requestid\": \"084f0e1d-f773-49e5-bf8d-1c1e9bfa81c8\",\n",
      "      \"content-length\": \"113\",\n",
      "      \"connection\": \"keep-alive\"\n",
      "    },\n",
      "    \"RetryAttempts\": 0\n",
      "  }\n",
      "}\n"
     ]
    }
   ],
   "source": [
    "create_dataset_import_job_response = personalize.create_dataset_import_job(\n",
    "    jobName = '{}-car-items-import'.format(dataset_group_name),\n",
    "    datasetArn = items_dataset_arn,\n",
    "    dataSource = {\n",
    "        'dataLocation': 's3://{}/{}/{}'.format(bucket, prefix, cars_filename)\n",
    "    },\n",
    "    roleArn = role_arn\n",
    ")\n",
    "\n",
    "items_dataset_import_job_arn = create_dataset_import_job_response['datasetImportJobArn']\n",
    "print(json.dumps(create_dataset_import_job_response, indent=2))"
   ]
  },
  {
   "cell_type": "code",
   "execution_count": 119,
   "metadata": {},
   "outputs": [
    {
     "name": "stdout",
     "output_type": "stream",
     "text": [
      "{\n",
      "  \"datasetImportJobArn\": \"arn:aws:personalize:us-east-1:355151823911:dataset-import-job/car-dg10-car-users-import\",\n",
      "  \"ResponseMetadata\": {\n",
      "    \"RequestId\": \"6610e260-d247-44a5-961e-b9fc0513df63\",\n",
      "    \"HTTPStatusCode\": 200,\n",
      "    \"HTTPHeaders\": {\n",
      "      \"content-type\": \"application/x-amz-json-1.1\",\n",
      "      \"date\": \"Fri, 12 Jul 2019 05:06:06 GMT\",\n",
      "      \"x-amzn-requestid\": \"6610e260-d247-44a5-961e-b9fc0513df63\",\n",
      "      \"content-length\": \"113\",\n",
      "      \"connection\": \"keep-alive\"\n",
      "    },\n",
      "    \"RetryAttempts\": 0\n",
      "  }\n",
      "}\n"
     ]
    }
   ],
   "source": [
    "create_dataset_import_job_response = personalize.create_dataset_import_job(\n",
    "    jobName = '{}-car-users-import'.format(dataset_group_name),\n",
    "    datasetArn = users_dataset_arn,\n",
    "    dataSource = {\n",
    "        'dataLocation': 's3://{}/{}/{}'.format(bucket, prefix, users_filename)\n",
    "    },\n",
    "    roleArn = role_arn\n",
    ")\n",
    "\n",
    "users_dataset_import_job_arn = create_dataset_import_job_response['datasetImportJobArn']\n",
    "print(json.dumps(create_dataset_import_job_response, indent=2))"
   ]
  },
  {
   "cell_type": "markdown",
   "metadata": {},
   "source": [
    "### Wait for the dataset import jobs to complete"
   ]
  },
  {
   "cell_type": "code",
   "execution_count": 120,
   "metadata": {},
   "outputs": [
    {
     "name": "stdout",
     "output_type": "stream",
     "text": [
      "DatasetImportJob: CREATE PENDING\n",
      "DatasetImportJob: CREATE IN_PROGRESS\n",
      "DatasetImportJob: CREATE IN_PROGRESS\n",
      "DatasetImportJob: CREATE IN_PROGRESS\n",
      "DatasetImportJob: CREATE IN_PROGRESS\n",
      "DatasetImportJob: CREATE IN_PROGRESS\n",
      "DatasetImportJob: CREATE IN_PROGRESS\n",
      "DatasetImportJob: CREATE IN_PROGRESS\n",
      "DatasetImportJob: CREATE IN_PROGRESS\n",
      "DatasetImportJob: CREATE IN_PROGRESS\n",
      "DatasetImportJob: CREATE IN_PROGRESS\n",
      "DatasetImportJob: CREATE IN_PROGRESS\n",
      "DatasetImportJob: CREATE IN_PROGRESS\n",
      "DatasetImportJob: ACTIVE\n"
     ]
    }
   ],
   "source": [
    "max_time = time.time() + MAX_WAIT_TIME\n",
    "while time.time() < max_time:\n",
    "    describe_dataset_import_job_response = personalize.describe_dataset_import_job(\n",
    "        datasetImportJobArn = items_dataset_import_job_arn\n",
    "    )\n",
    "    status = describe_dataset_import_job_response['datasetImportJob']['status']\n",
    "    print('DatasetImportJob: {}'.format(status))\n",
    "    \n",
    "    if status == 'ACTIVE' or status == 'CREATE FAILED':\n",
    "        break\n",
    "        \n",
    "    time.sleep(60)\n",
    "    if status == 'ACTIVE':\n",
    "        print('ITEMS dataset is ACTIVE.')"
   ]
  },
  {
   "cell_type": "code",
   "execution_count": 121,
   "metadata": {},
   "outputs": [
    {
     "name": "stdout",
     "output_type": "stream",
     "text": [
      "DatasetImportJob: ACTIVE\n"
     ]
    }
   ],
   "source": [
    "max_time = time.time() + MAX_WAIT_TIME\n",
    "while time.time() < max_time:\n",
    "    describe_dataset_import_job_response = personalize.describe_dataset_import_job(\n",
    "        datasetImportJobArn = users_dataset_import_job_arn\n",
    "    )\n",
    "    status = describe_dataset_import_job_response['datasetImportJob']['status']\n",
    "    print('DatasetImportJob: {}'.format(status))\n",
    "    \n",
    "    if status == 'ACTIVE' or status == 'CREATE FAILED':\n",
    "        break\n",
    "        \n",
    "    time.sleep(60)\n",
    "        if status == 'ACTIVE':\n",
    "        print('USERS dataset is ACTIVE.')"
   ]
  },
  {
   "cell_type": "code",
   "execution_count": 123,
   "metadata": {},
   "outputs": [
    {
     "name": "stdout",
     "output_type": "stream",
     "text": [
      "DatasetImportJob: CREATE IN_PROGRESS\n",
      "DatasetImportJob: CREATE IN_PROGRESS\n",
      "DatasetImportJob: CREATE IN_PROGRESS\n",
      "DatasetImportJob: CREATE IN_PROGRESS\n",
      "DatasetImportJob: ACTIVE\n"
     ]
    }
   ],
   "source": [
    "max_time = time.time() + MAX_WAIT_TIME\n",
    "while time.time() < max_time:\n",
    "    describe_dataset_import_job_response = personalize.describe_dataset_import_job(\n",
    "        datasetImportJobArn = interactions_dataset_import_job_arn\n",
    "    )\n",
    "    status = describe_dataset_import_job_response['datasetImportJob']['status']\n",
    "    print('DatasetImportJob: {}'.format(status))\n",
    "    \n",
    "    if status == 'ACTIVE' or status == 'CREATE FAILED':\n",
    "        break\n",
    "        \n",
    "    time.sleep(60)\n",
    "    if status == 'ACTIVE':\n",
    "        print('INTERACTIONS dataset is ACTIVE.')"
   ]
  },
  {
   "cell_type": "code",
   "execution_count": null,
   "metadata": {},
   "outputs": [],
   "source": []
  }
 ],
 "metadata": {
  "kernelspec": {
   "display_name": "conda_python3",
   "language": "python",
   "name": "conda_python3"
  },
  "language_info": {
   "codemirror_mode": {
    "name": "ipython",
    "version": 3
   },
   "file_extension": ".py",
   "mimetype": "text/x-python",
   "name": "python",
   "nbconvert_exporter": "python",
   "pygments_lexer": "ipython3",
   "version": "3.6.5"
  }
 },
 "nbformat": 4,
 "nbformat_minor": 2
}
