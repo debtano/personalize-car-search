{
 "cells": [
  {
   "cell_type": "markdown",
   "metadata": {},
   "source": [
    "# Make user, item, and interaction datasets\n",
    "This notebook creates the official Amazon Personalize dataset resources for the\n",
    "car search recommendations demo."
   ]
  },
  {
   "cell_type": "code",
   "execution_count": 76,
   "metadata": {},
   "outputs": [],
   "source": [
    "import json\n",
    "import boto3\n",
    "import time\n",
    "\n",
    "cars_filename         = 'car_items.csv'\n",
    "users_filename        = 'users.csv'\n",
    "interactions_filename = 'interactions.csv'\n",
    "\n",
    "dataset_group_name = 'car-dg10'\n",
    "\n",
    "schema_version = 'v10'\n",
    "\n",
    "bucket   = 'roymark-aws-ml'\n",
    "prefix   = 'personalize/' + schema_version\n",
    "\n",
    "MAX_WAIT_TIME = time.time() + 60*60 # 1 hour\n",
    "\n",
    "role_arn = 'arn:aws:iam::355151823911:role/PersonalizeS3Role'\n",
    "\n",
    "CAR_INTERACTION_SCHEMA_NAME = 'car-interactions-schema-' + schema_version\n",
    "CAR_INTERACTION_SCHEMA_ARN  = 'arn:aws:personalize:us-east-1:355151823911:schema/' + \\\n",
    "                                CAR_INTERACTION_SCHEMA_NAME\n",
    "    \n",
    "CAR_ITEM_SCHEMA_NAME = 'car-items-schema-' + schema_version\n",
    "CAR_ITEM_SCHEMA_ARN  = 'arn:aws:personalize:us-east-1:355151823911:schema/' + \\\n",
    "                                CAR_ITEM_SCHEMA_NAME\n",
    "\n",
    "CAR_USER_SCHEMA_NAME = 'car-users-schema-' + schema_version\n",
    "CAR_USER_SCHEMA_ARN  = 'arn:aws:personalize:us-east-1:355151823911:schema/' + \\\n",
    "                                CAR_USER_SCHEMA_NAME"
   ]
  },
  {
   "cell_type": "code",
   "execution_count": 77,
   "metadata": {},
   "outputs": [],
   "source": [
    "personalize = boto3.client('personalize')\n",
    "personalize_runtime = boto3.client('personalize-runtime')"
   ]
  },
  {
   "cell_type": "code",
   "execution_count": 78,
   "metadata": {},
   "outputs": [
    {
     "name": "stdout",
     "output_type": "stream",
     "text": [
      "An error occurred (ResourceNotFoundException) when calling the DescribeSchema operation: Resource Arn arn:aws:personalize:us-east-1:355151823911:schema/car-interactions-schema-v10 does not exist.\n",
      "Schema arn:aws:personalize:us-east-1:355151823911:schema/car-interactions-schema-v10 did not exist, creating it...\n",
      "{\n",
      "  \"schemaArn\": \"arn:aws:personalize:us-east-1:355151823911:schema/car-interactions-schema-v10\",\n",
      "  \"ResponseMetadata\": {\n",
      "    \"RequestId\": \"cfc74463-a8a6-43e6-9e50-0535ae302090\",\n",
      "    \"HTTPStatusCode\": 200,\n",
      "    \"HTTPHeaders\": {\n",
      "      \"content-type\": \"application/x-amz-json-1.1\",\n",
      "      \"date\": \"Thu, 11 Jul 2019 14:44:24 GMT\",\n",
      "      \"x-amzn-requestid\": \"cfc74463-a8a6-43e6-9e50-0535ae302090\",\n",
      "      \"content-length\": \"93\",\n",
      "      \"connection\": \"keep-alive\"\n",
      "    },\n",
      "    \"RetryAttempts\": 0\n",
      "  }\n",
      "}\n"
     ]
    }
   ],
   "source": [
    "try:\n",
    "    # first see if the schema is already in place\n",
    "    arn = CAR_INTERACTION_SCHEMA_ARN\n",
    "    response = personalize.describe_schema(schemaArn=arn)\n",
    "    interactions_schema_arn = response['schema']['schemaArn']\n",
    "    print(interactions_schema_arn)\n",
    "except Exception as e:\n",
    "    print('Schema {} did not exist, creating it...'.format(arn))\n",
    "    schema = {\n",
    "        \"type\": \"record\",\n",
    "        \"name\": \"Interactions\",\n",
    "        \"namespace\": \"com.amazonaws.personalize.schema\",\n",
    "        \"fields\": [\n",
    "            {\n",
    "                \"name\": \"USER_ID\",\n",
    "                \"type\": \"string\"\n",
    "            },\n",
    "            {\n",
    "                \"name\": \"ITEM_ID\",\n",
    "                \"type\": \"string\"\n",
    "            },\n",
    "            {\n",
    "                \"name\": \"TIMESTAMP\",\n",
    "                \"type\": \"long\"\n",
    "            }\n",
    "        ],\n",
    "        \"version\": \"1.0\"\n",
    "    }\n",
    "\n",
    "    create_schema_response = personalize.create_schema(\n",
    "        name   = CAR_INTERACTION_SCHEMA_NAME,\n",
    "        schema = json.dumps(schema)\n",
    "    )\n",
    "\n",
    "    interactions_schema_arn = create_schema_response['schemaArn']\n",
    "    print(json.dumps(create_schema_response, indent=2))"
   ]
  },
  {
   "cell_type": "code",
   "execution_count": 79,
   "metadata": {},
   "outputs": [
    {
     "name": "stdout",
     "output_type": "stream",
     "text": [
      "schema not found, creating new...\n",
      "{\n",
      "  \"schemaArn\": \"arn:aws:personalize:us-east-1:355151823911:schema/car-items-schema-v10\",\n",
      "  \"ResponseMetadata\": {\n",
      "    \"RequestId\": \"8b9a7077-0e89-4eb3-9092-b821db8a4557\",\n",
      "    \"HTTPStatusCode\": 200,\n",
      "    \"HTTPHeaders\": {\n",
      "      \"content-type\": \"application/x-amz-json-1.1\",\n",
      "      \"date\": \"Thu, 11 Jul 2019 14:44:24 GMT\",\n",
      "      \"x-amzn-requestid\": \"8b9a7077-0e89-4eb3-9092-b821db8a4557\",\n",
      "      \"content-length\": \"86\",\n",
      "      \"connection\": \"keep-alive\"\n",
      "    },\n",
      "    \"RetryAttempts\": 0\n",
      "  }\n",
      "}\n"
     ]
    }
   ],
   "source": [
    "try:\n",
    "    arn = CAR_ITEM_SCHEMA_ARN\n",
    "    response = personalize.describe_schema(schemaArn=arn)\n",
    "    items_schema_arn = response['schema']['schemaArn']\n",
    "    print(items_schema_arn)\n",
    "except Exception as e:\n",
    "    print('schema not found, creating new...')\n",
    "    schema = {\n",
    "        \"type\": \"record\",\n",
    "        \"name\": \"Items\",\n",
    "        \"namespace\": \"com.amazonaws.personalize.schema\",\n",
    "        \"fields\": [\n",
    "            {\n",
    "                \"name\": \"ITEM_ID\",\n",
    "                \"type\": \"string\"\n",
    "            },\n",
    "            {\n",
    "                \"name\": \"MAKE\",\n",
    "                \"type\": \"string\",\n",
    "                \"categorical\": True\n",
    "            },\n",
    "            {\n",
    "                \"name\": \"MODEL\",\n",
    "                \"type\": \"string\",\n",
    "                \"categorical\": True\n",
    "            },\n",
    "            {\n",
    "                \"name\": \"YEAR\",\n",
    "                \"type\": \"int\"\n",
    "            },\n",
    "            {\n",
    "                \"name\": \"MILEAGE\",\n",
    "                \"type\": \"int\"\n",
    "            },\n",
    "            {\n",
    "                \"name\": \"PRICE\",\n",
    "                \"type\": \"int\"\n",
    "            }\n",
    "            #,\n",
    "#            {\n",
    "#                \"name\": \"COLOR\",\n",
    "#                \"type\": \"string\",\n",
    "#                \"categorical\": True\n",
    "#            }#,  Max of 5 metadata columns is the Personalize limit for now\n",
    "    #        {\n",
    "    #            \"name\": \"LOCATION\",\n",
    "    #            \"type\": \"string\",\n",
    "    #            \"categorical\": True\n",
    "    #        }\n",
    "        ],\n",
    "        \"version\": \"1.0\"\n",
    "    }\n",
    "\n",
    "    create_schema_response = personalize.create_schema(\n",
    "        name   = CAR_ITEM_SCHEMA_NAME,\n",
    "        schema = json.dumps(schema)\n",
    "    )\n",
    "\n",
    "    items_schema_arn = create_schema_response['schemaArn']\n",
    "    print(json.dumps(create_schema_response, indent=2))"
   ]
  },
  {
   "cell_type": "code",
   "execution_count": 80,
   "metadata": {},
   "outputs": [
    {
     "name": "stdout",
     "output_type": "stream",
     "text": [
      "{\n",
      "  \"schemaArn\": \"arn:aws:personalize:us-east-1:355151823911:schema/car-users-schema-v10\",\n",
      "  \"ResponseMetadata\": {\n",
      "    \"RequestId\": \"1af7e932-895c-4e0c-9da2-43752b60d7c0\",\n",
      "    \"HTTPStatusCode\": 200,\n",
      "    \"HTTPHeaders\": {\n",
      "      \"content-type\": \"application/x-amz-json-1.1\",\n",
      "      \"date\": \"Thu, 11 Jul 2019 14:44:23 GMT\",\n",
      "      \"x-amzn-requestid\": \"1af7e932-895c-4e0c-9da2-43752b60d7c0\",\n",
      "      \"content-length\": \"86\",\n",
      "      \"connection\": \"keep-alive\"\n",
      "    },\n",
      "    \"RetryAttempts\": 0\n",
      "  }\n",
      "}\n"
     ]
    }
   ],
   "source": [
    "try:\n",
    "    arn = CAR_USER_SCHEMA_ARN\n",
    "    response = personalize.describe_schema(schemaArn=arn)\n",
    "    users_schema_arn = response['schema']['schemaArn']\n",
    "    print(users_schema_arn)\n",
    "except Exception as e:\n",
    "    schema = {\n",
    "        \"type\": \"record\",\n",
    "        \"name\": \"Users\",\n",
    "        \"namespace\": \"com.amazonaws.personalize.schema\",\n",
    "        \"fields\": [\n",
    "            {\n",
    "                \"name\": \"USER_ID\",\n",
    "                \"type\": \"string\"\n",
    "            },\n",
    "            {\n",
    "                \"name\": \"AGE\",\n",
    "                \"type\": \"int\"\n",
    "            },\n",
    "            {\n",
    "                \"name\": \"GENDER\",\n",
    "                \"type\": \"string\",\n",
    "                \"categorical\": True\n",
    "            },\n",
    "            {\n",
    "                \"name\": \"LOCATION\",\n",
    "                \"type\": \"string\",\n",
    "                \"categorical\": True\n",
    "            },\n",
    "            {\n",
    "                \"name\": \"SALARY\",\n",
    "                \"type\": \"int\"\n",
    "            }\n",
    "        ],\n",
    "        \"version\": \"1.0\"\n",
    "    }\n",
    "\n",
    "    create_schema_response = personalize.create_schema(\n",
    "        name   = CAR_USER_SCHEMA_NAME,\n",
    "        schema = json.dumps(schema)\n",
    "    )\n",
    "\n",
    "    users_schema_arn = create_schema_response['schemaArn']\n",
    "    print(json.dumps(create_schema_response, indent=2))"
   ]
  },
  {
   "cell_type": "code",
   "execution_count": 82,
   "metadata": {},
   "outputs": [
    {
     "name": "stdout",
     "output_type": "stream",
     "text": [
      "Waiting for dataset group to be created...\n",
      "{\n",
      "  \"datasetGroupArn\": \"arn:aws:personalize:us-east-1:355151823911:dataset-group/car-dg10\",\n",
      "  \"ResponseMetadata\": {\n",
      "    \"RequestId\": \"8d8d65fa-2ff2-4d8a-9f92-b23a743f070e\",\n",
      "    \"HTTPStatusCode\": 200,\n",
      "    \"HTTPHeaders\": {\n",
      "      \"content-type\": \"application/x-amz-json-1.1\",\n",
      "      \"date\": \"Thu, 11 Jul 2019 14:46:49 GMT\",\n",
      "      \"x-amzn-requestid\": \"8d8d65fa-2ff2-4d8a-9f92-b23a743f070e\",\n",
      "      \"content-length\": \"87\",\n",
      "      \"connection\": \"keep-alive\"\n",
      "    },\n",
      "    \"RetryAttempts\": 0\n",
      "  }\n",
      "}\n"
     ]
    }
   ],
   "source": [
    "try:\n",
    "    personalize.delete_dataset(datasetArn='arn:aws:personalize:us-east-1:355151823911:dataset/{}/INTERACTIONS'.format(dataset_group_name))\n",
    "except Exception as e:\n",
    "    pass\n",
    "    \n",
    "try:\n",
    "    personalize.delete_dataset(datasetArn='arn:aws:personalize:us-east-1:355151823911:dataset/{}/ITEMS'.format(dataset_group_name))\n",
    "except Exception as e:\n",
    "    pass\n",
    "\n",
    "try:\n",
    "    personalize.delete_dataset(datasetArn='arn:aws:personalize:us-east-1:355151823911:dataset/{}/USERS'.format(dataset_group_name))\n",
    "except Exception as e:\n",
    "    pass\n",
    "\n",
    "try:\n",
    "    personalize.delete_dataset_group(datasetGroupArn='arn:aws:personalize:us-east-1:355151823911:dataset-group/{}'.format(dataset_group_name))\n",
    "except Exception as e:\n",
    "    pass\n",
    "\n",
    "print('Waiting for dataset group to be created...')\n",
    "time.sleep(30)\n",
    "        \n",
    "create_dataset_group_response = personalize.create_dataset_group(\n",
    "    name = dataset_group_name\n",
    ")\n",
    "\n",
    "dataset_group_arn = create_dataset_group_response['datasetGroupArn']\n",
    "print(json.dumps(create_dataset_group_response, indent=2))"
   ]
  },
  {
   "cell_type": "code",
   "execution_count": 83,
   "metadata": {},
   "outputs": [
    {
     "name": "stdout",
     "output_type": "stream",
     "text": [
      "DatasetGroup: CREATE PENDING\n",
      "DatasetGroup: ACTIVE\n"
     ]
    }
   ],
   "source": [
    "max_time = time.time() + MAX_WAIT_TIME\n",
    "while time.time() < max_time:\n",
    "    describe_dataset_group_response = personalize.describe_dataset_group(\n",
    "        datasetGroupArn = dataset_group_arn\n",
    "    )\n",
    "    status = describe_dataset_group_response['datasetGroup']['status']\n",
    "    print('DatasetGroup: {}'.format(status))\n",
    "    \n",
    "    if status == 'ACTIVE' or status == 'CREATE FAILED':\n",
    "        break\n",
    "        \n",
    "    time.sleep(60)"
   ]
  },
  {
   "cell_type": "code",
   "execution_count": 84,
   "metadata": {},
   "outputs": [
    {
     "name": "stdout",
     "output_type": "stream",
     "text": [
      "{\n",
      "  \"datasetArn\": \"arn:aws:personalize:us-east-1:355151823911:dataset/car-dg10/INTERACTIONS\",\n",
      "  \"ResponseMetadata\": {\n",
      "    \"RequestId\": \"ec4c84b2-e1b8-494d-8256-88a01ac95634\",\n",
      "    \"HTTPStatusCode\": 200,\n",
      "    \"HTTPHeaders\": {\n",
      "      \"content-type\": \"application/x-amz-json-1.1\",\n",
      "      \"date\": \"Thu, 11 Jul 2019 14:47:49 GMT\",\n",
      "      \"x-amzn-requestid\": \"ec4c84b2-e1b8-494d-8256-88a01ac95634\",\n",
      "      \"content-length\": \"89\",\n",
      "      \"connection\": \"keep-alive\"\n",
      "    },\n",
      "    \"RetryAttempts\": 0\n",
      "  }\n",
      "}\n"
     ]
    }
   ],
   "source": [
    "dataset_type = 'INTERACTIONS'\n",
    "create_dataset_response = personalize.create_dataset(\n",
    "    name = 'car-interactions',\n",
    "    datasetType = dataset_type,\n",
    "    datasetGroupArn = dataset_group_arn,\n",
    "    schemaArn = interactions_schema_arn\n",
    ")\n",
    "\n",
    "interactions_dataset_arn = create_dataset_response['datasetArn']\n",
    "print(json.dumps(create_dataset_response, indent=2))"
   ]
  },
  {
   "cell_type": "code",
   "execution_count": 85,
   "metadata": {},
   "outputs": [
    {
     "name": "stdout",
     "output_type": "stream",
     "text": [
      "arn:aws:personalize:us-east-1:355151823911:schema/car-items-schema-v10\n",
      "arn:aws:personalize:us-east-1:355151823911:dataset-group/car-dg10\n"
     ]
    }
   ],
   "source": [
    "print(items_schema_arn)\n",
    "print(dataset_group_arn)"
   ]
  },
  {
   "cell_type": "code",
   "execution_count": 86,
   "metadata": {},
   "outputs": [
    {
     "name": "stdout",
     "output_type": "stream",
     "text": [
      "{\n",
      "  \"datasetArn\": \"arn:aws:personalize:us-east-1:355151823911:dataset/car-dg10/ITEMS\",\n",
      "  \"ResponseMetadata\": {\n",
      "    \"RequestId\": \"68c9ccad-fc66-4bba-a35c-ce1103d84e2b\",\n",
      "    \"HTTPStatusCode\": 200,\n",
      "    \"HTTPHeaders\": {\n",
      "      \"content-type\": \"application/x-amz-json-1.1\",\n",
      "      \"date\": \"Thu, 11 Jul 2019 14:47:48 GMT\",\n",
      "      \"x-amzn-requestid\": \"68c9ccad-fc66-4bba-a35c-ce1103d84e2b\",\n",
      "      \"content-length\": \"82\",\n",
      "      \"connection\": \"keep-alive\"\n",
      "    },\n",
      "    \"RetryAttempts\": 0\n",
      "  }\n",
      "}\n"
     ]
    }
   ],
   "source": [
    "dataset_type = 'ITEMS'\n",
    "create_dataset_response = personalize.create_dataset(\n",
    "    name = 'car-items',\n",
    "    datasetType = dataset_type,\n",
    "    datasetGroupArn = dataset_group_arn,\n",
    "    schemaArn = items_schema_arn\n",
    ")\n",
    "\n",
    "items_dataset_arn = create_dataset_response['datasetArn']\n",
    "print(json.dumps(create_dataset_response, indent=2))"
   ]
  },
  {
   "cell_type": "code",
   "execution_count": 87,
   "metadata": {},
   "outputs": [
    {
     "name": "stdout",
     "output_type": "stream",
     "text": [
      "{\n",
      "  \"datasetArn\": \"arn:aws:personalize:us-east-1:355151823911:dataset/car-dg10/USERS\",\n",
      "  \"ResponseMetadata\": {\n",
      "    \"RequestId\": \"b9fd0e32-2825-4df4-ad9d-57dde848c7b5\",\n",
      "    \"HTTPStatusCode\": 200,\n",
      "    \"HTTPHeaders\": {\n",
      "      \"content-type\": \"application/x-amz-json-1.1\",\n",
      "      \"date\": \"Thu, 11 Jul 2019 14:47:48 GMT\",\n",
      "      \"x-amzn-requestid\": \"b9fd0e32-2825-4df4-ad9d-57dde848c7b5\",\n",
      "      \"content-length\": \"82\",\n",
      "      \"connection\": \"keep-alive\"\n",
      "    },\n",
      "    \"RetryAttempts\": 0\n",
      "  }\n",
      "}\n"
     ]
    }
   ],
   "source": [
    "dataset_type = 'USERS'\n",
    "create_dataset_response = personalize.create_dataset(\n",
    "    name = 'car-users',\n",
    "    datasetType = dataset_type,\n",
    "    datasetGroupArn = dataset_group_arn,\n",
    "    schemaArn = users_schema_arn\n",
    ")\n",
    "\n",
    "users_dataset_arn = create_dataset_response['datasetArn']\n",
    "print(json.dumps(create_dataset_response, indent=2))"
   ]
  },
  {
   "cell_type": "code",
   "execution_count": 88,
   "metadata": {},
   "outputs": [
    {
     "name": "stdout",
     "output_type": "stream",
     "text": [
      "{\n",
      "  \"datasetImportJobArn\": \"arn:aws:personalize:us-east-1:355151823911:dataset-import-job/car-dg10-car-interactions-import\",\n",
      "  \"ResponseMetadata\": {\n",
      "    \"RequestId\": \"43cb2ca7-d9a8-4179-9ff3-26397fc7637c\",\n",
      "    \"HTTPStatusCode\": 200,\n",
      "    \"HTTPHeaders\": {\n",
      "      \"content-type\": \"application/x-amz-json-1.1\",\n",
      "      \"date\": \"Thu, 11 Jul 2019 14:47:49 GMT\",\n",
      "      \"x-amzn-requestid\": \"43cb2ca7-d9a8-4179-9ff3-26397fc7637c\",\n",
      "      \"content-length\": \"120\",\n",
      "      \"connection\": \"keep-alive\"\n",
      "    },\n",
      "    \"RetryAttempts\": 0\n",
      "  }\n",
      "}\n"
     ]
    }
   ],
   "source": [
    "create_dataset_import_job_response = personalize.create_dataset_import_job(\n",
    "    jobName = '{}-car-interactions-import'.format(dataset_group_name),\n",
    "    datasetArn = interactions_dataset_arn,\n",
    "    dataSource = {\n",
    "        \"dataLocation\": \"s3://{}/{}/{}\".format(bucket, prefix, interactions_filename)\n",
    "    },\n",
    "    roleArn = role_arn\n",
    ")\n",
    "\n",
    "interactions_dataset_import_job_arn = create_dataset_import_job_response['datasetImportJobArn']\n",
    "print(json.dumps(create_dataset_import_job_response, indent=2))"
   ]
  },
  {
   "cell_type": "code",
   "execution_count": 89,
   "metadata": {},
   "outputs": [
    {
     "name": "stdout",
     "output_type": "stream",
     "text": [
      "{\n",
      "  \"datasetImportJobArn\": \"arn:aws:personalize:us-east-1:355151823911:dataset-import-job/car-dg10-car-items-import\",\n",
      "  \"ResponseMetadata\": {\n",
      "    \"RequestId\": \"388a7e88-fd72-4dbc-baf3-62014143ec66\",\n",
      "    \"HTTPStatusCode\": 200,\n",
      "    \"HTTPHeaders\": {\n",
      "      \"content-type\": \"application/x-amz-json-1.1\",\n",
      "      \"date\": \"Thu, 11 Jul 2019 14:47:49 GMT\",\n",
      "      \"x-amzn-requestid\": \"388a7e88-fd72-4dbc-baf3-62014143ec66\",\n",
      "      \"content-length\": \"113\",\n",
      "      \"connection\": \"keep-alive\"\n",
      "    },\n",
      "    \"RetryAttempts\": 0\n",
      "  }\n",
      "}\n"
     ]
    }
   ],
   "source": [
    "create_dataset_import_job_response = personalize.create_dataset_import_job(\n",
    "    jobName = '{}-car-items-import'.format(dataset_group_name),\n",
    "    datasetArn = items_dataset_arn,\n",
    "    dataSource = {\n",
    "        'dataLocation': 's3://{}/{}/{}'.format(bucket, prefix, cars_filename)\n",
    "    },\n",
    "    roleArn = role_arn\n",
    ")\n",
    "\n",
    "items_dataset_import_job_arn = create_dataset_import_job_response['datasetImportJobArn']\n",
    "print(json.dumps(create_dataset_import_job_response, indent=2))"
   ]
  },
  {
   "cell_type": "code",
   "execution_count": 90,
   "metadata": {},
   "outputs": [
    {
     "name": "stdout",
     "output_type": "stream",
     "text": [
      "{\n",
      "  \"datasetImportJobArn\": \"arn:aws:personalize:us-east-1:355151823911:dataset-import-job/car-dg10-car-users-import\",\n",
      "  \"ResponseMetadata\": {\n",
      "    \"RequestId\": \"eacfd7a3-86a8-4d42-ad74-a353bcaf947e\",\n",
      "    \"HTTPStatusCode\": 200,\n",
      "    \"HTTPHeaders\": {\n",
      "      \"content-type\": \"application/x-amz-json-1.1\",\n",
      "      \"date\": \"Thu, 11 Jul 2019 14:47:50 GMT\",\n",
      "      \"x-amzn-requestid\": \"eacfd7a3-86a8-4d42-ad74-a353bcaf947e\",\n",
      "      \"content-length\": \"113\",\n",
      "      \"connection\": \"keep-alive\"\n",
      "    },\n",
      "    \"RetryAttempts\": 0\n",
      "  }\n",
      "}\n"
     ]
    }
   ],
   "source": [
    "create_dataset_import_job_response = personalize.create_dataset_import_job(\n",
    "    jobName = '{}-car-users-import'.format(dataset_group_name),\n",
    "    datasetArn = users_dataset_arn,\n",
    "    dataSource = {\n",
    "        'dataLocation': 's3://{}/{}/{}'.format(bucket, prefix, users_filename)\n",
    "    },\n",
    "    roleArn = role_arn\n",
    ")\n",
    "\n",
    "users_dataset_import_job_arn = create_dataset_import_job_response['datasetImportJobArn']\n",
    "print(json.dumps(create_dataset_import_job_response, indent=2))"
   ]
  },
  {
   "cell_type": "code",
   "execution_count": null,
   "metadata": {},
   "outputs": [
    {
     "name": "stdout",
     "output_type": "stream",
     "text": [
      "DatasetImportJob: CREATE PENDING\n",
      "DatasetImportJob: CREATE IN_PROGRESS\n",
      "DatasetImportJob: CREATE IN_PROGRESS\n"
     ]
    }
   ],
   "source": [
    "max_time = time.time() + MAX_WAIT_TIME\n",
    "while time.time() < max_time:\n",
    "    describe_dataset_import_job_response = personalize.describe_dataset_import_job(\n",
    "        datasetImportJobArn = items_dataset_import_job_arn\n",
    "    )\n",
    "    status = describe_dataset_import_job_response['datasetImportJob']['status']\n",
    "    print('DatasetImportJob: {}'.format(status))\n",
    "    \n",
    "    if status == 'ACTIVE' or status == 'CREATE FAILED':\n",
    "        break\n",
    "        \n",
    "    time.sleep(60)"
   ]
  },
  {
   "cell_type": "code",
   "execution_count": null,
   "metadata": {},
   "outputs": [],
   "source": [
    "max_time = time.time() + MAX_WAIT_TIME\n",
    "while time.time() < max_time:\n",
    "    describe_dataset_import_job_response = personalize.describe_dataset_import_job(\n",
    "        datasetImportJobArn = users_dataset_import_job_arn\n",
    "    )\n",
    "    status = describe_dataset_import_job_response['datasetImportJob']['status']\n",
    "    print('DatasetImportJob: {}'.format(status))\n",
    "    \n",
    "    if status == 'ACTIVE' or status == 'CREATE FAILED':\n",
    "        break\n",
    "        \n",
    "    time.sleep(60)"
   ]
  },
  {
   "cell_type": "code",
   "execution_count": null,
   "metadata": {},
   "outputs": [],
   "source": [
    "max_time = time.time() + MAX_WAIT_TIME\n",
    "while time.time() < max_time:\n",
    "    describe_dataset_import_job_response = personalize.describe_dataset_import_job(\n",
    "        datasetImportJobArn = interactions_dataset_import_job_arn\n",
    "    )\n",
    "    status = describe_dataset_import_job_response['datasetImportJob']['status']\n",
    "    print('DatasetImportJob: {}'.format(status))\n",
    "    \n",
    "    if status == 'ACTIVE' or status == 'CREATE FAILED':\n",
    "        break\n",
    "        \n",
    "    time.sleep(60)"
   ]
  },
  {
   "cell_type": "code",
   "execution_count": null,
   "metadata": {},
   "outputs": [],
   "source": []
  }
 ],
 "metadata": {
  "kernelspec": {
   "display_name": "conda_python3",
   "language": "python",
   "name": "conda_python3"
  },
  "language_info": {
   "codemirror_mode": {
    "name": "ipython",
    "version": 3
   },
   "file_extension": ".py",
   "mimetype": "text/x-python",
   "name": "python",
   "nbconvert_exporter": "python",
   "pygments_lexer": "ipython3",
   "version": "3.6.5"
  }
 },
 "nbformat": 4,
 "nbformat_minor": 2
}
