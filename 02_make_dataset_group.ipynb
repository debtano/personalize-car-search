{
 "cells": [
  {
   "cell_type": "markdown",
   "metadata": {},
   "source": [
    "# Make user, item, and interaction datasets\n",
    "This notebook creates the official Amazon Personalize dataset resources for the\n",
    "car search recommendations demo."
   ]
  },
  {
   "cell_type": "code",
   "execution_count": 92,
   "metadata": {},
   "outputs": [],
   "source": [
    "account_num = '<your-account-num>'"
   ]
  },
  {
   "cell_type": "code",
   "execution_count": 93,
   "metadata": {},
   "outputs": [
    {
     "name": "stdout",
     "output_type": "stream",
     "text": [
      "sagemaker-us-east-1-355151823911\n",
      "us-east-1\n"
     ]
    }
   ],
   "source": [
    "import json\n",
    "import boto3\n",
    "import time\n",
    "import sagemaker\n",
    "\n",
    "bucket   = sagemaker.Session().default_bucket() # or replace with your preferred s3 bucket\n",
    "print(bucket)\n",
    "prefix   = 'personalize/car'\n",
    "\n",
    "region   = boto3.Session().region_name # or replace with your preferred region\n",
    "print(region)"
   ]
  },
  {
   "cell_type": "code",
   "execution_count": 94,
   "metadata": {},
   "outputs": [],
   "source": [
    "dataset_group_name = 'car-dg'\n",
    "\n",
    "CAR_INTERACTION_SCHEMA_NAME = 'car-interactions-schema'\n",
    "CAR_INTERACTION_SCHEMA_ARN  = 'arn:aws:personalize:{}:{}:schema/'.format(region, account_num) + \\\n",
    "                                CAR_INTERACTION_SCHEMA_NAME\n",
    "    \n",
    "CAR_ITEM_SCHEMA_NAME = 'car-items-schema'\n",
    "CAR_ITEM_SCHEMA_ARN  = 'arn:aws:personalize:{}:{}:schema/'.format(region, account_num) + \\\n",
    "                                CAR_ITEM_SCHEMA_NAME\n",
    "\n",
    "CAR_USER_SCHEMA_NAME = 'car-users-schema'\n",
    "CAR_USER_SCHEMA_ARN  = 'arn:aws:personalize:{}:{}:schema/'.format(region, account_num) + \\\n",
    "                                CAR_USER_SCHEMA_NAME\n",
    "\n",
    "cars_filename         = 'car_items.csv'\n",
    "users_filename        = 'users.csv'\n",
    "interactions_filename = 'interactions.csv'\n",
    "\n",
    "MAX_WAIT_TIME = time.time() + 60*60 # 1 hour"
   ]
  },
  {
   "cell_type": "code",
   "execution_count": 95,
   "metadata": {},
   "outputs": [],
   "source": [
    "personalize = boto3.client('personalize')\n",
    "personalize_runtime = boto3.client('personalize-runtime')"
   ]
  },
  {
   "cell_type": "markdown",
   "metadata": {},
   "source": [
    "## Set up IAM role and allow Personalize to access your bucket"
   ]
  },
  {
   "cell_type": "code",
   "execution_count": 96,
   "metadata": {},
   "outputs": [],
   "source": [
    "def allow_bucket_access():\n",
    "    s3 = boto3.client('s3')\n",
    "\n",
    "    policy = {\n",
    "        \"Version\": \"2012-10-17\",\n",
    "        \"Id\": \"PersonalizeS3BucketAccessPolicy\",\n",
    "        \"Statement\": [\n",
    "            {\n",
    "                \"Sid\": \"PersonalizeS3BucketAccessPolicy\",\n",
    "                \"Effect\": \"Allow\",\n",
    "                \"Principal\": {\n",
    "                    \"Service\": \"personalize.amazonaws.com\"\n",
    "                },\n",
    "                \"Action\": [\n",
    "                    \"s3:GetObject\",\n",
    "                    \"s3:ListBucket\"\n",
    "                ],\n",
    "                \"Resource\": [\n",
    "                    \"arn:aws:s3:::{}\".format(bucket),\n",
    "                    \"arn:aws:s3:::{}/*\".format(bucket)\n",
    "                ]\n",
    "            }\n",
    "        ]\n",
    "    }\n",
    "\n",
    "    s3.put_bucket_policy(Bucket=bucket, Policy=json.dumps(policy))"
   ]
  },
  {
   "cell_type": "code",
   "execution_count": 97,
   "metadata": {},
   "outputs": [],
   "source": [
    "allow_bucket_access()"
   ]
  },
  {
   "cell_type": "code",
   "execution_count": 98,
   "metadata": {},
   "outputs": [],
   "source": [
    "def create_personalize_role():\n",
    "    iam = boto3.client('iam')\n",
    "\n",
    "    role_name = 'PersonalizeS3Role'\n",
    "    assume_role_policy_document = {\n",
    "        \"Version\": \"2012-10-17\",\n",
    "        \"Statement\": [\n",
    "            {\n",
    "              \"Effect\": \"Allow\",\n",
    "              \"Principal\": {\n",
    "                \"Service\": \"personalize.amazonaws.com\"\n",
    "              },\n",
    "              \"Action\": \"sts:AssumeRole\"\n",
    "            }\n",
    "        ]\n",
    "    }\n",
    "\n",
    "    try:\n",
    "        print('Creating role: {}...'.format(role_name))\n",
    "        create_role_response = iam.create_role(\n",
    "            RoleName = role_name,\n",
    "            AssumeRolePolicyDocument = json.dumps(assume_role_policy_document)\n",
    "        )\n",
    "    except Exception as e:\n",
    "        print('role creation failed. Likely already existed.')\n",
    "\n",
    "    # AmazonPersonalizeFullAccess provides access to any S3 bucket with a name that includes \"personalize\" or \"Personalize\" \n",
    "    # if you would like to use a bucket with a different name, please consider creating and attaching a new policy\n",
    "    # that provides read access to your bucket or attaching the AmazonS3ReadOnlyAccess policy to the role\n",
    "    print('Attaching Personalize full access policy...')\n",
    "    pers_policy_arn = 'arn:aws:iam::aws:policy/service-role/AmazonPersonalizeFullAccess'\n",
    "    iam.attach_role_policy(\n",
    "        RoleName  = role_name,\n",
    "        PolicyArn = pers_policy_arn\n",
    "    )\n",
    "    print('Attaching S3 read-only access policy...')\n",
    "    s3_policy_arn = 'arn:aws:iam::aws:policy/AmazonS3ReadOnlyAccess'\n",
    "    iam.attach_role_policy(\n",
    "        RoleName  = role_name,\n",
    "        PolicyArn = s3_policy_arn\n",
    "    )\n",
    "\n",
    "    print('Waiting for policy attachment to propagate...')\n",
    "    time.sleep(60) # wait for a minute to allow IAM role policy attachment to propagate\n",
    "\n",
    "    role_arn = 'arn:aws:iam::{}:role/{}'.format(account_num, role_name)\n",
    "    return role_arn"
   ]
  },
  {
   "cell_type": "code",
   "execution_count": 99,
   "metadata": {},
   "outputs": [
    {
     "name": "stdout",
     "output_type": "stream",
     "text": [
      "Creating role: PersonalizeS3Role...\n",
      "role creation failed. Likely already existed.\n",
      "Attaching Personalize full access policy...\n",
      "Attaching S3 read-only access policy...\n",
      "Waiting for policy attachment to propagate...\n",
      "arn:aws:iam::355151823911:role/PersonalizeS3Role\n"
     ]
    }
   ],
   "source": [
    "role_arn = create_personalize_role()\n",
    "print(role_arn)"
   ]
  },
  {
   "cell_type": "markdown",
   "metadata": {},
   "source": [
    "## Create the INTERACTIONS schema\n",
    "Create the INTERACTIONS schema if it is not in place already."
   ]
  },
  {
   "cell_type": "code",
   "execution_count": 100,
   "metadata": {},
   "outputs": [
    {
     "name": "stdout",
     "output_type": "stream",
     "text": [
      "Schema arn:aws:personalize:us-east-1:355151823911:schema/car-interactions-schema did not exist, creating it...\n",
      "{\n",
      "  \"schemaArn\": \"arn:aws:personalize:us-east-1:355151823911:schema/car-interactions-schema\",\n",
      "  \"ResponseMetadata\": {\n",
      "    \"RequestId\": \"8f971450-7213-498f-b963-47b3e5649a99\",\n",
      "    \"HTTPStatusCode\": 200,\n",
      "    \"HTTPHeaders\": {\n",
      "      \"content-type\": \"application/x-amz-json-1.1\",\n",
      "      \"date\": \"Wed, 17 Jul 2019 15:19:29 GMT\",\n",
      "      \"x-amzn-requestid\": \"8f971450-7213-498f-b963-47b3e5649a99\",\n",
      "      \"content-length\": \"89\",\n",
      "      \"connection\": \"keep-alive\"\n",
      "    },\n",
      "    \"RetryAttempts\": 0\n",
      "  }\n",
      "}\n"
     ]
    }
   ],
   "source": [
    "try:\n",
    "    # first see if the schema is already in place\n",
    "    arn = CAR_INTERACTION_SCHEMA_ARN\n",
    "    response = personalize.describe_schema(schemaArn=arn)\n",
    "    interactions_schema_arn = response['schema']['schemaArn']\n",
    "    print(interactions_schema_arn)\n",
    "except Exception as e:\n",
    "    print('Schema {} did not exist, creating it...'.format(arn))\n",
    "    schema = {\n",
    "        \"type\": \"record\",\n",
    "        \"name\": \"Interactions\",\n",
    "        \"namespace\": \"com.amazonaws.personalize.schema\",\n",
    "        \"fields\": [\n",
    "            {\n",
    "                \"name\": \"USER_ID\",\n",
    "                \"type\": \"string\"\n",
    "            },\n",
    "            {\n",
    "                \"name\": \"ITEM_ID\",\n",
    "                \"type\": \"string\"\n",
    "            },\n",
    "            {\n",
    "                \"name\": \"TIMESTAMP\",\n",
    "                \"type\": \"long\"\n",
    "            }\n",
    "        ],\n",
    "        \"version\": \"1.0\"\n",
    "    }\n",
    "\n",
    "    create_schema_response = personalize.create_schema(\n",
    "        name   = CAR_INTERACTION_SCHEMA_NAME,\n",
    "        schema = json.dumps(schema)\n",
    "    )\n",
    "\n",
    "    interactions_schema_arn = create_schema_response['schemaArn']\n",
    "    print(json.dumps(create_schema_response, indent=2))"
   ]
  },
  {
   "cell_type": "markdown",
   "metadata": {},
   "source": [
    "## Create the ITEMS schema\n",
    "Create the ITEMS schema if it is not in place already."
   ]
  },
  {
   "cell_type": "code",
   "execution_count": 101,
   "metadata": {},
   "outputs": [
    {
     "name": "stdout",
     "output_type": "stream",
     "text": [
      "schema not found, creating new...\n",
      "{\n",
      "  \"schemaArn\": \"arn:aws:personalize:us-east-1:355151823911:schema/car-items-schema\",\n",
      "  \"ResponseMetadata\": {\n",
      "    \"RequestId\": \"67f9b1bc-d98a-4ca7-92f0-86e9f9892bf9\",\n",
      "    \"HTTPStatusCode\": 200,\n",
      "    \"HTTPHeaders\": {\n",
      "      \"content-type\": \"application/x-amz-json-1.1\",\n",
      "      \"date\": \"Wed, 17 Jul 2019 15:19:29 GMT\",\n",
      "      \"x-amzn-requestid\": \"67f9b1bc-d98a-4ca7-92f0-86e9f9892bf9\",\n",
      "      \"content-length\": \"82\",\n",
      "      \"connection\": \"keep-alive\"\n",
      "    },\n",
      "    \"RetryAttempts\": 0\n",
      "  }\n",
      "}\n"
     ]
    }
   ],
   "source": [
    "try:\n",
    "    arn = CAR_ITEM_SCHEMA_ARN\n",
    "    response = personalize.describe_schema(schemaArn=arn)\n",
    "    items_schema_arn = response['schema']['schemaArn']\n",
    "    print(items_schema_arn)\n",
    "except Exception as e:\n",
    "    print('schema not found, creating new...')\n",
    "    schema = {\n",
    "        \"type\": \"record\",\n",
    "        \"name\": \"Items\",\n",
    "        \"namespace\": \"com.amazonaws.personalize.schema\",\n",
    "        \"fields\": [\n",
    "            {\n",
    "                \"name\": \"ITEM_ID\",\n",
    "                \"type\": \"string\"\n",
    "            },\n",
    "            {\n",
    "                \"name\": \"MAKE\",\n",
    "                \"type\": \"string\",\n",
    "                \"categorical\": True\n",
    "            },\n",
    "            {\n",
    "                \"name\": \"MODEL\",\n",
    "                \"type\": \"string\",\n",
    "                \"categorical\": True\n",
    "            },\n",
    "            {\n",
    "                \"name\": \"YEAR\",\n",
    "                \"type\": \"int\"\n",
    "            },\n",
    "            {\n",
    "                \"name\": \"MILEAGE\",\n",
    "                \"type\": \"int\"\n",
    "            },\n",
    "            {\n",
    "                \"name\": \"PRICE\",\n",
    "                \"type\": \"int\"\n",
    "            }\n",
    "            #,\n",
    "#            {\n",
    "#                \"name\": \"COLOR\",\n",
    "#                \"type\": \"string\",\n",
    "#                \"categorical\": True\n",
    "#            }#,  Max of 5 metadata columns is the Personalize limit for now\n",
    "    #        {\n",
    "    #            \"name\": \"LOCATION\",\n",
    "    #            \"type\": \"string\",\n",
    "    #            \"categorical\": True\n",
    "    #        }\n",
    "        ],\n",
    "        \"version\": \"1.0\"\n",
    "    }\n",
    "\n",
    "    create_schema_response = personalize.create_schema(\n",
    "        name   = CAR_ITEM_SCHEMA_NAME,\n",
    "        schema = json.dumps(schema)\n",
    "    )\n",
    "\n",
    "    items_schema_arn = create_schema_response['schemaArn']\n",
    "    print(json.dumps(create_schema_response, indent=2))"
   ]
  },
  {
   "cell_type": "markdown",
   "metadata": {},
   "source": [
    "## Create the USERS schema\n",
    "Create the USERS schema if it is not in place already."
   ]
  },
  {
   "cell_type": "code",
   "execution_count": 102,
   "metadata": {},
   "outputs": [
    {
     "name": "stdout",
     "output_type": "stream",
     "text": [
      "{\n",
      "  \"schemaArn\": \"arn:aws:personalize:us-east-1:355151823911:schema/car-users-schema\",\n",
      "  \"ResponseMetadata\": {\n",
      "    \"RequestId\": \"8b7d984d-dff2-48c5-8f1d-0918de7a64fa\",\n",
      "    \"HTTPStatusCode\": 200,\n",
      "    \"HTTPHeaders\": {\n",
      "      \"content-type\": \"application/x-amz-json-1.1\",\n",
      "      \"date\": \"Wed, 17 Jul 2019 15:19:30 GMT\",\n",
      "      \"x-amzn-requestid\": \"8b7d984d-dff2-48c5-8f1d-0918de7a64fa\",\n",
      "      \"content-length\": \"82\",\n",
      "      \"connection\": \"keep-alive\"\n",
      "    },\n",
      "    \"RetryAttempts\": 0\n",
      "  }\n",
      "}\n"
     ]
    }
   ],
   "source": [
    "try:\n",
    "    arn = CAR_USER_SCHEMA_ARN\n",
    "    response = personalize.describe_schema(schemaArn=arn)\n",
    "    users_schema_arn = response['schema']['schemaArn']\n",
    "    print(users_schema_arn)\n",
    "except Exception as e:\n",
    "    schema = {\n",
    "        \"type\": \"record\",\n",
    "        \"name\": \"Users\",\n",
    "        \"namespace\": \"com.amazonaws.personalize.schema\",\n",
    "        \"fields\": [\n",
    "            {\n",
    "                \"name\": \"USER_ID\",\n",
    "                \"type\": \"string\"\n",
    "            },\n",
    "            {\n",
    "                \"name\": \"AGE\",\n",
    "                \"type\": \"int\"\n",
    "            },\n",
    "            {\n",
    "                \"name\": \"GENDER\",\n",
    "                \"type\": \"string\",\n",
    "                \"categorical\": True\n",
    "            },\n",
    "            {\n",
    "                \"name\": \"LOCATION\",\n",
    "                \"type\": \"string\",\n",
    "                \"categorical\": True\n",
    "            },\n",
    "            {\n",
    "                \"name\": \"SALARY\",\n",
    "                \"type\": \"int\"\n",
    "            }\n",
    "        ],\n",
    "        \"version\": \"1.0\"\n",
    "    }\n",
    "\n",
    "    create_schema_response = personalize.create_schema(\n",
    "        name   = CAR_USER_SCHEMA_NAME,\n",
    "        schema = json.dumps(schema)\n",
    "    )\n",
    "\n",
    "    users_schema_arn = create_schema_response['schemaArn']\n",
    "    print(json.dumps(create_schema_response, indent=2))"
   ]
  },
  {
   "cell_type": "markdown",
   "metadata": {},
   "source": [
    "## Create a dataset group and the datasets within it\n",
    "This assumes you have done any cleanup of prior versions of the datasets and dataset group. If not, use\n",
    "the cleanup notebook."
   ]
  },
  {
   "cell_type": "code",
   "execution_count": 103,
   "metadata": {},
   "outputs": [
    {
     "name": "stdout",
     "output_type": "stream",
     "text": [
      "\n",
      "Creating new dataset group car-dg\n",
      "{\n",
      "  \"datasetGroupArn\": \"arn:aws:personalize:us-east-1:355151823911:dataset-group/car-dg\",\n",
      "  \"ResponseMetadata\": {\n",
      "    \"RequestId\": \"c5e8869e-de50-452f-ac10-d57a29428af6\",\n",
      "    \"HTTPStatusCode\": 200,\n",
      "    \"HTTPHeaders\": {\n",
      "      \"content-type\": \"application/x-amz-json-1.1\",\n",
      "      \"date\": \"Wed, 17 Jul 2019 15:19:29 GMT\",\n",
      "      \"x-amzn-requestid\": \"c5e8869e-de50-452f-ac10-d57a29428af6\",\n",
      "      \"content-length\": \"85\",\n",
      "      \"connection\": \"keep-alive\"\n",
      "    },\n",
      "    \"RetryAttempts\": 0\n",
      "  }\n",
      "}\n"
     ]
    }
   ],
   "source": [
    "print('\\nCreating new dataset group {}'.format(dataset_group_name))\n",
    "create_dataset_group_response = personalize.create_dataset_group(\n",
    "    name = dataset_group_name\n",
    ")\n",
    "\n",
    "dataset_group_arn = create_dataset_group_response['datasetGroupArn']\n",
    "print(json.dumps(create_dataset_group_response, indent=2))"
   ]
  },
  {
   "cell_type": "code",
   "execution_count": 104,
   "metadata": {},
   "outputs": [
    {
     "name": "stdout",
     "output_type": "stream",
     "text": [
      "DatasetGroup: CREATE PENDING\n",
      "DatasetGroup: ACTIVE\n"
     ]
    }
   ],
   "source": [
    "max_time = time.time() + MAX_WAIT_TIME\n",
    "while time.time() < max_time:\n",
    "    describe_dataset_group_response = personalize.describe_dataset_group(\n",
    "        datasetGroupArn = dataset_group_arn\n",
    "    )\n",
    "    status = describe_dataset_group_response['datasetGroup']['status']\n",
    "    print('DatasetGroup: {}'.format(status))\n",
    "    \n",
    "    if status == 'ACTIVE' or status == 'CREATE FAILED':\n",
    "        break\n",
    "        \n",
    "    time.sleep(60)"
   ]
  },
  {
   "cell_type": "markdown",
   "metadata": {},
   "source": [
    "### Create the INTERACTIONS dataset"
   ]
  },
  {
   "cell_type": "code",
   "execution_count": 105,
   "metadata": {},
   "outputs": [
    {
     "name": "stdout",
     "output_type": "stream",
     "text": [
      "{\n",
      "  \"datasetArn\": \"arn:aws:personalize:us-east-1:355151823911:dataset/car-dg/INTERACTIONS\",\n",
      "  \"ResponseMetadata\": {\n",
      "    \"RequestId\": \"39569f62-a25c-4968-aa12-aefef49eeeb1\",\n",
      "    \"HTTPStatusCode\": 200,\n",
      "    \"HTTPHeaders\": {\n",
      "      \"content-type\": \"application/x-amz-json-1.1\",\n",
      "      \"date\": \"Wed, 17 Jul 2019 15:20:30 GMT\",\n",
      "      \"x-amzn-requestid\": \"39569f62-a25c-4968-aa12-aefef49eeeb1\",\n",
      "      \"content-length\": \"87\",\n",
      "      \"connection\": \"keep-alive\"\n",
      "    },\n",
      "    \"RetryAttempts\": 0\n",
      "  }\n",
      "}\n"
     ]
    }
   ],
   "source": [
    "dataset_type = 'INTERACTIONS'\n",
    "create_dataset_response = personalize.create_dataset(\n",
    "    name = 'car-interactions',\n",
    "    datasetType = dataset_type,\n",
    "    datasetGroupArn = dataset_group_arn,\n",
    "    schemaArn = interactions_schema_arn\n",
    ")\n",
    "\n",
    "interactions_dataset_arn = create_dataset_response['datasetArn']\n",
    "print(json.dumps(create_dataset_response, indent=2))"
   ]
  },
  {
   "cell_type": "code",
   "execution_count": 106,
   "metadata": {},
   "outputs": [
    {
     "name": "stdout",
     "output_type": "stream",
     "text": [
      "arn:aws:personalize:us-east-1:355151823911:schema/car-items-schema\n",
      "arn:aws:personalize:us-east-1:355151823911:dataset-group/car-dg\n"
     ]
    }
   ],
   "source": [
    "print(items_schema_arn)\n",
    "print(dataset_group_arn)"
   ]
  },
  {
   "cell_type": "markdown",
   "metadata": {},
   "source": [
    "### Create the ITEMS dataset"
   ]
  },
  {
   "cell_type": "code",
   "execution_count": 107,
   "metadata": {},
   "outputs": [
    {
     "name": "stdout",
     "output_type": "stream",
     "text": [
      "{\n",
      "  \"datasetArn\": \"arn:aws:personalize:us-east-1:355151823911:dataset/car-dg/ITEMS\",\n",
      "  \"ResponseMetadata\": {\n",
      "    \"RequestId\": \"b4768fc1-4d4a-4c46-b101-d309b99cdc2f\",\n",
      "    \"HTTPStatusCode\": 200,\n",
      "    \"HTTPHeaders\": {\n",
      "      \"content-type\": \"application/x-amz-json-1.1\",\n",
      "      \"date\": \"Wed, 17 Jul 2019 15:20:30 GMT\",\n",
      "      \"x-amzn-requestid\": \"b4768fc1-4d4a-4c46-b101-d309b99cdc2f\",\n",
      "      \"content-length\": \"80\",\n",
      "      \"connection\": \"keep-alive\"\n",
      "    },\n",
      "    \"RetryAttempts\": 0\n",
      "  }\n",
      "}\n"
     ]
    }
   ],
   "source": [
    "dataset_type = 'ITEMS'\n",
    "create_dataset_response = personalize.create_dataset(\n",
    "    name = 'car-items',\n",
    "    datasetType = dataset_type,\n",
    "    datasetGroupArn = dataset_group_arn,\n",
    "    schemaArn = items_schema_arn\n",
    ")\n",
    "\n",
    "items_dataset_arn = create_dataset_response['datasetArn']\n",
    "print(json.dumps(create_dataset_response, indent=2))"
   ]
  },
  {
   "cell_type": "markdown",
   "metadata": {},
   "source": [
    "### Create the USERS dataset"
   ]
  },
  {
   "cell_type": "code",
   "execution_count": 108,
   "metadata": {},
   "outputs": [
    {
     "name": "stdout",
     "output_type": "stream",
     "text": [
      "{\n",
      "  \"datasetArn\": \"arn:aws:personalize:us-east-1:355151823911:dataset/car-dg/USERS\",\n",
      "  \"ResponseMetadata\": {\n",
      "    \"RequestId\": \"aad1a35a-8445-4a1d-968a-17e20f522bb9\",\n",
      "    \"HTTPStatusCode\": 200,\n",
      "    \"HTTPHeaders\": {\n",
      "      \"content-type\": \"application/x-amz-json-1.1\",\n",
      "      \"date\": \"Wed, 17 Jul 2019 15:20:30 GMT\",\n",
      "      \"x-amzn-requestid\": \"aad1a35a-8445-4a1d-968a-17e20f522bb9\",\n",
      "      \"content-length\": \"80\",\n",
      "      \"connection\": \"keep-alive\"\n",
      "    },\n",
      "    \"RetryAttempts\": 0\n",
      "  }\n",
      "}\n"
     ]
    }
   ],
   "source": [
    "dataset_type = 'USERS'\n",
    "create_dataset_response = personalize.create_dataset(\n",
    "    name = 'car-users',\n",
    "    datasetType = dataset_type,\n",
    "    datasetGroupArn = dataset_group_arn,\n",
    "    schemaArn = users_schema_arn\n",
    ")\n",
    "\n",
    "users_dataset_arn = create_dataset_response['datasetArn']\n",
    "print(json.dumps(create_dataset_response, indent=2))"
   ]
  },
  {
   "cell_type": "markdown",
   "metadata": {},
   "source": [
    "## Create an import job for each of the datasets"
   ]
  },
  {
   "cell_type": "code",
   "execution_count": 109,
   "metadata": {},
   "outputs": [
    {
     "name": "stdout",
     "output_type": "stream",
     "text": [
      "{\n",
      "  \"datasetImportJobArn\": \"arn:aws:personalize:us-east-1:355151823911:dataset-import-job/car-dg-car-interactions-import\",\n",
      "  \"ResponseMetadata\": {\n",
      "    \"RequestId\": \"0c0d77c4-6e7b-4ce4-86ef-989ef1538e65\",\n",
      "    \"HTTPStatusCode\": 200,\n",
      "    \"HTTPHeaders\": {\n",
      "      \"content-type\": \"application/x-amz-json-1.1\",\n",
      "      \"date\": \"Wed, 17 Jul 2019 15:20:30 GMT\",\n",
      "      \"x-amzn-requestid\": \"0c0d77c4-6e7b-4ce4-86ef-989ef1538e65\",\n",
      "      \"content-length\": \"118\",\n",
      "      \"connection\": \"keep-alive\"\n",
      "    },\n",
      "    \"RetryAttempts\": 0\n",
      "  }\n",
      "}\n"
     ]
    }
   ],
   "source": [
    "create_dataset_import_job_response = personalize.create_dataset_import_job(\n",
    "    jobName = '{}-car-interactions-import'.format(dataset_group_name),\n",
    "    datasetArn = interactions_dataset_arn,\n",
    "    dataSource = {\n",
    "        \"dataLocation\": \"s3://{}/{}/{}\".format(bucket, prefix, interactions_filename)\n",
    "    },\n",
    "    roleArn = role_arn\n",
    ")\n",
    "\n",
    "interactions_dataset_import_job_arn = create_dataset_import_job_response['datasetImportJobArn']\n",
    "print(json.dumps(create_dataset_import_job_response, indent=2))"
   ]
  },
  {
   "cell_type": "code",
   "execution_count": 110,
   "metadata": {},
   "outputs": [
    {
     "name": "stdout",
     "output_type": "stream",
     "text": [
      "{\n",
      "  \"datasetImportJobArn\": \"arn:aws:personalize:us-east-1:355151823911:dataset-import-job/car-dg-car-items-import\",\n",
      "  \"ResponseMetadata\": {\n",
      "    \"RequestId\": \"7c3b0394-16d0-49a4-bcdc-f8a40e9a2a0e\",\n",
      "    \"HTTPStatusCode\": 200,\n",
      "    \"HTTPHeaders\": {\n",
      "      \"content-type\": \"application/x-amz-json-1.1\",\n",
      "      \"date\": \"Wed, 17 Jul 2019 15:20:30 GMT\",\n",
      "      \"x-amzn-requestid\": \"7c3b0394-16d0-49a4-bcdc-f8a40e9a2a0e\",\n",
      "      \"content-length\": \"111\",\n",
      "      \"connection\": \"keep-alive\"\n",
      "    },\n",
      "    \"RetryAttempts\": 0\n",
      "  }\n",
      "}\n"
     ]
    }
   ],
   "source": [
    "create_dataset_import_job_response = personalize.create_dataset_import_job(\n",
    "    jobName = '{}-car-items-import'.format(dataset_group_name),\n",
    "    datasetArn = items_dataset_arn,\n",
    "    dataSource = {\n",
    "        'dataLocation': 's3://{}/{}/{}'.format(bucket, prefix, cars_filename)\n",
    "    },\n",
    "    roleArn = role_arn\n",
    ")\n",
    "\n",
    "items_dataset_import_job_arn = create_dataset_import_job_response['datasetImportJobArn']\n",
    "print(json.dumps(create_dataset_import_job_response, indent=2))"
   ]
  },
  {
   "cell_type": "code",
   "execution_count": 111,
   "metadata": {},
   "outputs": [
    {
     "name": "stdout",
     "output_type": "stream",
     "text": [
      "{\n",
      "  \"datasetImportJobArn\": \"arn:aws:personalize:us-east-1:355151823911:dataset-import-job/car-dg-car-users-import\",\n",
      "  \"ResponseMetadata\": {\n",
      "    \"RequestId\": \"12ea2eaa-8e8c-4737-aaa6-21d0d618fb4b\",\n",
      "    \"HTTPStatusCode\": 200,\n",
      "    \"HTTPHeaders\": {\n",
      "      \"content-type\": \"application/x-amz-json-1.1\",\n",
      "      \"date\": \"Wed, 17 Jul 2019 15:20:32 GMT\",\n",
      "      \"x-amzn-requestid\": \"12ea2eaa-8e8c-4737-aaa6-21d0d618fb4b\",\n",
      "      \"content-length\": \"111\",\n",
      "      \"connection\": \"keep-alive\"\n",
      "    },\n",
      "    \"RetryAttempts\": 0\n",
      "  }\n",
      "}\n"
     ]
    }
   ],
   "source": [
    "create_dataset_import_job_response = personalize.create_dataset_import_job(\n",
    "    jobName = '{}-car-users-import'.format(dataset_group_name),\n",
    "    datasetArn = users_dataset_arn,\n",
    "    dataSource = {\n",
    "        'dataLocation': 's3://{}/{}/{}'.format(bucket, prefix, users_filename)\n",
    "    },\n",
    "    roleArn = role_arn\n",
    ")\n",
    "\n",
    "users_dataset_import_job_arn = create_dataset_import_job_response['datasetImportJobArn']\n",
    "print(json.dumps(create_dataset_import_job_response, indent=2))"
   ]
  },
  {
   "cell_type": "markdown",
   "metadata": {},
   "source": [
    "### Wait for the dataset import jobs to complete"
   ]
  },
  {
   "cell_type": "code",
   "execution_count": 112,
   "metadata": {},
   "outputs": [
    {
     "name": "stdout",
     "output_type": "stream",
     "text": [
      "Waiting for ITEMS data import to complete...\n",
      "DatasetImportJob: CREATE PENDING\n",
      "DatasetImportJob: CREATE IN_PROGRESS\n",
      "DatasetImportJob: CREATE IN_PROGRESS\n",
      "DatasetImportJob: CREATE IN_PROGRESS\n",
      "DatasetImportJob: CREATE IN_PROGRESS\n",
      "DatasetImportJob: CREATE IN_PROGRESS\n",
      "DatasetImportJob: CREATE IN_PROGRESS\n",
      "DatasetImportJob: CREATE IN_PROGRESS\n",
      "DatasetImportJob: CREATE IN_PROGRESS\n",
      "DatasetImportJob: CREATE IN_PROGRESS\n",
      "DatasetImportJob: CREATE IN_PROGRESS\n",
      "DatasetImportJob: CREATE IN_PROGRESS\n",
      "DatasetImportJob: CREATE IN_PROGRESS\n",
      "DatasetImportJob: ACTIVE\n"
     ]
    }
   ],
   "source": [
    "print('Waiting for ITEMS data import to complete...')\n",
    "max_time = time.time() + MAX_WAIT_TIME\n",
    "while time.time() < max_time:\n",
    "    describe_dataset_import_job_response = personalize.describe_dataset_import_job(\n",
    "        datasetImportJobArn = items_dataset_import_job_arn\n",
    "    )\n",
    "    status = describe_dataset_import_job_response['datasetImportJob']['status']\n",
    "    print('DatasetImportJob: {}'.format(status))\n",
    "    \n",
    "    if status == 'ACTIVE' or status == 'CREATE FAILED':\n",
    "        break\n",
    "        \n",
    "    time.sleep(60)\n",
    "    if status == 'ACTIVE':\n",
    "        print('ITEMS dataset is ACTIVE.')"
   ]
  },
  {
   "cell_type": "code",
   "execution_count": 113,
   "metadata": {},
   "outputs": [
    {
     "name": "stdout",
     "output_type": "stream",
     "text": [
      "Waiting for USERS data import to complete...\n",
      "DatasetImportJob: ACTIVE\n"
     ]
    }
   ],
   "source": [
    "print('Waiting for USERS data import to complete...')\n",
    "max_time = time.time() + MAX_WAIT_TIME\n",
    "while time.time() < max_time:\n",
    "    describe_dataset_import_job_response = personalize.describe_dataset_import_job(\n",
    "        datasetImportJobArn = users_dataset_import_job_arn\n",
    "    )\n",
    "    status = describe_dataset_import_job_response['datasetImportJob']['status']\n",
    "    print('DatasetImportJob: {}'.format(status))\n",
    "    \n",
    "    if status == 'ACTIVE' or status == 'CREATE FAILED':\n",
    "        break\n",
    "        \n",
    "    time.sleep(60)\n",
    "    if status == 'ACTIVE':\n",
    "        print('USERS dataset is ACTIVE.')"
   ]
  },
  {
   "cell_type": "code",
   "execution_count": 114,
   "metadata": {},
   "outputs": [
    {
     "name": "stdout",
     "output_type": "stream",
     "text": [
      "Waiting for INTERACTIONS data import to complete...\n",
      "DatasetImportJob: ACTIVE\n"
     ]
    }
   ],
   "source": [
    "print('Waiting for INTERACTIONS data import to complete...')\n",
    "max_time = time.time() + MAX_WAIT_TIME\n",
    "while time.time() < max_time:\n",
    "    describe_dataset_import_job_response = personalize.describe_dataset_import_job(\n",
    "        datasetImportJobArn = interactions_dataset_import_job_arn\n",
    "    )\n",
    "    status = describe_dataset_import_job_response['datasetImportJob']['status']\n",
    "    print('DatasetImportJob: {}'.format(status))\n",
    "    \n",
    "    if status == 'ACTIVE' or status == 'CREATE FAILED':\n",
    "        break\n",
    "        \n",
    "    time.sleep(60)\n",
    "    if status == 'ACTIVE':\n",
    "        print('INTERACTIONS dataset is ACTIVE.')"
   ]
  }
 ],
 "metadata": {
  "kernelspec": {
   "display_name": "conda_python3",
   "language": "python",
   "name": "conda_python3"
  },
  "language_info": {
   "codemirror_mode": {
    "name": "ipython",
    "version": 3
   },
   "file_extension": ".py",
   "mimetype": "text/x-python",
   "name": "python",
   "nbconvert_exporter": "python",
   "pygments_lexer": "ipython3",
   "version": "3.6.5"
  }
 },
 "nbformat": 4,
 "nbformat_minor": 2
}
