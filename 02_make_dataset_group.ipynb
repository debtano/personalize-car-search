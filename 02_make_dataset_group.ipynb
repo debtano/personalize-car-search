{
 "cells": [
  {
   "cell_type": "markdown",
   "metadata": {},
   "source": [
    "# Make user, item, and interaction datasets\n",
    "This notebook creates the official Amazon Personalize dataset resources for the\n",
    "car search recommendations demo."
   ]
  },
  {
   "cell_type": "code",
   "execution_count": 22,
   "metadata": {},
   "outputs": [],
   "source": [
    "import json\n",
    "import boto3\n",
    "import time\n",
    "\n",
    "schema_version = 'v12'\n",
    "dataset_group_name = 'car-dg12'\n",
    "\n",
    "bucket      = '<your-bucket>'\n",
    "prefix      = 'personalize/' + schema_version\n",
    "region      = '<your-region>'\n",
    "account_num = '<your-account>'\n",
    "role_arn    = '<your-role-arn>'\n",
    "\n",
    "CAR_INTERACTION_SCHEMA_NAME = 'car-interactions-schema-' + schema_version\n",
    "CAR_INTERACTION_SCHEMA_ARN  = 'arn:aws:personalize:{}:{}:schema/'.format(region, account_num) + \\\n",
    "                                CAR_INTERACTION_SCHEMA_NAME\n",
    "    \n",
    "CAR_ITEM_SCHEMA_NAME = 'car-items-schema-' + schema_version\n",
    "CAR_ITEM_SCHEMA_ARN  = 'arn:aws:personalize:{}:{}:schema/'.format(region, account_num) + \\\n",
    "                                CAR_ITEM_SCHEMA_NAME\n",
    "\n",
    "CAR_USER_SCHEMA_NAME = 'car-users-schema-' + schema_version\n",
    "CAR_USER_SCHEMA_ARN  = 'arn:aws:personalize:{}:{}:schema/'.format(region, account_num) + \\\n",
    "                                CAR_USER_SCHEMA_NAME\n",
    "\n",
    "cars_filename         = 'car_items.csv'\n",
    "users_filename        = 'users.csv'\n",
    "interactions_filename = 'interactions.csv'\n",
    "\n",
    "MAX_WAIT_TIME = time.time() + 60*60 # 1 hour"
   ]
  },
  {
   "cell_type": "code",
   "execution_count": 23,
   "metadata": {},
   "outputs": [],
   "source": [
    "personalize = boto3.client('personalize')\n",
    "personalize_runtime = boto3.client('personalize-runtime')"
   ]
  },
  {
   "cell_type": "markdown",
   "metadata": {},
   "source": [
    "## Create the INTERACTIONS schema\n",
    "Create the INTERACTIONS schema if it is not in place already."
   ]
  },
  {
   "cell_type": "code",
   "execution_count": 24,
   "metadata": {},
   "outputs": [
    {
     "name": "stdout",
     "output_type": "stream",
     "text": [
      "Schema arn:aws:personalize:us-east-1:355151823911:schema/car-interactions-schema-v12 did not exist, creating it...\n",
      "{\n",
      "  \"schemaArn\": \"arn:aws:personalize:us-east-1:355151823911:schema/car-interactions-schema-v12\",\n",
      "  \"ResponseMetadata\": {\n",
      "    \"RequestId\": \"e92fa94b-e767-4d48-94fd-8f5189989add\",\n",
      "    \"HTTPStatusCode\": 200,\n",
      "    \"HTTPHeaders\": {\n",
      "      \"content-type\": \"application/x-amz-json-1.1\",\n",
      "      \"date\": \"Sun, 14 Jul 2019 20:33:01 GMT\",\n",
      "      \"x-amzn-requestid\": \"e92fa94b-e767-4d48-94fd-8f5189989add\",\n",
      "      \"content-length\": \"93\",\n",
      "      \"connection\": \"keep-alive\"\n",
      "    },\n",
      "    \"RetryAttempts\": 0\n",
      "  }\n",
      "}\n"
     ]
    }
   ],
   "source": [
    "try:\n",
    "    # first see if the schema is already in place\n",
    "    arn = CAR_INTERACTION_SCHEMA_ARN\n",
    "    response = personalize.describe_schema(schemaArn=arn)\n",
    "    interactions_schema_arn = response['schema']['schemaArn']\n",
    "    print(interactions_schema_arn)\n",
    "except Exception as e:\n",
    "    print('Schema {} did not exist, creating it...'.format(arn))\n",
    "    schema = {\n",
    "        \"type\": \"record\",\n",
    "        \"name\": \"Interactions\",\n",
    "        \"namespace\": \"com.amazonaws.personalize.schema\",\n",
    "        \"fields\": [\n",
    "            {\n",
    "                \"name\": \"USER_ID\",\n",
    "                \"type\": \"string\"\n",
    "            },\n",
    "            {\n",
    "                \"name\": \"ITEM_ID\",\n",
    "                \"type\": \"string\"\n",
    "            },\n",
    "            {\n",
    "                \"name\": \"TIMESTAMP\",\n",
    "                \"type\": \"long\"\n",
    "            }\n",
    "        ],\n",
    "        \"version\": \"1.0\"\n",
    "    }\n",
    "\n",
    "    create_schema_response = personalize.create_schema(\n",
    "        name   = CAR_INTERACTION_SCHEMA_NAME,\n",
    "        schema = json.dumps(schema)\n",
    "    )\n",
    "\n",
    "    interactions_schema_arn = create_schema_response['schemaArn']\n",
    "    print(json.dumps(create_schema_response, indent=2))"
   ]
  },
  {
   "cell_type": "markdown",
   "metadata": {},
   "source": [
    "## Create the ITEMS schema\n",
    "Create the ITEMS schema if it is not in place already."
   ]
  },
  {
   "cell_type": "code",
   "execution_count": 25,
   "metadata": {},
   "outputs": [
    {
     "name": "stdout",
     "output_type": "stream",
     "text": [
      "schema not found, creating new...\n",
      "{\n",
      "  \"schemaArn\": \"arn:aws:personalize:us-east-1:355151823911:schema/car-items-schema-v12\",\n",
      "  \"ResponseMetadata\": {\n",
      "    \"RequestId\": \"165ace4e-0960-4786-8a44-70da97c1951b\",\n",
      "    \"HTTPStatusCode\": 200,\n",
      "    \"HTTPHeaders\": {\n",
      "      \"content-type\": \"application/x-amz-json-1.1\",\n",
      "      \"date\": \"Sun, 14 Jul 2019 20:33:01 GMT\",\n",
      "      \"x-amzn-requestid\": \"165ace4e-0960-4786-8a44-70da97c1951b\",\n",
      "      \"content-length\": \"86\",\n",
      "      \"connection\": \"keep-alive\"\n",
      "    },\n",
      "    \"RetryAttempts\": 0\n",
      "  }\n",
      "}\n"
     ]
    }
   ],
   "source": [
    "try:\n",
    "    arn = CAR_ITEM_SCHEMA_ARN\n",
    "    response = personalize.describe_schema(schemaArn=arn)\n",
    "    items_schema_arn = response['schema']['schemaArn']\n",
    "    print(items_schema_arn)\n",
    "except Exception as e:\n",
    "    print('schema not found, creating new...')\n",
    "    schema = {\n",
    "        \"type\": \"record\",\n",
    "        \"name\": \"Items\",\n",
    "        \"namespace\": \"com.amazonaws.personalize.schema\",\n",
    "        \"fields\": [\n",
    "            {\n",
    "                \"name\": \"ITEM_ID\",\n",
    "                \"type\": \"string\"\n",
    "            },\n",
    "            {\n",
    "                \"name\": \"MAKE\",\n",
    "                \"type\": \"string\",\n",
    "                \"categorical\": True\n",
    "            },\n",
    "            {\n",
    "                \"name\": \"MODEL\",\n",
    "                \"type\": \"string\",\n",
    "                \"categorical\": True\n",
    "            },\n",
    "            {\n",
    "                \"name\": \"YEAR\",\n",
    "                \"type\": \"int\"\n",
    "            },\n",
    "            {\n",
    "                \"name\": \"MILEAGE\",\n",
    "                \"type\": \"int\"\n",
    "            },\n",
    "            {\n",
    "                \"name\": \"PRICE\",\n",
    "                \"type\": \"int\"\n",
    "            }\n",
    "            #,\n",
    "#            {\n",
    "#                \"name\": \"COLOR\",\n",
    "#                \"type\": \"string\",\n",
    "#                \"categorical\": True\n",
    "#            }#,  Max of 5 metadata columns is the Personalize limit for now\n",
    "    #        {\n",
    "    #            \"name\": \"LOCATION\",\n",
    "    #            \"type\": \"string\",\n",
    "    #            \"categorical\": True\n",
    "    #        }\n",
    "        ],\n",
    "        \"version\": \"1.0\"\n",
    "    }\n",
    "\n",
    "    create_schema_response = personalize.create_schema(\n",
    "        name   = CAR_ITEM_SCHEMA_NAME,\n",
    "        schema = json.dumps(schema)\n",
    "    )\n",
    "\n",
    "    items_schema_arn = create_schema_response['schemaArn']\n",
    "    print(json.dumps(create_schema_response, indent=2))"
   ]
  },
  {
   "cell_type": "markdown",
   "metadata": {},
   "source": [
    "## Create the USERS schema\n",
    "Create the USERS schema if it is not in place already."
   ]
  },
  {
   "cell_type": "code",
   "execution_count": 26,
   "metadata": {},
   "outputs": [
    {
     "name": "stdout",
     "output_type": "stream",
     "text": [
      "{\n",
      "  \"schemaArn\": \"arn:aws:personalize:us-east-1:355151823911:schema/car-users-schema-v12\",\n",
      "  \"ResponseMetadata\": {\n",
      "    \"RequestId\": \"bbb8a74d-a465-44ed-94e7-8b8f9a3a56b8\",\n",
      "    \"HTTPStatusCode\": 200,\n",
      "    \"HTTPHeaders\": {\n",
      "      \"content-type\": \"application/x-amz-json-1.1\",\n",
      "      \"date\": \"Sun, 14 Jul 2019 20:33:01 GMT\",\n",
      "      \"x-amzn-requestid\": \"bbb8a74d-a465-44ed-94e7-8b8f9a3a56b8\",\n",
      "      \"content-length\": \"86\",\n",
      "      \"connection\": \"keep-alive\"\n",
      "    },\n",
      "    \"RetryAttempts\": 0\n",
      "  }\n",
      "}\n"
     ]
    }
   ],
   "source": [
    "try:\n",
    "    arn = CAR_USER_SCHEMA_ARN\n",
    "    response = personalize.describe_schema(schemaArn=arn)\n",
    "    users_schema_arn = response['schema']['schemaArn']\n",
    "    print(users_schema_arn)\n",
    "except Exception as e:\n",
    "    schema = {\n",
    "        \"type\": \"record\",\n",
    "        \"name\": \"Users\",\n",
    "        \"namespace\": \"com.amazonaws.personalize.schema\",\n",
    "        \"fields\": [\n",
    "            {\n",
    "                \"name\": \"USER_ID\",\n",
    "                \"type\": \"string\"\n",
    "            },\n",
    "            {\n",
    "                \"name\": \"AGE\",\n",
    "                \"type\": \"int\"\n",
    "            },\n",
    "            {\n",
    "                \"name\": \"GENDER\",\n",
    "                \"type\": \"string\",\n",
    "                \"categorical\": True\n",
    "            },\n",
    "            {\n",
    "                \"name\": \"LOCATION\",\n",
    "                \"type\": \"string\",\n",
    "                \"categorical\": True\n",
    "            },\n",
    "            {\n",
    "                \"name\": \"SALARY\",\n",
    "                \"type\": \"int\"\n",
    "            }\n",
    "        ],\n",
    "        \"version\": \"1.0\"\n",
    "    }\n",
    "\n",
    "    create_schema_response = personalize.create_schema(\n",
    "        name   = CAR_USER_SCHEMA_NAME,\n",
    "        schema = json.dumps(schema)\n",
    "    )\n",
    "\n",
    "    users_schema_arn = create_schema_response['schemaArn']\n",
    "    print(json.dumps(create_schema_response, indent=2))"
   ]
  },
  {
   "cell_type": "markdown",
   "metadata": {},
   "source": [
    "## Create a dataset group and the datasets within it\n",
    "First delete the datasets and dataset group if they already exist. Then create the dataset\n",
    "group."
   ]
  },
  {
   "cell_type": "code",
   "execution_count": 27,
   "metadata": {},
   "outputs": [
    {
     "name": "stdout",
     "output_type": "stream",
     "text": [
      "Waiting for datasets to be deleted...\n",
      "Waiting for dataset group to be deleted...\n",
      "Creating new dataset group car-dg12\n",
      "{\n",
      "  \"datasetGroupArn\": \"arn:aws:personalize:us-east-1:355151823911:dataset-group/car-dg12\",\n",
      "  \"ResponseMetadata\": {\n",
      "    \"RequestId\": \"a1a38ffb-6a79-457b-a2e6-1a992d3d93ac\",\n",
      "    \"HTTPStatusCode\": 200,\n",
      "    \"HTTPHeaders\": {\n",
      "      \"content-type\": \"application/x-amz-json-1.1\",\n",
      "      \"date\": \"Sun, 14 Jul 2019 20:33:41 GMT\",\n",
      "      \"x-amzn-requestid\": \"a1a38ffb-6a79-457b-a2e6-1a992d3d93ac\",\n",
      "      \"content-length\": \"87\",\n",
      "      \"connection\": \"keep-alive\"\n",
      "    },\n",
      "    \"RetryAttempts\": 0\n",
      "  }\n",
      "}\n"
     ]
    }
   ],
   "source": [
    "try:\n",
    "    print('Deleting prior verions of the dataset...')\n",
    "    personalize.delete_dataset(datasetArn='arn:aws:personalize:{}:{}:dataset/{}/EVENT_INTERACTIONS'.format(region, account_num, dataset_group_name))\n",
    "    personalize.delete_dataset(datasetArn='arn:aws:personalize:{}:{}:dataset/{}/INTERACTIONS'.format(region, account_num, dataset_group_name))\n",
    "    personalize.delete_dataset(datasetArn='arn:aws:personalize:{}:{}:dataset/{}/ITEMS'.format(region, account_num, dataset_group_name))\n",
    "    personalize.delete_dataset(datasetArn='arn:aws:personalize:{}:{}:dataset/{}/USERS'.format(region, account_num, dataset_group_name))\n",
    "except Exception as e:\n",
    "    pass\n",
    "\n",
    "print('Waiting for datasets to be deleted...')\n",
    "time.sleep(20)\n",
    "\n",
    "try:\n",
    "    personalize.delete_dataset_group(datasetGroupArn='arn:aws:personalize:{}:{}:dataset-group/{}'.format(region, account_num, dataset_group_name))\n",
    "except Exception as e:\n",
    "    pass\n",
    "        \n",
    "print('Waiting for dataset group to be deleted...')\n",
    "time.sleep(20)\n",
    "\n",
    "print('\\nCreating new dataset group {}'.format(dataset_group_name))\n",
    "create_dataset_group_response = personalize.create_dataset_group(\n",
    "    name = dataset_group_name\n",
    ")\n",
    "\n",
    "dataset_group_arn = create_dataset_group_response['datasetGroupArn']\n",
    "print(json.dumps(create_dataset_group_response, indent=2))"
   ]
  },
  {
   "cell_type": "code",
   "execution_count": 28,
   "metadata": {},
   "outputs": [
    {
     "name": "stdout",
     "output_type": "stream",
     "text": [
      "DatasetGroup: CREATE PENDING\n",
      "DatasetGroup: ACTIVE\n"
     ]
    }
   ],
   "source": [
    "max_time = time.time() + MAX_WAIT_TIME\n",
    "while time.time() < max_time:\n",
    "    describe_dataset_group_response = personalize.describe_dataset_group(\n",
    "        datasetGroupArn = dataset_group_arn\n",
    "    )\n",
    "    status = describe_dataset_group_response['datasetGroup']['status']\n",
    "    print('DatasetGroup: {}'.format(status))\n",
    "    \n",
    "    if status == 'ACTIVE' or status == 'CREATE FAILED':\n",
    "        break\n",
    "        \n",
    "    time.sleep(60)"
   ]
  },
  {
   "cell_type": "markdown",
   "metadata": {},
   "source": [
    "### Create the INTERACTIONS dataset"
   ]
  },
  {
   "cell_type": "code",
   "execution_count": 29,
   "metadata": {},
   "outputs": [
    {
     "name": "stdout",
     "output_type": "stream",
     "text": [
      "{\n",
      "  \"datasetArn\": \"arn:aws:personalize:us-east-1:355151823911:dataset/car-dg12/INTERACTIONS\",\n",
      "  \"ResponseMetadata\": {\n",
      "    \"RequestId\": \"ac85d4cc-cb85-4513-a168-fb57913dd3bd\",\n",
      "    \"HTTPStatusCode\": 200,\n",
      "    \"HTTPHeaders\": {\n",
      "      \"content-type\": \"application/x-amz-json-1.1\",\n",
      "      \"date\": \"Sun, 14 Jul 2019 20:34:42 GMT\",\n",
      "      \"x-amzn-requestid\": \"ac85d4cc-cb85-4513-a168-fb57913dd3bd\",\n",
      "      \"content-length\": \"89\",\n",
      "      \"connection\": \"keep-alive\"\n",
      "    },\n",
      "    \"RetryAttempts\": 0\n",
      "  }\n",
      "}\n"
     ]
    }
   ],
   "source": [
    "dataset_type = 'INTERACTIONS'\n",
    "create_dataset_response = personalize.create_dataset(\n",
    "    name = 'car-interactions',\n",
    "    datasetType = dataset_type,\n",
    "    datasetGroupArn = dataset_group_arn,\n",
    "    schemaArn = interactions_schema_arn\n",
    ")\n",
    "\n",
    "interactions_dataset_arn = create_dataset_response['datasetArn']\n",
    "print(json.dumps(create_dataset_response, indent=2))"
   ]
  },
  {
   "cell_type": "code",
   "execution_count": 30,
   "metadata": {},
   "outputs": [
    {
     "name": "stdout",
     "output_type": "stream",
     "text": [
      "arn:aws:personalize:us-east-1:355151823911:schema/car-items-schema-v12\n",
      "arn:aws:personalize:us-east-1:355151823911:dataset-group/car-dg12\n"
     ]
    }
   ],
   "source": [
    "print(items_schema_arn)\n",
    "print(dataset_group_arn)"
   ]
  },
  {
   "cell_type": "markdown",
   "metadata": {},
   "source": [
    "### Create the ITEMS dataset"
   ]
  },
  {
   "cell_type": "code",
   "execution_count": 31,
   "metadata": {},
   "outputs": [
    {
     "name": "stdout",
     "output_type": "stream",
     "text": [
      "{\n",
      "  \"datasetArn\": \"arn:aws:personalize:us-east-1:355151823911:dataset/car-dg12/ITEMS\",\n",
      "  \"ResponseMetadata\": {\n",
      "    \"RequestId\": \"ef7fe112-f08b-412f-955e-a3b7e43591a2\",\n",
      "    \"HTTPStatusCode\": 200,\n",
      "    \"HTTPHeaders\": {\n",
      "      \"content-type\": \"application/x-amz-json-1.1\",\n",
      "      \"date\": \"Sun, 14 Jul 2019 20:34:42 GMT\",\n",
      "      \"x-amzn-requestid\": \"ef7fe112-f08b-412f-955e-a3b7e43591a2\",\n",
      "      \"content-length\": \"82\",\n",
      "      \"connection\": \"keep-alive\"\n",
      "    },\n",
      "    \"RetryAttempts\": 0\n",
      "  }\n",
      "}\n"
     ]
    }
   ],
   "source": [
    "dataset_type = 'ITEMS'\n",
    "create_dataset_response = personalize.create_dataset(\n",
    "    name = 'car-items',\n",
    "    datasetType = dataset_type,\n",
    "    datasetGroupArn = dataset_group_arn,\n",
    "    schemaArn = items_schema_arn\n",
    ")\n",
    "\n",
    "items_dataset_arn = create_dataset_response['datasetArn']\n",
    "print(json.dumps(create_dataset_response, indent=2))"
   ]
  },
  {
   "cell_type": "markdown",
   "metadata": {},
   "source": [
    "### Create the USERS dataset"
   ]
  },
  {
   "cell_type": "code",
   "execution_count": 32,
   "metadata": {},
   "outputs": [
    {
     "name": "stdout",
     "output_type": "stream",
     "text": [
      "{\n",
      "  \"datasetArn\": \"arn:aws:personalize:us-east-1:355151823911:dataset/car-dg12/USERS\",\n",
      "  \"ResponseMetadata\": {\n",
      "    \"RequestId\": \"2f954b6e-1bba-4b34-9e07-cf19879406ac\",\n",
      "    \"HTTPStatusCode\": 200,\n",
      "    \"HTTPHeaders\": {\n",
      "      \"content-type\": \"application/x-amz-json-1.1\",\n",
      "      \"date\": \"Sun, 14 Jul 2019 20:34:42 GMT\",\n",
      "      \"x-amzn-requestid\": \"2f954b6e-1bba-4b34-9e07-cf19879406ac\",\n",
      "      \"content-length\": \"82\",\n",
      "      \"connection\": \"keep-alive\"\n",
      "    },\n",
      "    \"RetryAttempts\": 0\n",
      "  }\n",
      "}\n"
     ]
    }
   ],
   "source": [
    "dataset_type = 'USERS'\n",
    "create_dataset_response = personalize.create_dataset(\n",
    "    name = 'car-users',\n",
    "    datasetType = dataset_type,\n",
    "    datasetGroupArn = dataset_group_arn,\n",
    "    schemaArn = users_schema_arn\n",
    ")\n",
    "\n",
    "users_dataset_arn = create_dataset_response['datasetArn']\n",
    "print(json.dumps(create_dataset_response, indent=2))"
   ]
  },
  {
   "cell_type": "markdown",
   "metadata": {},
   "source": [
    "## Create an import job for each of the datasets"
   ]
  },
  {
   "cell_type": "code",
   "execution_count": 33,
   "metadata": {},
   "outputs": [
    {
     "name": "stdout",
     "output_type": "stream",
     "text": [
      "{\n",
      "  \"datasetImportJobArn\": \"arn:aws:personalize:us-east-1:355151823911:dataset-import-job/car-dg12-car-interactions-import\",\n",
      "  \"ResponseMetadata\": {\n",
      "    \"RequestId\": \"b2e3dd1d-3ddf-44c8-b13b-111e31cc40a7\",\n",
      "    \"HTTPStatusCode\": 200,\n",
      "    \"HTTPHeaders\": {\n",
      "      \"content-type\": \"application/x-amz-json-1.1\",\n",
      "      \"date\": \"Sun, 14 Jul 2019 20:34:42 GMT\",\n",
      "      \"x-amzn-requestid\": \"b2e3dd1d-3ddf-44c8-b13b-111e31cc40a7\",\n",
      "      \"content-length\": \"120\",\n",
      "      \"connection\": \"keep-alive\"\n",
      "    },\n",
      "    \"RetryAttempts\": 0\n",
      "  }\n",
      "}\n"
     ]
    }
   ],
   "source": [
    "create_dataset_import_job_response = personalize.create_dataset_import_job(\n",
    "    jobName = '{}-car-interactions-import'.format(dataset_group_name),\n",
    "    datasetArn = interactions_dataset_arn,\n",
    "    dataSource = {\n",
    "        \"dataLocation\": \"s3://{}/{}/{}\".format(bucket, prefix, interactions_filename)\n",
    "    },\n",
    "    roleArn = role_arn\n",
    ")\n",
    "\n",
    "interactions_dataset_import_job_arn = create_dataset_import_job_response['datasetImportJobArn']\n",
    "print(json.dumps(create_dataset_import_job_response, indent=2))"
   ]
  },
  {
   "cell_type": "code",
   "execution_count": 34,
   "metadata": {},
   "outputs": [
    {
     "name": "stdout",
     "output_type": "stream",
     "text": [
      "{\n",
      "  \"datasetImportJobArn\": \"arn:aws:personalize:us-east-1:355151823911:dataset-import-job/car-dg12-car-items-import\",\n",
      "  \"ResponseMetadata\": {\n",
      "    \"RequestId\": \"c49b17e1-9657-4912-bee3-e1b6f2329415\",\n",
      "    \"HTTPStatusCode\": 200,\n",
      "    \"HTTPHeaders\": {\n",
      "      \"content-type\": \"application/x-amz-json-1.1\",\n",
      "      \"date\": \"Sun, 14 Jul 2019 20:34:42 GMT\",\n",
      "      \"x-amzn-requestid\": \"c49b17e1-9657-4912-bee3-e1b6f2329415\",\n",
      "      \"content-length\": \"113\",\n",
      "      \"connection\": \"keep-alive\"\n",
      "    },\n",
      "    \"RetryAttempts\": 0\n",
      "  }\n",
      "}\n"
     ]
    }
   ],
   "source": [
    "create_dataset_import_job_response = personalize.create_dataset_import_job(\n",
    "    jobName = '{}-car-items-import'.format(dataset_group_name),\n",
    "    datasetArn = items_dataset_arn,\n",
    "    dataSource = {\n",
    "        'dataLocation': 's3://{}/{}/{}'.format(bucket, prefix, cars_filename)\n",
    "    },\n",
    "    roleArn = role_arn\n",
    ")\n",
    "\n",
    "items_dataset_import_job_arn = create_dataset_import_job_response['datasetImportJobArn']\n",
    "print(json.dumps(create_dataset_import_job_response, indent=2))"
   ]
  },
  {
   "cell_type": "code",
   "execution_count": 35,
   "metadata": {},
   "outputs": [
    {
     "name": "stdout",
     "output_type": "stream",
     "text": [
      "{\n",
      "  \"datasetImportJobArn\": \"arn:aws:personalize:us-east-1:355151823911:dataset-import-job/car-dg12-car-users-import\",\n",
      "  \"ResponseMetadata\": {\n",
      "    \"RequestId\": \"1c20bd3e-5c9b-4752-95ac-d091d6e948a0\",\n",
      "    \"HTTPStatusCode\": 200,\n",
      "    \"HTTPHeaders\": {\n",
      "      \"content-type\": \"application/x-amz-json-1.1\",\n",
      "      \"date\": \"Sun, 14 Jul 2019 20:34:43 GMT\",\n",
      "      \"x-amzn-requestid\": \"1c20bd3e-5c9b-4752-95ac-d091d6e948a0\",\n",
      "      \"content-length\": \"113\",\n",
      "      \"connection\": \"keep-alive\"\n",
      "    },\n",
      "    \"RetryAttempts\": 0\n",
      "  }\n",
      "}\n"
     ]
    }
   ],
   "source": [
    "create_dataset_import_job_response = personalize.create_dataset_import_job(\n",
    "    jobName = '{}-car-users-import'.format(dataset_group_name),\n",
    "    datasetArn = users_dataset_arn,\n",
    "    dataSource = {\n",
    "        'dataLocation': 's3://{}/{}/{}'.format(bucket, prefix, users_filename)\n",
    "    },\n",
    "    roleArn = role_arn\n",
    ")\n",
    "\n",
    "users_dataset_import_job_arn = create_dataset_import_job_response['datasetImportJobArn']\n",
    "print(json.dumps(create_dataset_import_job_response, indent=2))"
   ]
  },
  {
   "cell_type": "markdown",
   "metadata": {},
   "source": [
    "### Wait for the dataset import jobs to complete"
   ]
  },
  {
   "cell_type": "code",
   "execution_count": 39,
   "metadata": {},
   "outputs": [
    {
     "name": "stdout",
     "output_type": "stream",
     "text": [
      "Waiting for ITEMS data import to complete...\n",
      "DatasetImportJob: ACTIVE\n"
     ]
    }
   ],
   "source": [
    "print('Waiting for ITEMS data import to complete...')\n",
    "max_time = time.time() + MAX_WAIT_TIME\n",
    "while time.time() < max_time:\n",
    "    describe_dataset_import_job_response = personalize.describe_dataset_import_job(\n",
    "        datasetImportJobArn = items_dataset_import_job_arn\n",
    "    )\n",
    "    status = describe_dataset_import_job_response['datasetImportJob']['status']\n",
    "    print('DatasetImportJob: {}'.format(status))\n",
    "    \n",
    "    if status == 'ACTIVE' or status == 'CREATE FAILED':\n",
    "        break\n",
    "        \n",
    "    time.sleep(60)\n",
    "    if status == 'ACTIVE':\n",
    "        print('ITEMS dataset is ACTIVE.')"
   ]
  },
  {
   "cell_type": "code",
   "execution_count": 37,
   "metadata": {},
   "outputs": [
    {
     "name": "stdout",
     "output_type": "stream",
     "text": [
      "DatasetImportJob: CREATE IN_PROGRESS\n",
      "DatasetImportJob: ACTIVE\n"
     ]
    }
   ],
   "source": [
    "print('Waiting for USERS data import to complete...')\n",
    "max_time = time.time() + MAX_WAIT_TIME\n",
    "while time.time() < max_time:\n",
    "    describe_dataset_import_job_response = personalize.describe_dataset_import_job(\n",
    "        datasetImportJobArn = users_dataset_import_job_arn\n",
    "    )\n",
    "    status = describe_dataset_import_job_response['datasetImportJob']['status']\n",
    "    print('DatasetImportJob: {}'.format(status))\n",
    "    \n",
    "    if status == 'ACTIVE' or status == 'CREATE FAILED':\n",
    "        break\n",
    "        \n",
    "    time.sleep(60)\n",
    "    if status == 'ACTIVE':\n",
    "        print('USERS dataset is ACTIVE.')"
   ]
  },
  {
   "cell_type": "code",
   "execution_count": 38,
   "metadata": {},
   "outputs": [
    {
     "name": "stdout",
     "output_type": "stream",
     "text": [
      "DatasetImportJob: ACTIVE\n"
     ]
    }
   ],
   "source": [
    "print('Waiting for INTERACTIONS data import to complete...')\n",
    "max_time = time.time() + MAX_WAIT_TIME\n",
    "while time.time() < max_time:\n",
    "    describe_dataset_import_job_response = personalize.describe_dataset_import_job(\n",
    "        datasetImportJobArn = interactions_dataset_import_job_arn\n",
    "    )\n",
    "    status = describe_dataset_import_job_response['datasetImportJob']['status']\n",
    "    print('DatasetImportJob: {}'.format(status))\n",
    "    \n",
    "    if status == 'ACTIVE' or status == 'CREATE FAILED':\n",
    "        break\n",
    "        \n",
    "    time.sleep(60)\n",
    "    if status == 'ACTIVE':\n",
    "        print('INTERACTIONS dataset is ACTIVE.')"
   ]
  },
  {
   "cell_type": "code",
   "execution_count": null,
   "metadata": {},
   "outputs": [],
   "source": []
  }
 ],
 "metadata": {
  "kernelspec": {
   "display_name": "conda_python3",
   "language": "python",
   "name": "conda_python3"
  },
  "language_info": {
   "codemirror_mode": {
    "name": "ipython",
    "version": 3
   },
   "file_extension": ".py",
   "mimetype": "text/x-python",
   "name": "python",
   "nbconvert_exporter": "python",
   "pygments_lexer": "ipython3",
   "version": "3.6.5"
  }
 },
 "nbformat": 4,
 "nbformat_minor": 2
}
