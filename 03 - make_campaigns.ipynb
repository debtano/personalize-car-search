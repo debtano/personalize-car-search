{
 "cells": [
  {
   "cell_type": "code",
   "execution_count": 9,
   "metadata": {},
   "outputs": [],
   "source": [
    "import json\n",
    "import boto3\n",
    "import time\n",
    "\n",
    "cars_filename         = 'car_items.csv'\n",
    "users_filename        = 'users.csv'\n",
    "interactions_filename = 'interactions.csv'\n",
    "\n",
    "account_num = <your-account>\n",
    "dataset_group_name = 'car-dg10'\n",
    "\n",
    "dataset_group_arn = 'arn:aws:personalize:us-east-1:{}:dataset-group/{}'.format(account_num, dataset_group_name)\n",
    "\n",
    "MAX_WAIT_TIME = 60*60 # 1 hour\n",
    "\n",
    "role_arn = '<your-role>'"
   ]
  },
  {
   "cell_type": "code",
   "execution_count": 10,
   "metadata": {},
   "outputs": [],
   "source": [
    "personalize = boto3.client('personalize')\n",
    "personalize_runtime = boto3.client('personalize-runtime')"
   ]
  },
  {
   "cell_type": "code",
   "execution_count": 12,
   "metadata": {},
   "outputs": [],
   "source": [
    "def make_campaign(recipe_arn, name, dataset_group_arn):\n",
    "    print('Entered make_campaign for {}'.format(name))\n",
    "    create_solution_response = personalize.create_solution(\n",
    "        name = name,\n",
    "        datasetGroupArn = dataset_group_arn,\n",
    "        recipeArn = recipe_arn\n",
    "    )\n",
    "    solution_arn = create_solution_response['solutionArn']\n",
    "    print('created solution: {}'.format(solution_arn))\n",
    "\n",
    "    create_solution_version_response = personalize.create_solution_version(\n",
    "        solutionArn = solution_arn\n",
    "    )\n",
    "    solution_version_arn = create_solution_version_response['solutionVersionArn']\n",
    "    print('Waiting for solution version to become active...')\n",
    "    latest_time = time.time() + MAX_WAIT_TIME\n",
    "    while time.time() < latest_time:\n",
    "        describe_solution_version_response = personalize.describe_solution_version(\n",
    "            solutionVersionArn = solution_version_arn\n",
    "        )\n",
    "        status = describe_solution_version_response['solutionVersion']['status']\n",
    "        print('SolutionVersion: {}'.format(status))\n",
    "\n",
    "        if status == 'ACTIVE' or status == 'CREATE FAILED':\n",
    "            if status == 'CREATE FAILED':\n",
    "                print('*** Solution Version Create failed ***')\n",
    "            break\n",
    "\n",
    "        time.sleep(60)\n",
    "    get_solution_metrics_response = personalize.get_solution_metrics(\n",
    "        solutionVersionArn = solution_version_arn\n",
    "    )\n",
    "\n",
    "    print(json.dumps(get_solution_metrics_response, indent=2))    \n",
    "\n",
    "    create_campaign_response = personalize.create_campaign(\n",
    "        name = name,\n",
    "        solutionVersionArn = solution_version_arn,\n",
    "        minProvisionedTPS = 1\n",
    "    )\n",
    "    campaign_arn = create_campaign_response['campaignArn']\n",
    "    print('Waiting for campaign to become active...')\n",
    "\n",
    "    latest_time = time.time() + MAX_WAIT_TIME\n",
    "    while time.time() < latest_time:\n",
    "        describe_campaign_response = personalize.describe_campaign(\n",
    "            campaignArn = campaign_arn\n",
    "        )\n",
    "        status = describe_campaign_response['campaign']['status']\n",
    "        print('Campaign: {}'.format(status))\n",
    "\n",
    "        if status == 'ACTIVE' or status == 'CREATE FAILED':\n",
    "            break\n",
    "\n",
    "        time.sleep(60)\n",
    "        \n",
    "    print('Exiting make_campaign for {}'.format(name))\n",
    "    return(solution_arn, solution_version_arn, campaign_arn)"
   ]
  },
  {
   "cell_type": "code",
   "execution_count": null,
   "metadata": {},
   "outputs": [],
   "source": [
    "make_campaign('arn:aws:personalize:::recipe/aws-hrnn', 'car-hrnn', dataset_group_arn)"
   ]
  },
  {
   "cell_type": "code",
   "execution_count": null,
   "metadata": {},
   "outputs": [],
   "source": [
    "make_campaign('arn:aws:personalize:::recipe/aws-sims', 'car-sims', dataset_group_arn)"
   ]
  },
  {
   "cell_type": "code",
   "execution_count": null,
   "metadata": {},
   "outputs": [],
   "source": [
    "make_campaign('arn:aws:personalize:::recipe/aws-personalized-ranking', 'car-personalized-ranking', dataset_group_arn)"
   ]
  },
  {
   "cell_type": "code",
   "execution_count": 27,
   "metadata": {},
   "outputs": [],
   "source": [
    "#make_campaign('arn:aws:personalize:::recipe/aws-hrnn-metadata', 'car-hrnn-metadata', dataset_group_arn)"
   ]
  },
  {
   "cell_type": "code",
   "execution_count": 13,
   "metadata": {},
   "outputs": [],
   "source": [
    "from multiprocessing import Process\n",
    "\n",
    "def make_campaigns_in_parallel(campaigns, dg_arn):\n",
    "    jobs = []\n",
    "    for i in campaigns:\n",
    "        p = Process(target = make_campaign, args=(i[0], i[1], dg_arn))\n",
    "        jobs.append(p)\n",
    "        \n",
    "    for p in jobs:\n",
    "        p.start()\n",
    "        \n",
    "    for p in jobs:\n",
    "        p.join():"
   ]
  },
  {
   "cell_type": "code",
   "execution_count": null,
   "metadata": {},
   "outputs": [],
   "source": [
    "campaigns = [['arn:aws:personalize:::recipe/aws-personalized-ranking', 'car-personalized-ranking'],\n",
    "             ['arn:aws:personalize:::recipe/aws-sims',                 'car-sims'],\n",
    "             ['arn:aws:personalize:::recipe/aws-popularity-count',     'car-popularity-count'],\n",
    "             ['arn:aws:personalize:::recipe/aws-hrnn-metadata',        'car-hrnn-metadata'],\n",
    "             ['arn:aws:personalize:::recipe/aws-hrnn',                 'car-hrnn']\n",
    "            ]\n",
    "print(dataset_group_arn)\n",
    "#make_campaigns_in_parallel(campaigns, dataset_group_arn)"
   ]
  },
  {
   "cell_type": "code",
   "execution_count": null,
   "metadata": {},
   "outputs": [],
   "source": []
  }
 ],
 "metadata": {
  "kernelspec": {
   "display_name": "conda_python3",
   "language": "python",
   "name": "conda_python3"
  },
  "language_info": {
   "codemirror_mode": {
    "name": "ipython",
    "version": 3
   },
   "file_extension": ".py",
   "mimetype": "text/x-python",
   "name": "python",
   "nbconvert_exporter": "python",
   "pygments_lexer": "ipython3",
   "version": "3.6.5"
  }
 },
 "nbformat": 4,
 "nbformat_minor": 2
}
