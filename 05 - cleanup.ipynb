{
 "cells": [
  {
   "cell_type": "code",
   "execution_count": 80,
   "metadata": {},
   "outputs": [],
   "source": [
    "import json\n",
    "import boto3\n",
    "import time\n",
    "\n",
    "cars_filename         = 'car_items.csv'\n",
    "users_filename        = 'users.csv'\n",
    "interactions_filename = 'interactions.csv'\n",
    "\n",
    "dataset_group_arn = 'arn:aws:personalize:us-east-1:355151823911:dataset-group/car-dg10'\n",
    "\n",
    "MAX_WAIT_TIME = time.time() + 3*60*60 # 3 hours\n",
    "\n",
    "role_arn = 'arn:aws:iam::355151823911:role/PersonalizeS3Role'"
   ]
  },
  {
   "cell_type": "code",
   "execution_count": 81,
   "metadata": {},
   "outputs": [],
   "source": [
    "personalize = boto3.client('personalize')\n",
    "personalize_runtime = boto3.client('personalize-runtime')"
   ]
  },
  {
   "cell_type": "code",
   "execution_count": 82,
   "metadata": {},
   "outputs": [],
   "source": [
    "def delete_campaign(c):\n",
    "    try:\n",
    "        personalize.delete_campaign(campaignArn = c)\n",
    "    except Exception as e:\n",
    "        pass\n",
    "        \n",
    "def delete_campaigns():\n",
    "    delete_campaign('arn:aws:personalize:us-east-1:355151823911:campaign/car-personalized-ranking')\n",
    "    delete_campaign('arn:aws:personalize:us-east-1:355151823911:campaign/car-popularity')\n",
    "    delete_campaign('arn:aws:personalize:us-east-1:355151823911:campaign/car-sims')\n",
    "    delete_campaign('arn:aws:personalize:us-east-1:355151823911:campaign/car-hrnn')"
   ]
  },
  {
   "cell_type": "code",
   "execution_count": 83,
   "metadata": {},
   "outputs": [],
   "source": [
    "def delete_solution(s):\n",
    "    try:\n",
    "        personalize.delete_solution(solutionArn = s)\n",
    "    except Exception as e:\n",
    "        pass\n",
    "    \n",
    "def delete_solutions():\n",
    "    delete_solution('arn:aws:personalize:us-east-1:355151823911:solution/car-hrnn')\n",
    "    delete_solution('arn:aws:personalize:us-east-1:355151823911:solution/car-popularity')\n",
    "    delete_solution('arn:aws:personalize:us-east-1:355151823911:solution/car-sims')\n",
    "    delete_solution('arn:aws:personalize:us-east-1:355151823911:solution/car-personalized-ranking')    "
   ]
  },
  {
   "cell_type": "code",
   "execution_count": 84,
   "metadata": {},
   "outputs": [],
   "source": [
    "delete_campaigns()"
   ]
  },
  {
   "cell_type": "code",
   "execution_count": 85,
   "metadata": {},
   "outputs": [],
   "source": [
    "time.sleep(30)"
   ]
  },
  {
   "cell_type": "code",
   "execution_count": 86,
   "metadata": {},
   "outputs": [],
   "source": [
    "delete_solutions()"
   ]
  },
  {
   "cell_type": "code",
   "execution_count": 87,
   "metadata": {},
   "outputs": [],
   "source": [
    "#delete_campaign('arn:aws:personalize:us-east-1:355151823911:campaign/car-popularity')"
   ]
  },
  {
   "cell_type": "code",
   "execution_count": 88,
   "metadata": {},
   "outputs": [],
   "source": [
    "resp = personalize.list_event_trackers()\n",
    "trackers = resp['eventTrackers']\n",
    "for i in range(len(trackers)):\n",
    "    print('name: {}, arn: {}'.format(trackers[i]['name'], trackers[i]['eventTrackerArn']))\n",
    "    personalize.delete_event_tracker(eventTrackerArn=trackers[i]['eventTrackerArn'])"
   ]
  },
  {
   "cell_type": "code",
   "execution_count": 89,
   "metadata": {},
   "outputs": [],
   "source": [
    "delete_campaign('arn:aws:personalize:us-east-1:355151823911:campaign/car-sims')"
   ]
  }
 ],
 "metadata": {
  "kernelspec": {
   "display_name": "conda_python3",
   "language": "python",
   "name": "conda_python3"
  },
  "language_info": {
   "codemirror_mode": {
    "name": "ipython",
    "version": 3
   },
   "file_extension": ".py",
   "mimetype": "text/x-python",
   "name": "python",
   "nbconvert_exporter": "python",
   "pygments_lexer": "ipython3",
   "version": "3.6.5"
  }
 },
 "nbformat": 4,
 "nbformat_minor": 2
}
