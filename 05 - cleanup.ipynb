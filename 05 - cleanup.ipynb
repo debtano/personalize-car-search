{
 "cells": [
  {
   "cell_type": "markdown",
   "metadata": {},
   "source": [
    "# Clean up Amazon Personalize resources\n",
    "This notebook deletes the set of solutions (along with their corresponding\n",
    "solution versions) and campaigns from Amazon Personalize. It also deletes the event tracker.\n",
    "\n",
    "Note that the datasets and the dataset group are left in place, as they may be reused. The monthly charges for ongoing storage of imported data, and the data we uploaded to S3, \n",
    "are relatively inexpensive."
   ]
  },
  {
   "cell_type": "code",
   "execution_count": 9,
   "metadata": {},
   "outputs": [],
   "source": [
    "import json\n",
    "import boto3\n",
    "import time\n",
    "\n",
    "cars_filename         = 'car_items.csv'\n",
    "users_filename        = 'users.csv'\n",
    "interactions_filename = 'interactions.csv'\n",
    "\n",
    "region      = '<region>'\n",
    "account_num = '<your-account>'\n",
    "role_arn    = '<your-role>'\n",
    "\n",
    "dataset_group_name = 'car-dg10'\n",
    "dataset_group_arn = 'arn:aws:personalize:{}:{}:dataset-group/{}'.format(region, \n",
    "                                                                        account_num, \n",
    "                                                                        dataset_group_name)\n",
    "\n",
    "MAX_WAIT_TIME = time.time() + 3*60*60 # 3 hours"
   ]
  },
  {
   "cell_type": "code",
   "execution_count": 10,
   "metadata": {},
   "outputs": [],
   "source": [
    "personalize = boto3.client('personalize')\n",
    "personalize_runtime = boto3.client('personalize-runtime')"
   ]
  },
  {
   "cell_type": "markdown",
   "metadata": {},
   "source": [
    "## Define functions to delete campaigns and solutions"
   ]
  },
  {
   "cell_type": "code",
   "execution_count": 11,
   "metadata": {},
   "outputs": [],
   "source": [
    "def delete_campaign(c):\n",
    "    try:\n",
    "        personalize.delete_campaign(campaignArn = c)\n",
    "    except Exception as e:\n",
    "        pass\n",
    "        \n",
    "def delete_campaigns():\n",
    "    delete_campaign('arn:aws:personalize:{}:{}:campaign/car-personalized-ranking'.format(region, account_num))\n",
    "    delete_campaign('arn:aws:personalize:{}:{}:campaign/car-popularity'.format(region, account_num))\n",
    "    delete_campaign('arn:aws:personalize:{}:{}:campaign/car-sims'.format(region, account_num))\n",
    "    delete_campaign('arn:aws:personalize:{}:{}:campaign/car-hrnn'.format(region, account_num))\n",
    "    delete_campaign('arn:aws:personalize:{}:{}:campaign/car-hrnn-metadata'.format(region, account_num))"
   ]
  },
  {
   "cell_type": "code",
   "execution_count": 12,
   "metadata": {},
   "outputs": [],
   "source": [
    "def delete_solution(s):\n",
    "    try:\n",
    "        personalize.delete_solution(solutionArn = s)\n",
    "    except Exception as e:\n",
    "        pass\n",
    "    \n",
    "def delete_solutions():\n",
    "    delete_solution('arn:aws:personalize:{}:{}:solution/car-hrnn'.format(region, account_num))\n",
    "    delete_solution('arn:aws:personalize:{}:{}:solution/car-hrnn-metadata'.format(region, account_num))\n",
    "    delete_solution('arn:aws:personalize:{}:{}:solution/car-popularity'.format(region, account_num))\n",
    "    delete_solution('arn:aws:personalize:{}:{}:solution/car-sims'.format(region, account_num))\n",
    "    delete_solution('arn:aws:personalize:{}:{}:solution/car-personalized-ranking'.format(region, account_num))    "
   ]
  },
  {
   "cell_type": "markdown",
   "metadata": {},
   "source": [
    "## Do the actual cleanup"
   ]
  },
  {
   "cell_type": "code",
   "execution_count": 13,
   "metadata": {},
   "outputs": [],
   "source": [
    "delete_campaigns()"
   ]
  },
  {
   "cell_type": "code",
   "execution_count": 14,
   "metadata": {},
   "outputs": [],
   "source": [
    "time.sleep(30)"
   ]
  },
  {
   "cell_type": "code",
   "execution_count": 15,
   "metadata": {},
   "outputs": [],
   "source": [
    "delete_solutions()"
   ]
  },
  {
   "cell_type": "code",
   "execution_count": 16,
   "metadata": {},
   "outputs": [],
   "source": [
    "resp = personalize.list_event_trackers()\n",
    "trackers = resp['eventTrackers']\n",
    "for i in range(len(trackers)):\n",
    "    print('name: {}, arn: {}'.format(trackers[i]['name'], trackers[i]['eventTrackerArn']))\n",
    "    personalize.delete_event_tracker(eventTrackerArn=trackers[i]['eventTrackerArn'])"
   ]
  }
 ],
 "metadata": {
  "kernelspec": {
   "display_name": "conda_python3",
   "language": "python",
   "name": "conda_python3"
  },
  "language_info": {
   "codemirror_mode": {
    "name": "ipython",
    "version": 3
   },
   "file_extension": ".py",
   "mimetype": "text/x-python",
   "name": "python",
   "nbconvert_exporter": "python",
   "pygments_lexer": "ipython3",
   "version": "3.6.5"
  }
 },
 "nbformat": 4,
 "nbformat_minor": 2
}
